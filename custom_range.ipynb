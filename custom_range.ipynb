{
  "nbformat": 4,
  "nbformat_minor": 0,
  "metadata": {
    "colab": {
      "name": "custom_range.ipynb",
      "provenance": [],
      "collapsed_sections": [
        "WgNOpz-t13yH"
      ],
      "authorship_tag": "ABX9TyOjl6VIhQZ70E+3zo1eP/oI"
    },
    "kernelspec": {
      "name": "python3",
      "display_name": "Python 3"
    },
    "language_info": {
      "name": "python"
    }
  },
  "cells": [
    {
      "cell_type": "markdown",
      "source": [
        "`range` `class` `dunder methods` `iterator` `exceptions`"
      ],
      "metadata": {
        "id": "8zpBEaEkg9vY"
      }
    },
    {
      "cell_type": "code",
      "metadata": {
        "id": "r2avJY33ufUq"
      },
      "source": [
        "# Место для вашего имени.\n",
        "# Пожалуйста, также назовите нормально колаб, который присылаете\n",
        "# (добавьте фамилию, уберите слова вроде \"копия\")"
      ],
      "execution_count": null,
      "outputs": []
    },
    {
      "cell_type": "markdown",
      "metadata": {
        "id": "9vsetMm311Ge"
      },
      "source": [
        "### Чё и как"
      ]
    },
    {
      "cell_type": "markdown",
      "metadata": {
        "id": "-yTLXk-YwXfL"
      },
      "source": [
        "Ваша задача -- реализовать класс `CustomRange` (и необходимый для него класс `CustomRangeIterator`, если он, конечно, необходим. Про него мы поговорим во вторник 21.09).\n",
        "\n",
        "Дедлайн -- 29.09, среда 22:59 МСК. Тесты для задания появятся 23.09 в четверг, но задание можно делать уже сейчас!\n",
        "\n",
        "За это задание вы можете получить до `100` баллов:\n",
        "- `50` баллов, если напишете код, который проходит все тесты, кроме тестов на `.count()` и `.index()` (частичный проход тестов не даёт баллов).\n",
        "- `10` баллов, если ваш код будет полностью удовлетворять `pylint` и `flake8` за исключением ошибок `R0903, C0123` (`max-line-length=100`).\n",
        "- `25, 20 или 10` баллов, если сможете сдать задачу (за исключением методов `.count()` и `.index()`) до того, как появятся тесты:\n",
        " - чтобы сделать это, вам нужно прислать мне в телеграм ваш файл `custom_range.py`. Я запущу тесты и скажу, какие методы вам нужно исправить. И так можно повторять, пока не сдадите/пока не надоест/пока мне не надоест/пока не наступит 23.09 :)\n",
        " - `25` баллов -- если сдадите до ПН 20.09 23:59\n",
        " - `20` баллов -- если сдадите до ВТ 21.09 23:59\n",
        " - `10` баллов -- если сдадите до СР 22.09 23:59\n",
        "- `15` баллов, если дополнительно реализуете методы `CustomRange.count()` и `CustomRange.index()` (они тоже должны работать за константное время)."
      ]
    },
    {
      "cell_type": "markdown",
      "metadata": {
        "id": "WgNOpz-t13yH"
      },
      "source": [
        "### Файл с вашим кодом"
      ]
    },
    {
      "cell_type": "code",
      "metadata": {
        "colab": {
          "base_uri": "https://localhost:8080/"
        },
        "id": "zOqwiR3My7ql",
        "outputId": "a0993429-f5df-4ce7-a255-74d6e7f4af7d"
      },
      "source": [
        "%%file custom_range.py\n",
        "\"\"\"\n",
        "В этом модуле находится реализация класса CustomRange,\n",
        "который повторяет поведение range из Python 3.\n",
        "\"\"\"\n",
        "from typing import Iterator\n",
        "\n",
        "\n",
        "class CustomRangeIterator(Iterator[int]):\n",
        "    \"\"\"\n",
        "    Итератор для класса CustomRange.\n",
        "    \"\"\"\n",
        "    def __init__(self, start, stop, step):\n",
        "        raise NotImplementedError\n",
        "\n",
        "    raise NotImplementedError\n",
        "\n",
        "\n",
        "class CustomRange:\n",
        "    \"\"\"\n",
        "    При итерации по объекту CustomRange последовательно возвращаются целые числа\n",
        "    # от start (включительно) до stop (НЕ включительно),\n",
        "    # каждое следующее число больше предыдущего на step.\n",
        "    # step может быть отрицательным!!!!!!!!\n",
        "    \"\"\"\n",
        "\n",
        "    def __init__(self, *args):\n",
        "        \"\"\"\n",
        "        args может иметь:\n",
        "        - размер 3: CustomRange(0, 10, 1)\n",
        "        - размер 2: CustomRange(0, 10)\n",
        "        - размер 1: CustomRange(10)\n",
        "        В любом случае у CustomRange есть три параметра: start, stop, step.\n",
        "        \"\"\"\n",
        "        if len(args) == 3:\n",
        "            raise NotImplementedError\n",
        "        if len(args) == 2:\n",
        "            raise NotImplementedError\n",
        "        if len(args) == 1:\n",
        "            raise NotImplementedError\n",
        "        if len(args) == 0:\n",
        "            raise NotImplementedError\n",
        "        raise NotImplementedError\n",
        "\n",
        "    def __iter__(self) -> 'CustomRangeIterator':\n",
        "        # return self\n",
        "        # Либо: return CustomRangeIterator(self.start, self.stop, self.step)\n",
        "        raise NotImplementedError\n",
        "\n",
        "    def __repr__(self) -> str:\n",
        "        raise NotImplementedError\n",
        "\n",
        "    def __str__(self) -> str:\n",
        "        \"\"\"\n",
        "        Для CustomRange возвращает то же самое, что и __repr__().\n",
        "        \"\"\"\n",
        "        return self.__repr__()\n",
        "\n",
        "    def __contains__(self, key: int) -> bool:\n",
        "        \"\"\"\n",
        "        Сложность вычисления этого метода константная и не зависит от параметров CustomRange.\n",
        "        \"\"\"\n",
        "        raise NotImplementedError\n",
        "\n",
        "    def __getitem__(self, index: int) -> int:\n",
        "        \"\"\"\n",
        "        Сложность вычисления этого метода константная и не зависит от параметров CustomRange.\n",
        "        \"\"\"\n",
        "        raise NotImplementedError\n",
        "\n",
        "    def __len__(self) -> int:\n",
        "        \"\"\"\n",
        "        Сложность вычисления этого метода константная и не зависит от параметров CustomRange.\n",
        "        \"\"\"\n",
        "        raise NotImplementedError\n",
        "    \n",
        "    def count(self, value: int) -> int:\n",
        "        \"\"\"\n",
        "        Сложность вычисления этого метода константная и не зависит от параметров CustomRange.\n",
        "        \"\"\"\n",
        "        raise NotImplementedError\n",
        "    \n",
        "    def index(self, value: int) -> int:\n",
        "        \"\"\"\n",
        "        Сложность вычисления этого метода константная и не зависит от параметров CustomRange.\n",
        "        \"\"\"\n",
        "        raise NotImplementedError\n"
      ],
      "execution_count": null,
      "outputs": [
        {
          "output_type": "stream",
          "name": "stdout",
          "text": [
            "Writing custom_range.py\n"
          ]
        }
      ]
    },
    {
      "cell_type": "markdown",
      "metadata": {
        "id": "uymVz1HGxPlS"
      },
      "source": [
        "### Проверить pylint и flake8"
      ]
    },
    {
      "cell_type": "code",
      "metadata": {
        "id": "u4e5l4YQwj62"
      },
      "source": [
        "!python -m pip install pylint flake8"
      ],
      "execution_count": null,
      "outputs": []
    },
    {
      "cell_type": "code",
      "metadata": {
        "id": "0-xFViHiwoIB"
      },
      "source": [
        "!python -m pylint custom_range.py --max-line-length=100 --disable=R0903,C0123"
      ],
      "execution_count": null,
      "outputs": []
    },
    {
      "cell_type": "code",
      "metadata": {
        "id": "w2kC56RgwqxI"
      },
      "source": [
        "!python -m flake8 custom_range.py --max-line-length=100"
      ],
      "execution_count": null,
      "outputs": []
    },
    {
      "cell_type": "markdown",
      "metadata": {
        "id": "_9hsIew_UamY"
      },
      "source": [
        "### Запустить тесты (появятся 23.09)"
      ]
    },
    {
      "cell_type": "code",
      "metadata": {
        "id": "aBsvBCtmUeSr"
      },
      "source": [
        "!python -m pytest test_public.py"
      ],
      "execution_count": null,
      "outputs": []
    },
    {
      "cell_type": "markdown",
      "metadata": {
        "id": "kTpoD0utxb72"
      },
      "source": [
        "### Почитать про range"
      ]
    },
    {
      "cell_type": "code",
      "metadata": {
        "id": "7GtP5Lk0uFF5"
      },
      "source": [
        "help(range)"
      ],
      "execution_count": null,
      "outputs": []
    },
    {
      "cell_type": "code",
      "metadata": {
        "colab": {
          "base_uri": "https://localhost:8080/"
        },
        "id": "qZ7Hfgr_xB6e",
        "outputId": "0e69c576-5a97-4ce5-bfee-48a6c1cb967f"
      },
      "source": [
        "help(range.__str__)\n",
        "help(range.__contains__)\n",
        "# Допишите сюда то, что вам нужно"
      ],
      "execution_count": null,
      "outputs": [
        {
          "output_type": "stream",
          "text": [
            "Help on wrapper_descriptor:\n",
            "\n",
            "__str__(self, /)\n",
            "    Return str(self).\n",
            "\n",
            "Help on wrapper_descriptor:\n",
            "\n",
            "__contains__(self, key, /)\n",
            "    Return key in self.\n",
            "\n"
          ],
          "name": "stdout"
        }
      ]
    },
    {
      "cell_type": "code",
      "metadata": {
        "id": "ymwrFBic2BD-"
      },
      "source": [
        "# Ну или нагуглите что-нибудь."
      ],
      "execution_count": null,
      "outputs": []
    },
    {
      "cell_type": "markdown",
      "metadata": {
        "id": "e0gE7VEP1_-t"
      },
      "source": [
        "### Главный принцип"
      ]
    },
    {
      "cell_type": "markdown",
      "metadata": {
        "id": "LJJU8LJU2EXA"
      },
      "source": [
        "Если вы не знаете, как должен вести себя ваш класс, есть простое правило &mdash; он должен вести себя абсолютно так же, как обычный `range`.\n",
        "\n",
        "В том числе выдавать все те же ошибки того же типа и с тем же текстом, что и `range`!"
      ]
    }
  ]
}