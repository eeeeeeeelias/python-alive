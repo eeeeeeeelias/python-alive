{
  "nbformat": 4,
  "nbformat_minor": 0,
  "metadata": {
    "colab": {
      "name": "add_players.ipynb",
      "provenance": [],
      "collapsed_sections": []
    },
    "kernelspec": {
      "name": "python3",
      "display_name": "Python 3"
    }
  },
  "cells": [
    {
      "cell_type": "markdown",
      "source": [
        "`argparse` `csv` `sys.argv`"
      ],
      "metadata": {
        "id": "qmzxZtI8mauY"
      }
    },
    {
      "cell_type": "markdown",
      "metadata": {
        "id": "Gmo_UNCqDBmr"
      },
      "source": [
        "Ссылка на листочек:\n",
        "https://colab.research.google.com/drive/13SLEMWmRh9lDC1NH5ijdCxDv0UAMuxYT"
      ]
    },
    {
      "cell_type": "markdown",
      "metadata": {
        "id": "H9WwDBR7X7X2"
      },
      "source": [
        "Написать утилиту add_players, которая читает список участников некоторого соревнования из файла и сохраняет каждого игрока с помощью функции `save_player(first_name, last_name, group_name)`.\n",
        "\n",
        "Эта функция уже написана, её менять нельзя, а изучить стоит, чтобы понять, как подготовить данные под неё.\n",
        "\n",
        "Аргументы утилиты (вам понадобится argparse):\n",
        "\n",
        "`--csv FILE_NAME` имя CSV файла, из которого доставать данные. В нём должно быть два столбца, имя и фамилия или фамилия и имя.\n",
        "\n",
        "Если нет — кинуть ошибку с понятным текстом\n",
        "Первая строка файла — заголовок, её игнорировать, она не даст вам никаких данных, в том числе о том, что идёт первым — имя или фамилия.\n",
        "\n",
        "`--delimiter DELIMITER` может быть задан,только если задан `--csv` — разделитель для CSV (по умолчанию запятая)\n",
        "\n",
        "`--txt FILE_NAME` имя TXT файла, из которого доставать данные. В нём каждая строчка выглядит как \n",
        "\n",
        "Иван Иванов\n",
        "\n",
        "или\n",
        "\n",
        "Иванов Иван\n",
        "\n",
        "Если нет — кинуть ошибку с понятным текстом.\n",
        "Если заданы и `--txt`, и `--csv` — кинуть ошибку с понятным текстом.\n",
        "\n",
        "`--first_name_last` используется, если во входном файле сначала пишется фамилия, потом имя, а не наоборот. Предполагается, что пользователь знает, что идёт первым.\n",
        "\n",
        "`-n PLAYERS_AMOUNT` количество игроков, которое нужно добавить. Если в файле недостаточно — выкинуть ошибку с понятным текстом. Если в файле слишком много людей — выкинуть предупреждение с понятным текстом.\n",
        "\n",
        "`--group GROUP_NAME` в какую группу отправить.\n",
        "\n",
        "Группа может называться A/a, B/b, C/c и так далее. Если нет — кинуть ошибку с понятным текстом.\n",
        "\n",
        "В коде есть константа `GROUPS_AMOUNT`. Нужно делать проверку, не слишком ли это большой номер группы, если слишком большой — выкинуть ошибку с понятным текстом.\n",
        "\n",
        "Например, если `GROUPS_AMOUNT == 4`, то группы ABCD могут быть, а E — уже нет. Если параметр не задан — кинуть ошибку с понятным текстом\n",
        "\n",
        "Также придумайте для каждой короткой опции длинный вариант, и по возможности — короткий вариант для каждой длинной опции."
      ]
    },
    {
      "cell_type": "code",
      "metadata": {
        "id": "8y3jA_PX6san"
      },
      "source": [
        "# пример строки для add_players\n",
        "\"--txt Documents\\alexey\\players.txt --first_name_last -n 5 --group B\""
      ],
      "execution_count": null,
      "outputs": []
    },
    {
      "cell_type": "code",
      "metadata": {
        "id": "7TfvRRtp7vsY"
      },
      "source": [
        "# Как кидать ошибки\n",
        "if data[\"txt\"] and data[\"csv\"]:\n",
        "    raise KeyError(\"Please specify either --txt or --csv\")\n",
        "if not data[\"txt\"] and not data[\"csv\"]:\n",
        "    raise KeyError(\"Please specify --txt or --csv\")\n",
        "if not data[\"n\"]:\n",
        "    raise KeyError(\"Please specify -n\")"
      ],
      "execution_count": null,
      "outputs": []
    },
    {
      "cell_type": "code",
      "metadata": {
        "colab": {
          "base_uri": "https://localhost:8080/",
          "height": 237
        },
        "id": "x67H4F1q99Wp",
        "outputId": "b645f4c8-8012-4ef6-a21f-95ae493901d2"
      },
      "source": [
        "import string\n",
        "GROUPS_AMOUNT_ = 3\n",
        "group_name = \"D\"\n",
        "\n",
        "# print(string.ascii_lowercase.index(group_name))\n",
        "group_name = group_name.lower()\n",
        "if string.ascii_lowercase.index(group_name) >= GROUPS_AMOUNT_:\n",
        "    raise ValueError(\"We don't have so many groups\")\n",
        "else:\n",
        "    print(\"OK\")"
      ],
      "execution_count": null,
      "outputs": [
        {
          "output_type": "error",
          "ename": "ValueError",
          "evalue": "ignored",
          "traceback": [
            "\u001b[0;31m---------------------------------------------------------------------------\u001b[0m",
            "\u001b[0;31mValueError\u001b[0m                                Traceback (most recent call last)",
            "\u001b[0;32m<ipython-input-37-43de5f150f42>\u001b[0m in \u001b[0;36m<module>\u001b[0;34m()\u001b[0m\n\u001b[1;32m      6\u001b[0m \u001b[0mgroup_name\u001b[0m \u001b[0;34m=\u001b[0m \u001b[0mgroup_name\u001b[0m\u001b[0;34m.\u001b[0m\u001b[0mlower\u001b[0m\u001b[0;34m(\u001b[0m\u001b[0;34m)\u001b[0m\u001b[0;34m\u001b[0m\u001b[0;34m\u001b[0m\u001b[0m\n\u001b[1;32m      7\u001b[0m \u001b[0;32mif\u001b[0m \u001b[0mstring\u001b[0m\u001b[0;34m.\u001b[0m\u001b[0mascii_lowercase\u001b[0m\u001b[0;34m.\u001b[0m\u001b[0mindex\u001b[0m\u001b[0;34m(\u001b[0m\u001b[0mgroup_name\u001b[0m\u001b[0;34m)\u001b[0m \u001b[0;34m>=\u001b[0m \u001b[0mGROUPS_AMOUNT_\u001b[0m\u001b[0;34m:\u001b[0m\u001b[0;34m\u001b[0m\u001b[0;34m\u001b[0m\u001b[0m\n\u001b[0;32m----> 8\u001b[0;31m     \u001b[0;32mraise\u001b[0m \u001b[0mValueError\u001b[0m\u001b[0;34m(\u001b[0m\u001b[0;34m\"We don't have so many groups\"\u001b[0m\u001b[0;34m)\u001b[0m\u001b[0;34m\u001b[0m\u001b[0;34m\u001b[0m\u001b[0m\n\u001b[0m\u001b[1;32m      9\u001b[0m \u001b[0;32melse\u001b[0m\u001b[0;34m:\u001b[0m\u001b[0;34m\u001b[0m\u001b[0;34m\u001b[0m\u001b[0m\n\u001b[1;32m     10\u001b[0m     \u001b[0mprint\u001b[0m\u001b[0;34m(\u001b[0m\u001b[0;34m\"OK\"\u001b[0m\u001b[0;34m)\u001b[0m\u001b[0;34m\u001b[0m\u001b[0;34m\u001b[0m\u001b[0m\n",
            "\u001b[0;31mValueError\u001b[0m: We don't have so many groups"
          ]
        }
      ]
    },
    {
      "cell_type": "code",
      "metadata": {
        "colab": {
          "base_uri": "https://localhost:8080/"
        },
        "id": "1biCUuvM9ZBR",
        "outputId": "4b7183ae-cb22-40de-d781-3a436dffc04a"
      },
      "source": [
        "# Как кидать ворнинги\n",
        "import warnings\n",
        "\n",
        "warnings.warn(\"Too many players in input file\")"
      ],
      "execution_count": null,
      "outputs": [
        {
          "output_type": "stream",
          "text": [
            "/usr/local/lib/python3.6/dist-packages/ipykernel_launcher.py:4: UserWarning: Too many players in input file\n",
            "  after removing the cwd from sys.path.\n"
          ],
          "name": "stderr"
        }
      ]
    },
    {
      "cell_type": "code",
      "metadata": {
        "id": "dsGC8fZgWXht"
      },
      "source": [
        "\"\"\"\n",
        "Console utility that reads list of players from different types of input files\n",
        "and saves it in some way.\n",
        "\"\"\"\n",
        "\n",
        "GROUPS_AMOUNT: int = 4\n",
        "\n",
        "def save_player(*, first_name: str, last_name: str, group_name: str) -> None:\n",
        "    \"\"\"\n",
        "\tSave player's data into CSV file.\n",
        "\n",
        "\t:param first_name: player's first name in lowercase\n",
        "\t:param last_name: player's last name in lowercase\n",
        "\t:param group_name: one lowercase Latin letter\n",
        "\n",
        "\t:Example:\n",
        "\n",
        "\tsave_player(first_name=\"сергей\", last_name=\"иванов\", group_name=\"b\")\n",
        "\t\"\"\"\n",
        "    if not first_name.islower():\n",
        "        raise TypeError(\"first_name must be lowercase\")\n",
        "    if not last_name.islower():\n",
        "        raise TypeError(\"last_name must be lowercase\")\n",
        "    if not group_name.islower():\n",
        "        raise TypeError(\"group_name must be lowercase\")\n",
        "    print(f\"{first_name.capitalize()} {last_name.capitalize()}\"\n",
        "          f\" saved to group {group_name.upper()}\")\n",
        "\n",
        "    with open(f\"group_{group_name}.csv\", mode=\"a\", encoding=\"utf-8\") as dst:\n",
        "        dst.write(f\"{first_name},{last_name}\\n\")\n"
      ],
      "execution_count": null,
      "outputs": []
    },
    {
      "cell_type": "code",
      "metadata": {
        "colab": {
          "base_uri": "https://localhost:8080/"
        },
        "id": "6TxpdlebWgiy",
        "outputId": "65e0909c-557e-4035-862b-5740439d664c"
      },
      "source": [
        "# Пример корректного вызова функции\n",
        "save_player(first_name=\"сергей\", last_name=\"иванов\", group_name=\"b\")\n",
        "# Пример НЕкорректного вызова функции\n",
        "save_player(\"сергей\", \"иванов\", \"b\")"
      ],
      "execution_count": null,
      "outputs": [
        {
          "output_type": "stream",
          "text": [
            "Сергей Иванов saved to group B\n"
          ],
          "name": "stdout"
        }
      ]
    },
    {
      "cell_type": "code",
      "metadata": {
        "colab": {
          "base_uri": "https://localhost:8080/"
        },
        "id": "h-0PeQy909CM",
        "outputId": "575ae587-4369-4405-acf7-9297985b2770"
      },
      "source": [
        "%%file summator.py\n",
        "import argparse\n",
        "import sys\n",
        "\n",
        "def main(args_string):\n",
        "    parser = argparse.ArgumentParser()\n",
        "    parser.add_argument(\"-a\", type=int, default=0)\n",
        "    parser.add_argument(\"-b\", type=int, default=0)\n",
        "    parser.add_argument(\"-c\", type=int, default=0)\n",
        "    parser.add_argument(\"--negative\", action=\"store_true\")\n",
        "    parser.add_argument(\"--name\", required=True)\n",
        "    data = vars(parser.parse_args(args_string))\n",
        "    print(data)\n",
        "    if data[\"negative\"]:\n",
        "        multiplier = -1\n",
        "    else:\n",
        "        multiplier = 1\n",
        "    print(multiplier * (data[\"a\"] + data[\"b\"] + data[\"c\"]))\n",
        "\n",
        "\n",
        "if __name__ == \"__main__\":\n",
        "    print(sys.argv)\n",
        "    input_string = sys.argv[1:]\n",
        "    main(input_string)\n",
        "\n"
      ],
      "execution_count": null,
      "outputs": [
        {
          "output_type": "stream",
          "text": [
            "Overwriting summator.py\n"
          ],
          "name": "stdout"
        }
      ]
    },
    {
      "cell_type": "code",
      "metadata": {
        "colab": {
          "base_uri": "https://localhost:8080/"
        },
        "id": "YV_3z9EbNLN0",
        "outputId": "fa27cd7f-1707-4159-dc14-3e57b23973b9"
      },
      "source": [
        "!python -m summator -a 2 -b 3 --negative"
      ],
      "execution_count": null,
      "outputs": [
        {
          "output_type": "stream",
          "text": [
            "['/content/summator.py', '-a', '2', '-b', '3', '--negative']\n",
            "usage: summator.py [-h] [-a A] [-b B] [-c C] [--negative] --name NAME\n",
            "summator.py: error: the following arguments are required: --name\n"
          ],
          "name": "stdout"
        }
      ]
    },
    {
      "cell_type": "code",
      "metadata": {
        "colab": {
          "base_uri": "https://localhost:8080/"
        },
        "id": "C8c9FqX4gZ59",
        "outputId": "023d8f60-bd79-4aa3-8312-f44afadbac00"
      },
      "source": [
        "!python -m example -a2 -c-3 --negative"
      ],
      "execution_count": null,
      "outputs": [
        {
          "output_type": "stream",
          "text": [
            "{'a': 2, 'b': 0, 'c': -3, 'negative': True}\n",
            "1\n"
          ],
          "name": "stdout"
        }
      ]
    },
    {
      "cell_type": "code",
      "metadata": {
        "colab": {
          "base_uri": "https://localhost:8080/"
        },
        "id": "k3yNFeuKzMbA",
        "outputId": "6fdf28c9-25b4-4a37-9061-3250330dbf5d"
      },
      "source": [
        "# !python -m pip install pylint\n",
        "!python -m pylint summator.py"
      ],
      "execution_count": null,
      "outputs": [
        {
          "output_type": "stream",
          "text": [
            "/usr/bin/python3: No module named pylint\n"
          ],
          "name": "stdout"
        }
      ]
    },
    {
      "cell_type": "code",
      "metadata": {
        "colab": {
          "base_uri": "https://localhost:8080/",
          "height": 842
        },
        "id": "utVkUxx97_x0",
        "outputId": "69915cf8-44c1-4bd5-953c-f57ed2e89d74"
      },
      "source": [
        "users = {\n",
        "    \"Невидимов\": [\"Георгий\", 16],\n",
        "    \"Протасов\": [\"Кирилл\", 15]\n",
        "}\n",
        "\n",
        "while True:\n",
        "    print(\"Введите фамилию, имя и возраст через пробел\")\n",
        "    try:\n",
        "        data = input()\n",
        "        last_name, first_name, raw_age = data.split()  # неправильное количество данных\n",
        "        last_name = last_name.capitalize()\n",
        "        first_name = first_name.capitalize()\n",
        "        age = int(raw_age)  # может не интоваться\n",
        "        if first_name == users[last_name][0]:  # фамилии нет в словаре\n",
        "            print(\"Имя совпадает\")\n",
        "        else:\n",
        "            print(\"Имя не совпадает\")\n",
        "        if age == users[last_name][1]:\n",
        "            print(\"Возраст совпадает\")\n",
        "        else:\n",
        "            print(\"Возраст не совпадает\")\n",
        "    except KeyError:\n",
        "        print(\"Пользователя нет в базе\")\n",
        "    except ValueError as exception:\n",
        "        if \"invalid literal for int()\" in str(exception):\n",
        "            print(\"Возраст должен быть числом\")\n",
        "            continue\n",
        "        print(str(exception))\n",
        "        if \"not enough values\" in str(exception):\n",
        "            print(\"Вы ввели недостаточно данных\")\n",
        "            continue\n",
        "        if \"too many values to unpack\" in str(exception):\n",
        "            print(\"Вы ввели слишком много данных\")\n",
        "            continue\n",
        "\n"
      ],
      "execution_count": null,
      "outputs": [
        {
          "output_type": "stream",
          "text": [
            "Введите фамилию, имя и возраст через пробел\n",
            "коплдцуаоулцда Георгий 15\n",
            "Пользователя нет в базе\n",
            "Введите фамилию, имя и возраст через пробел\n",
            "Патрикеева\n",
            "not enough values to unpack (expected 3, got 1)\n",
            "Вы ввели недостаточно данных\n",
            "Введите фамилию, имя и возраст через пробел\n",
            "Патрикеева Ольга Вячеславовна 15\n",
            "too many values to unpack (expected 3)\n",
            "Вы ввели слишком много данных\n",
            "Введите фамилию, имя и возраст через пробел\n",
            "Патрикеева Ольга пятнадцать\n",
            "Возраст должен быть числом\n",
            "Введите фамилию, имя и возраст через пробел\n"
          ],
          "name": "stdout"
        },
        {
          "output_type": "error",
          "ename": "KeyboardInterrupt",
          "evalue": "ignored",
          "traceback": [
            "\u001b[0;31m---------------------------------------------------------------------------\u001b[0m",
            "\u001b[0;31mKeyboardInterrupt\u001b[0m                         Traceback (most recent call last)",
            "\u001b[0;32m/usr/local/lib/python3.6/dist-packages/ipykernel/kernelbase.py\u001b[0m in \u001b[0;36m_input_request\u001b[0;34m(self, prompt, ident, parent, password)\u001b[0m\n\u001b[1;32m    728\u001b[0m             \u001b[0;32mtry\u001b[0m\u001b[0;34m:\u001b[0m\u001b[0;34m\u001b[0m\u001b[0;34m\u001b[0m\u001b[0m\n\u001b[0;32m--> 729\u001b[0;31m                 \u001b[0mident\u001b[0m\u001b[0;34m,\u001b[0m \u001b[0mreply\u001b[0m \u001b[0;34m=\u001b[0m \u001b[0mself\u001b[0m\u001b[0;34m.\u001b[0m\u001b[0msession\u001b[0m\u001b[0;34m.\u001b[0m\u001b[0mrecv\u001b[0m\u001b[0;34m(\u001b[0m\u001b[0mself\u001b[0m\u001b[0;34m.\u001b[0m\u001b[0mstdin_socket\u001b[0m\u001b[0;34m,\u001b[0m \u001b[0;36m0\u001b[0m\u001b[0;34m)\u001b[0m\u001b[0;34m\u001b[0m\u001b[0;34m\u001b[0m\u001b[0m\n\u001b[0m\u001b[1;32m    730\u001b[0m             \u001b[0;32mexcept\u001b[0m \u001b[0mException\u001b[0m\u001b[0;34m:\u001b[0m\u001b[0;34m\u001b[0m\u001b[0;34m\u001b[0m\u001b[0m\n",
            "\u001b[0;32m/usr/local/lib/python3.6/dist-packages/jupyter_client/session.py\u001b[0m in \u001b[0;36mrecv\u001b[0;34m(self, socket, mode, content, copy)\u001b[0m\n\u001b[1;32m    802\u001b[0m         \u001b[0;32mtry\u001b[0m\u001b[0;34m:\u001b[0m\u001b[0;34m\u001b[0m\u001b[0;34m\u001b[0m\u001b[0m\n\u001b[0;32m--> 803\u001b[0;31m             \u001b[0mmsg_list\u001b[0m \u001b[0;34m=\u001b[0m \u001b[0msocket\u001b[0m\u001b[0;34m.\u001b[0m\u001b[0mrecv_multipart\u001b[0m\u001b[0;34m(\u001b[0m\u001b[0mmode\u001b[0m\u001b[0;34m,\u001b[0m \u001b[0mcopy\u001b[0m\u001b[0;34m=\u001b[0m\u001b[0mcopy\u001b[0m\u001b[0;34m)\u001b[0m\u001b[0;34m\u001b[0m\u001b[0;34m\u001b[0m\u001b[0m\n\u001b[0m\u001b[1;32m    804\u001b[0m         \u001b[0;32mexcept\u001b[0m \u001b[0mzmq\u001b[0m\u001b[0;34m.\u001b[0m\u001b[0mZMQError\u001b[0m \u001b[0;32mas\u001b[0m \u001b[0me\u001b[0m\u001b[0;34m:\u001b[0m\u001b[0;34m\u001b[0m\u001b[0;34m\u001b[0m\u001b[0m\n",
            "\u001b[0;32m/usr/local/lib/python3.6/dist-packages/zmq/sugar/socket.py\u001b[0m in \u001b[0;36mrecv_multipart\u001b[0;34m(self, flags, copy, track)\u001b[0m\n\u001b[1;32m    582\u001b[0m         \"\"\"\n\u001b[0;32m--> 583\u001b[0;31m         \u001b[0mparts\u001b[0m \u001b[0;34m=\u001b[0m \u001b[0;34m[\u001b[0m\u001b[0mself\u001b[0m\u001b[0;34m.\u001b[0m\u001b[0mrecv\u001b[0m\u001b[0;34m(\u001b[0m\u001b[0mflags\u001b[0m\u001b[0;34m,\u001b[0m \u001b[0mcopy\u001b[0m\u001b[0;34m=\u001b[0m\u001b[0mcopy\u001b[0m\u001b[0;34m,\u001b[0m \u001b[0mtrack\u001b[0m\u001b[0;34m=\u001b[0m\u001b[0mtrack\u001b[0m\u001b[0;34m)\u001b[0m\u001b[0;34m]\u001b[0m\u001b[0;34m\u001b[0m\u001b[0;34m\u001b[0m\u001b[0m\n\u001b[0m\u001b[1;32m    584\u001b[0m         \u001b[0;31m# have first part already, only loop while more to receive\u001b[0m\u001b[0;34m\u001b[0m\u001b[0;34m\u001b[0m\u001b[0;34m\u001b[0m\u001b[0m\n",
            "\u001b[0;32mzmq/backend/cython/socket.pyx\u001b[0m in \u001b[0;36mzmq.backend.cython.socket.Socket.recv\u001b[0;34m()\u001b[0m\n",
            "\u001b[0;32mzmq/backend/cython/socket.pyx\u001b[0m in \u001b[0;36mzmq.backend.cython.socket.Socket.recv\u001b[0;34m()\u001b[0m\n",
            "\u001b[0;32mzmq/backend/cython/socket.pyx\u001b[0m in \u001b[0;36mzmq.backend.cython.socket._recv_copy\u001b[0;34m()\u001b[0m\n",
            "\u001b[0;32m/usr/local/lib/python3.6/dist-packages/zmq/backend/cython/checkrc.pxd\u001b[0m in \u001b[0;36mzmq.backend.cython.checkrc._check_rc\u001b[0;34m()\u001b[0m\n",
            "\u001b[0;31mKeyboardInterrupt\u001b[0m: ",
            "\nDuring handling of the above exception, another exception occurred:\n",
            "\u001b[0;31mKeyboardInterrupt\u001b[0m                         Traceback (most recent call last)",
            "\u001b[0;32m<ipython-input-17-d1826f9ceefd>\u001b[0m in \u001b[0;36m<module>\u001b[0;34m()\u001b[0m\n\u001b[1;32m      7\u001b[0m     \u001b[0mprint\u001b[0m\u001b[0;34m(\u001b[0m\u001b[0;34m\"Введите фамилию, имя и возраст через пробел\"\u001b[0m\u001b[0;34m)\u001b[0m\u001b[0;34m\u001b[0m\u001b[0;34m\u001b[0m\u001b[0m\n\u001b[1;32m      8\u001b[0m     \u001b[0;32mtry\u001b[0m\u001b[0;34m:\u001b[0m\u001b[0;34m\u001b[0m\u001b[0;34m\u001b[0m\u001b[0m\n\u001b[0;32m----> 9\u001b[0;31m         \u001b[0mdata\u001b[0m \u001b[0;34m=\u001b[0m \u001b[0minput\u001b[0m\u001b[0;34m(\u001b[0m\u001b[0;34m)\u001b[0m\u001b[0;34m\u001b[0m\u001b[0;34m\u001b[0m\u001b[0m\n\u001b[0m\u001b[1;32m     10\u001b[0m         \u001b[0mlast_name\u001b[0m\u001b[0;34m,\u001b[0m \u001b[0mfirst_name\u001b[0m\u001b[0;34m,\u001b[0m \u001b[0mraw_age\u001b[0m \u001b[0;34m=\u001b[0m \u001b[0mdata\u001b[0m\u001b[0;34m.\u001b[0m\u001b[0msplit\u001b[0m\u001b[0;34m(\u001b[0m\u001b[0;34m)\u001b[0m  \u001b[0;31m# неправильное количество данных\u001b[0m\u001b[0;34m\u001b[0m\u001b[0;34m\u001b[0m\u001b[0m\n\u001b[1;32m     11\u001b[0m         \u001b[0mlast_name\u001b[0m \u001b[0;34m=\u001b[0m \u001b[0mlast_name\u001b[0m\u001b[0;34m.\u001b[0m\u001b[0mcapitalize\u001b[0m\u001b[0;34m(\u001b[0m\u001b[0;34m)\u001b[0m\u001b[0;34m\u001b[0m\u001b[0;34m\u001b[0m\u001b[0m\n",
            "\u001b[0;32m/usr/local/lib/python3.6/dist-packages/ipykernel/kernelbase.py\u001b[0m in \u001b[0;36mraw_input\u001b[0;34m(self, prompt)\u001b[0m\n\u001b[1;32m    702\u001b[0m             \u001b[0mself\u001b[0m\u001b[0;34m.\u001b[0m\u001b[0m_parent_ident\u001b[0m\u001b[0;34m,\u001b[0m\u001b[0;34m\u001b[0m\u001b[0;34m\u001b[0m\u001b[0m\n\u001b[1;32m    703\u001b[0m             \u001b[0mself\u001b[0m\u001b[0;34m.\u001b[0m\u001b[0m_parent_header\u001b[0m\u001b[0;34m,\u001b[0m\u001b[0;34m\u001b[0m\u001b[0;34m\u001b[0m\u001b[0m\n\u001b[0;32m--> 704\u001b[0;31m             \u001b[0mpassword\u001b[0m\u001b[0;34m=\u001b[0m\u001b[0;32mFalse\u001b[0m\u001b[0;34m,\u001b[0m\u001b[0;34m\u001b[0m\u001b[0;34m\u001b[0m\u001b[0m\n\u001b[0m\u001b[1;32m    705\u001b[0m         )\n\u001b[1;32m    706\u001b[0m \u001b[0;34m\u001b[0m\u001b[0m\n",
            "\u001b[0;32m/usr/local/lib/python3.6/dist-packages/ipykernel/kernelbase.py\u001b[0m in \u001b[0;36m_input_request\u001b[0;34m(self, prompt, ident, parent, password)\u001b[0m\n\u001b[1;32m    732\u001b[0m             \u001b[0;32mexcept\u001b[0m \u001b[0mKeyboardInterrupt\u001b[0m\u001b[0;34m:\u001b[0m\u001b[0;34m\u001b[0m\u001b[0;34m\u001b[0m\u001b[0m\n\u001b[1;32m    733\u001b[0m                 \u001b[0;31m# re-raise KeyboardInterrupt, to truncate traceback\u001b[0m\u001b[0;34m\u001b[0m\u001b[0;34m\u001b[0m\u001b[0;34m\u001b[0m\u001b[0m\n\u001b[0;32m--> 734\u001b[0;31m                 \u001b[0;32mraise\u001b[0m \u001b[0mKeyboardInterrupt\u001b[0m\u001b[0;34m\u001b[0m\u001b[0;34m\u001b[0m\u001b[0m\n\u001b[0m\u001b[1;32m    735\u001b[0m             \u001b[0;32melse\u001b[0m\u001b[0;34m:\u001b[0m\u001b[0;34m\u001b[0m\u001b[0;34m\u001b[0m\u001b[0m\n\u001b[1;32m    736\u001b[0m                 \u001b[0;32mbreak\u001b[0m\u001b[0;34m\u001b[0m\u001b[0;34m\u001b[0m\u001b[0m\n",
            "\u001b[0;31mKeyboardInterrupt\u001b[0m: "
          ]
        }
      ]
    },
    {
      "cell_type": "code",
      "metadata": {
        "colab": {
          "base_uri": "https://localhost:8080/"
        },
        "id": "PKEYpI9MC3vQ",
        "outputId": "bb1d0f18-d497-4891-a00a-54c80937f8b9"
      },
      "source": [
        "try:\n",
        "    x = 5 / 0\n",
        "except ZeroDivisionError as some_exception:\n",
        "    print(str(some_exception))"
      ],
      "execution_count": null,
      "outputs": [
        {
          "output_type": "stream",
          "text": [
            "division by zero\n"
          ],
          "name": "stdout"
        }
      ]
    },
    {
      "cell_type": "code",
      "metadata": {
        "colab": {
          "base_uri": "https://localhost:8080/"
        },
        "id": "JFwGD6FZANb3",
        "outputId": "9966ca81-dd28-42c7-8ee0-5aae44b9ab98"
      },
      "source": [
        "%%file example.txt\n",
        "first\n",
        "second\n",
        "third"
      ],
      "execution_count": null,
      "outputs": [
        {
          "output_type": "stream",
          "text": [
            "Writing example.txt\n"
          ],
          "name": "stdout"
        }
      ]
    },
    {
      "cell_type": "code",
      "metadata": {
        "colab": {
          "base_uri": "https://localhost:8080/",
          "height": 308
        },
        "id": "0INuCBg-F8gv",
        "outputId": "2a78a00a-5273-499d-eeb5-d62cc1505da1"
      },
      "source": [
        "PLAYERS_AMOUNT = 2\n",
        "\n",
        "with open(\"example.txt\") as src:\n",
        "    for i in range(PLAYERS_AMOUNT):\n",
        "        line = src.readline()\n",
        "        if line == \"\":\n",
        "            raise ValueError(\"Слишком мало людей\")\n",
        "        print(f\"Строка {i}: {line}\")\n",
        "    # if src.readline() != \"\"\n",
        "    # if len(src.readline()) > 0\n",
        "    if src.readline():\n",
        "        raise ValueError(\"Слишком много игроков\")\n",
        "\n",
        "try:\n",
        "    n = 5 / 0\n",
        "except ZeroDivisionError as exception:\n",
        "    raise ValueError(\"Деление на ноль\") from exception\n",
        "\n"
      ],
      "execution_count": null,
      "outputs": [
        {
          "output_type": "stream",
          "text": [
            "Строка 0: first\n",
            "\n",
            "Строка 1: second\n",
            "\n",
            "Строка 2: third\n"
          ],
          "name": "stdout"
        },
        {
          "output_type": "error",
          "ename": "ValueError",
          "evalue": "ignored",
          "traceback": [
            "\u001b[0;31m---------------------------------------------------------------------------\u001b[0m",
            "\u001b[0;31mValueError\u001b[0m                                Traceback (most recent call last)",
            "\u001b[0;32m<ipython-input-20-1175ef3bbfde>\u001b[0m in \u001b[0;36m<module>\u001b[0;34m()\u001b[0m\n\u001b[1;32m      5\u001b[0m         \u001b[0mline\u001b[0m \u001b[0;34m=\u001b[0m \u001b[0msrc\u001b[0m\u001b[0;34m.\u001b[0m\u001b[0mreadline\u001b[0m\u001b[0;34m(\u001b[0m\u001b[0;34m)\u001b[0m\u001b[0;34m\u001b[0m\u001b[0;34m\u001b[0m\u001b[0m\n\u001b[1;32m      6\u001b[0m         \u001b[0;32mif\u001b[0m \u001b[0mline\u001b[0m \u001b[0;34m==\u001b[0m \u001b[0;34m\"\"\u001b[0m\u001b[0;34m:\u001b[0m\u001b[0;34m\u001b[0m\u001b[0;34m\u001b[0m\u001b[0m\n\u001b[0;32m----> 7\u001b[0;31m             \u001b[0;32mraise\u001b[0m \u001b[0mValueError\u001b[0m\u001b[0;34m(\u001b[0m\u001b[0;34m\"Слишком мало людей\"\u001b[0m\u001b[0;34m)\u001b[0m\u001b[0;34m\u001b[0m\u001b[0;34m\u001b[0m\u001b[0m\n\u001b[0m\u001b[1;32m      8\u001b[0m         \u001b[0mprint\u001b[0m\u001b[0;34m(\u001b[0m\u001b[0;34mf\"Строка {i}: {line}\"\u001b[0m\u001b[0;34m)\u001b[0m\u001b[0;34m\u001b[0m\u001b[0;34m\u001b[0m\u001b[0m\n",
            "\u001b[0;31mValueError\u001b[0m: Слишком мало людей"
          ]
        }
      ]
    },
    {
      "cell_type": "code",
      "metadata": {
        "colab": {
          "base_uri": "https://localhost:8080/",
          "height": 378
        },
        "id": "-VcgB-qBHvXB",
        "outputId": "58b5d406-ab2e-435f-c243-66299c1bbc3d"
      },
      "source": [
        "try:\n",
        "    n = 5 / 0\n",
        "except ZeroDivisionError as exception:\n",
        "    raise ValueError(\"Деление на ноль\") from exception"
      ],
      "execution_count": null,
      "outputs": [
        {
          "output_type": "error",
          "ename": "ValueError",
          "evalue": "ignored",
          "traceback": [
            "\u001b[0;31m---------------------------------------------------------------------------\u001b[0m",
            "\u001b[0;31mZeroDivisionError\u001b[0m                         Traceback (most recent call last)",
            "\u001b[0;32m<ipython-input-22-c4392af8e2f5>\u001b[0m in \u001b[0;36m<module>\u001b[0;34m()\u001b[0m\n\u001b[1;32m      1\u001b[0m \u001b[0;32mtry\u001b[0m\u001b[0;34m:\u001b[0m\u001b[0;34m\u001b[0m\u001b[0;34m\u001b[0m\u001b[0m\n\u001b[0;32m----> 2\u001b[0;31m     \u001b[0mn\u001b[0m \u001b[0;34m=\u001b[0m \u001b[0;36m5\u001b[0m \u001b[0;34m/\u001b[0m \u001b[0;36m0\u001b[0m\u001b[0;34m\u001b[0m\u001b[0;34m\u001b[0m\u001b[0m\n\u001b[0m\u001b[1;32m      3\u001b[0m \u001b[0;32mexcept\u001b[0m \u001b[0mZeroDivisionError\u001b[0m \u001b[0;32mas\u001b[0m \u001b[0mexception\u001b[0m\u001b[0;34m:\u001b[0m\u001b[0;34m\u001b[0m\u001b[0;34m\u001b[0m\u001b[0m\n",
            "\u001b[0;31mZeroDivisionError\u001b[0m: division by zero",
            "\nThe above exception was the direct cause of the following exception:\n",
            "\u001b[0;31mValueError\u001b[0m                                Traceback (most recent call last)",
            "\u001b[0;32m<ipython-input-22-c4392af8e2f5>\u001b[0m in \u001b[0;36m<module>\u001b[0;34m()\u001b[0m\n\u001b[1;32m      2\u001b[0m     \u001b[0mn\u001b[0m \u001b[0;34m=\u001b[0m \u001b[0;36m5\u001b[0m \u001b[0;34m/\u001b[0m \u001b[0;36m0\u001b[0m\u001b[0;34m\u001b[0m\u001b[0;34m\u001b[0m\u001b[0m\n\u001b[1;32m      3\u001b[0m \u001b[0;32mexcept\u001b[0m \u001b[0mZeroDivisionError\u001b[0m \u001b[0;32mas\u001b[0m \u001b[0mexception\u001b[0m\u001b[0;34m:\u001b[0m\u001b[0;34m\u001b[0m\u001b[0;34m\u001b[0m\u001b[0m\n\u001b[0;32m----> 4\u001b[0;31m     \u001b[0;32mraise\u001b[0m \u001b[0mValueError\u001b[0m\u001b[0;34m(\u001b[0m\u001b[0;34m\"Деление на ноль\"\u001b[0m\u001b[0;34m)\u001b[0m \u001b[0;32mfrom\u001b[0m \u001b[0mexception\u001b[0m\u001b[0;34m\u001b[0m\u001b[0;34m\u001b[0m\u001b[0m\n\u001b[0m",
            "\u001b[0;31mValueError\u001b[0m: Деление на ноль"
          ]
        }
      ]
    }
  ]
}