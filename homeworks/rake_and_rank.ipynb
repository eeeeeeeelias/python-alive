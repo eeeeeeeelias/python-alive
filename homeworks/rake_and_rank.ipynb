{
  "nbformat": 4,
  "nbformat_minor": 0,
  "metadata": {
    "colab": {
      "name": "rake_and_rank.ipynb",
      "provenance": [],
      "collapsed_sections": [
        "Mwu5uUr-nYiY",
        "4oSypeSYnibP"
      ]
    },
    "kernelspec": {
      "display_name": "Python 3",
      "name": "python3"
    },
    "language_info": {
      "name": "python"
    }
  },
  "cells": [
    {
      "cell_type": "markdown",
      "source": [
        "`string` `rake algorithm` `tokenization` `automatic text summarization`"
      ],
      "metadata": {
        "id": "gmP4q1Xbi9T8"
      }
    },
    {
      "cell_type": "code",
      "metadata": {
        "id": "qC6X7JRkmRih"
      },
      "source": [
        "# Место для вашего имени и фамилии\n",
        "# Напоминаю, что сам листок должен называться rake_and_rank_yoursurname.ipynb"
      ],
      "execution_count": null,
      "outputs": []
    },
    {
      "cell_type": "markdown",
      "metadata": {
        "id": "teb0qSZBmPUY"
      },
      "source": [
        "Ссылка на данный листок:\n",
        "\n",
        "https://colab.research.google.com/drive/1DqLxbm0sdcDyIammVqrjyg1_4H0QPkpj"
      ]
    },
    {
      "cell_type": "markdown",
      "metadata": {
        "id": "bs2PODHmC4BL"
      },
      "source": [
        "### Про что листок?"
      ]
    },
    {
      "cell_type": "markdown",
      "metadata": {
        "id": "qCrU3clI-3y0"
      },
      "source": [
        "Время NLP! (офк я не про ~нейролингвистическое программирование~, а про автоматическую обработку текста &mdash; _Natural Language Processing_)\n",
        "\n",
        "В этом листочке мы будем реализовывать алгоритм извлечения ключевых слов под названием **RAKE**.\n",
        "\n",
        "Вот ссылка на статью:\n",
        "\n",
        "https://www.researchgate.net/publication/227988510_Automatic_Keyword_Extraction_from_Individual_Documents\n",
        "\n",
        "\n"
      ]
    },
    {
      "cell_type": "markdown",
      "metadata": {
        "id": "VHHwpToWDRUZ"
      },
      "source": [
        "### Что за ключевые слова?"
      ]
    },
    {
      "cell_type": "markdown",
      "metadata": {
        "id": "aBX_g-gjDTIp"
      },
      "source": [
        "Ключевые слова &mdash; некоторое множество слов/словосочетаний, которые в совокупности дают неплохое описание текста и его тематики.\n"
      ]
    },
    {
      "cell_type": "markdown",
      "metadata": {
        "id": "95pvzE90C62M"
      },
      "source": [
        "### Как работает алгоритм?"
      ]
    },
    {
      "cell_type": "markdown",
      "metadata": {
        "id": "Xz9q6piXC8tb"
      },
      "source": [
        "Алгоритму на вход подаётся некоторый текст на английском языке (новость, абстракт статьи, ...).\n",
        "\n",
        "Задача алгоритма &mdash; выдать некоторое количество ключевых слов (_keywords_), то есть словосочетаний, которые в совокупности дают хорошее описание текста и его тематики.\n",
        "\n",
        "TODO: тут будет дописано когда-нибудь :)"
      ]
    },
    {
      "cell_type": "markdown",
      "metadata": {
        "id": "y3-fV2EPp5mN"
      },
      "source": [
        "### Начальное понимание (вряд ли будет обновляться)"
      ]
    },
    {
      "cell_type": "markdown",
      "metadata": {
        "id": "N6bP9TSLeAIk"
      },
      "source": [
        "Вы знаете, что у строки есть метод `str.split`, который возвращает список из частей строки, разбитой по некоторому разделителю `sep`:"
      ]
    },
    {
      "cell_type": "code",
      "metadata": {
        "colab": {
          "base_uri": "https://localhost:8080/"
        },
        "id": "Gby6TQDMfq5n",
        "outputId": "e6e9c545-95b7-4470-ba03-d89a2b095ffb"
      },
      "source": [
        "help(str.split)"
      ],
      "execution_count": null,
      "outputs": [
        {
          "output_type": "stream",
          "text": [
            "Help on method_descriptor:\n",
            "\n",
            "split(self, /, sep=None, maxsplit=-1)\n",
            "    Return a list of the words in the string, using sep as the delimiter string.\n",
            "    \n",
            "    sep\n",
            "      The delimiter according which to split the string.\n",
            "      None (the default value) means split according to any whitespace,\n",
            "      and discard empty strings from the result.\n",
            "    maxsplit\n",
            "      Maximum number of splits to do.\n",
            "      -1 (the default value) means no limit.\n",
            "\n"
          ],
          "name": "stdout"
        }
      ]
    },
    {
      "cell_type": "code",
      "metadata": {
        "colab": {
          "base_uri": "https://localhost:8080/"
        },
        "id": "hOmYUIg3d8j3",
        "outputId": "2ec558d3-c9a9-44aa-a949-d9537e126065"
      },
      "source": [
        "print(\"ae be ce de\".split(\" \"))  # ['ae', 'be', 'ce', 'de']\n",
        "print(\"aaa,bb,cccc,d\".split(\",\"))  # ['aaa', 'bb', 'cccc', 'd']\n",
        "print(\"a, b, c, d\".split(\", \"))  # ['a', 'b', 'c', 'd']\n",
        "print(\"a, b, c, , d\".split(\", \"))  # ['a', 'b', 'c', '', 'd'] -- строки могут быть пустыми!\n",
        "print(\"a  b\".split(\" \"))  # ['a', '', 'b']\n",
        "print(\"\"\"a b\\t\n",
        "c\n",
        "\"\"\".split())  # ['a', 'b', 'c'] -- если не указать sep, split разбивает по всем пробельным символам"
      ],
      "execution_count": null,
      "outputs": [
        {
          "output_type": "stream",
          "text": [
            "['ae', 'be', 'ce', 'de']\n",
            "['aaa', 'bb', 'cccc', 'd']\n",
            "['a', 'b', 'c', 'd']\n",
            "['a', 'b', 'c', '', 'd']\n",
            "['a', '', 'b']\n",
            "['a', 'b', 'c']\n"
          ],
          "name": "stdout"
        }
      ]
    },
    {
      "cell_type": "markdown",
      "metadata": {
        "id": "g_IBuiwmgc_f"
      },
      "source": [
        "Ваша задача чуть сложнее -- реализовать такой вариант split, который будет не только разбивать по пробельным символам (`WHITESPACES`), но и отделять от слов все знаки препинания, кроме апострофов.\n",
        "\n",
        "Также ваша функция должна не включит в итоговый список строк пустые строки!\n",
        "\n",
        "Знаки препинания возьмём из библиотеки `string`. Кстати, полезная библиотека! Почитайте :)\n",
        "\n",
        "Назовём функцию, которую вам надо реализовать, `split_to_tokens()`.\n",
        "\n",
        "Чтобы лучше понять работу функции -- как всегда, посмотрите на тесты! (они в конце блока)\n",
        "\n",
        "Помните, что и в начале, и в конце слова может быть больше от одного до скольки угодно знаков препинания ;)\n",
        "\n",
        "После этого вам нужно реализовать функцию `split_tokens_to_phrases()`."
      ]
    },
    {
      "cell_type": "markdown",
      "metadata": {
        "id": "426HeHVOp9MZ"
      },
      "source": [
        "### Файл с функциями, которые вам нужно реализовать (будет обновляться)"
      ]
    },
    {
      "cell_type": "code",
      "metadata": {
        "id": "Bpi_K1zyoNea",
        "colab": {
          "base_uri": "https://localhost:8080/"
        },
        "outputId": "0a64bf97-29e0-4271-eefe-cb350c31a97b"
      },
      "source": [
        "%%file rake_rank.py\n",
        "\"\"\"\n",
        "Module containing utilities for RAKE algorithm.\n",
        "\"\"\"\n",
        "import string\n",
        "\n",
        "from typing import Dict, List, Tuple\n",
        "\n",
        "WHITESPACES = ' \\t\\r\\n\\v\\f'  # Но можно обойтись и без этой константы!\n",
        "PUNCTUATION = string.punctuation.replace(\"'\", \"\")  # Удалим апостроф из знаков препинания\n",
        "\n",
        "\n",
        "def split_to_tokens(text: str) -> List[str]:\n",
        "    \"\"\"\n",
        "    Функция работает почти как метод str.split(), с некоторыми особенностями:\n",
        "    - пустые строки не остаются в итоговом списке\n",
        "    - знаки препинания в начале и в конце слова (все, кроме апострофа) отделяются от слова\n",
        "\n",
        "    Example:\n",
        "    split_to_tokens('John     said \"Hey!\" (and some other words.)') ->\n",
        "    -> ['John', 'said', '\"', 'Hey', '!', '\"', '(', 'and', 'some', 'other', 'words', '.', ')']\n",
        "    \"\"\"\n",
        "    raise NotImplementedError\n",
        "\n",
        "\n",
        "# вам может понадобиться \" \".join(...)\n",
        "def split_tokens_to_phrases(tokens: List[str], stoplist: List[str]) -> List[str]:\n",
        "    \"\"\"\n",
        "    Функция получает на вход список токенов tokens и список разделителей stoplist,\n",
        "    а возвращает список фраз.\n",
        "    Фраза -- такой набор токенов, что\n",
        "    - фраза содержит несколько токенов (>0), идущих в списке tokens подряд\n",
        "    - фраза не содержит разделителей\n",
        "    - перед фразой стоит разделитель из stoplist или начало списка tokens\n",
        "    - после фразы стоит разделитель из stoplist или конец списка tokens\n",
        "\n",
        "    Если простыми словами, нужно сложить слова в словосочетаниями,\n",
        "    а границами этих словосочетаний являются элементы stoplist\n",
        "    Example:\n",
        "    split_tokens_to_phrases(\n",
        "        tokens=[\"Mary\", \"and\", \"John\", \",\", \"some\", \"words\", \"(\", \"and\", \"other\", \"words\", \")\"],\n",
        "        stoplist=[\"and\", \",\", \".\", \"(\", \")\"]) ->\n",
        "    -> [\"Mary\", \"John\", \"some words\", \"other words\"]\n",
        "    \"\"\"\n",
        "    raise NotImplementedError\n",
        "\n",
        "\n",
        "def get_cooccurrence_graph(phrases: List[str]) -> Dict[str, Dict[str, int]]:\n",
        "    \"\"\"\n",
        "    Функция принимает список фраз и возвращает таблицу совместной встречаемости в виде словаря,\n",
        "    где ключом является токен, а значением -- словарём\n",
        "    (в этом внутреннем словаре ключ -- токен, а значение -- встречаемость).\n",
        "\n",
        "    Пример: смотрите тесты!\n",
        "    \"\"\"\n",
        "    raise NotImplementedError\n",
        "\n",
        "\n",
        "def get_degrees(cooccurrence_graph: Dict[str, Dict[str, int]]) -> Dict[str, int]:\n",
        "    \"\"\"\n",
        "    Функция принимает таблицу встречаемости и для каждого токена возвращает его СТЕПЕНЬ:\n",
        "    сумму длин фраз, в которых встречается этот токен.\n",
        "\n",
        "    Пример: смотрите тесты!\n",
        "    \"\"\"\n",
        "    raise NotImplementedError\n",
        "\n",
        "\n",
        "def get_frequencies(cooccurrence_graph: Dict[str, Dict[str, int]]) -> Dict[str, int]:\n",
        "    \"\"\"\n",
        "    Функция принимает таблицу встречаемости и для каждого токена возвращает его ЧАСТОТУ:\n",
        "    количество раз, которое этот токен встречается.\n",
        "\n",
        "    Пример: смотрите тесты!\n",
        "    \"\"\"\n",
        "    raise NotImplementedError\n",
        "\n",
        "\n",
        "def get_ranked_phrases(phrases: List[str], *,\n",
        "                       degrees: Dict[str, int],\n",
        "                       frequencies: Dict[str, int]) -> List[Tuple[str, float]]:\n",
        "    \"\"\"\n",
        "    Функция принимает список фраз, степени и частоты токенов.\n",
        "    Функция возвращает список кортежей, где каждый кортеж -- фраза и её score.\n",
        "    Score должен быть округлен до 2 знаков после запятой.\n",
        "    Элементы списка упорядочены по убыванию score,\n",
        "    при равенстве score -- в алфавитном порядке по фразе.\n",
        "    \"\"\"\n",
        "    raise NotImplementedError\n",
        "\n"
      ],
      "execution_count": null,
      "outputs": [
        {
          "output_type": "stream",
          "text": [
            "Overwriting rake_rank.py\n"
          ],
          "name": "stdout"
        }
      ]
    },
    {
      "cell_type": "markdown",
      "metadata": {
        "id": "otnUnm4LqCBe"
      },
      "source": [
        "### Файл с тестами (будет обновляться)"
      ]
    },
    {
      "cell_type": "code",
      "metadata": {
        "id": "Y0TzpznumVkO"
      },
      "source": [
        "%%file test_public.py\n",
        "from collections import namedtuple\n",
        "import pytest\n",
        "\n",
        "from rake_rank import get_cooccurrence_graph, get_degrees, get_frequencies, get_ranked_phrases\n",
        "from rake_rank import split_to_tokens, split_tokens_to_phrases\n",
        "\n",
        "# LINEAR DIOPHANTINE EQUATIONS ARTICLE\n",
        "\n",
        "DIOPHANTINE_ABSTRACT = \"\"\"\n",
        "Compatibility of systems of linear constraints over the set of natural numbers.\n",
        "Criteria of compatibility of a system of linear Diophantine equations, strict inequations,\n",
        "and nonstrict inequations are considered.\n",
        "Upper bounds for components of a minimal set of solutions and algorithms of construction\n",
        "of minimal generating sets of solutions for all types of systems are given.\n",
        "These criteria and the corresponding algorithms for constructing a minimal supporting set\n",
        "of solutions can be used in solving all the considered types of systems and systems.\n",
        "\"\"\"\n",
        "\n",
        "DIOPHANTINE_TOKENS_EXPECTED = [\n",
        "    'Compatibility', 'of', 'systems', 'of', 'linear', 'constraints', 'over', 'the', 'set', 'of',\n",
        "    'natural', 'numbers', '.', 'Criteria', 'of', 'compatibility', 'of', 'a', 'system', 'of',\n",
        "    'linear', 'Diophantine', 'equations', ',', 'strict', 'inequations', ',', 'and', 'nonstrict',\n",
        "    'inequations', 'are', 'considered', '.', 'Upper', 'bounds', 'for', 'components', 'of', 'a',\n",
        "    'minimal', 'set', 'of', 'solutions', 'and', 'algorithms', 'of', 'construction', 'of',\n",
        "    'minimal', 'generating', 'sets', 'of', 'solutions', 'for', 'all', 'types', 'of', 'systems',\n",
        "    'are', 'given', '.', 'These', 'criteria', 'and', 'the', 'corresponding', 'algorithms', 'for',\n",
        "    'constructing', 'a', 'minimal', 'supporting', 'set', 'of', 'solutions', 'can', 'be', 'used',\n",
        "    'in', 'solving', 'all', 'the', 'considered', 'types', 'of', 'systems', 'and', 'systems', '.'\n",
        "]\n",
        "\n",
        "DIOPHANTINE_PHRASES_EXPECTED = [\n",
        "    'Compatibility', 'systems', 'linear constraints', 'set', 'natural numbers', 'Criteria',\n",
        "    'compatibility', 'system', 'linear Diophantine equations', 'strict inequations',\n",
        "    'nonstrict inequations', 'Upper bounds', 'components', 'minimal set', 'solutions',\n",
        "    'algorithms', 'construction', 'minimal generating sets', 'solutions', 'systems',\n",
        "    'criteria', 'corresponding algorithms', 'constructing', 'minimal supporting set',\n",
        "    'solutions', 'solving', 'systems', 'systems'\n",
        "]\n",
        "\n",
        "DIOPHANTINE_COOCCURRENCE_EXPECTED = {\n",
        "    'algorithms': {'algorithms': 2, 'corresponding': 1},\n",
        "    'bounds': {'bounds': 1, 'upper': 1},\n",
        "    'compatibility': {'compatibility': 2},\n",
        "    'components': {'components': 1},\n",
        "    'constraints': {'constraints': 1, 'linear': 1},\n",
        "    'constructing': {'constructing': 1},\n",
        "    'construction': {'construction': 1},\n",
        "    'corresponding': {'algorithms': 1, 'corresponding': 1},\n",
        "    'criteria': {'criteria': 2},\n",
        "    'diophantine': {'diophantine': 1, 'equations': 1, 'linear': 1},\n",
        "    'equations': {'diophantine': 1, 'equations': 1, 'linear': 1},\n",
        "    'generating': {'generating': 1, 'minimal': 1, 'sets': 1},\n",
        "    'inequations': {'inequations': 2, 'nonstrict': 1, 'strict': 1},\n",
        "    'linear': {'constraints': 1, 'diophantine': 1, 'equations': 1, 'linear': 2},\n",
        "    'minimal': {\n",
        "        'generating': 1,\n",
        "        'minimal': 3,\n",
        "        'set': 2,\n",
        "        'sets': 1,\n",
        "        'supporting': 1\n",
        "    },\n",
        "    'natural': {'natural': 1, 'numbers': 1},\n",
        "    'nonstrict': {'inequations': 1, 'nonstrict': 1},\n",
        "    'numbers': {'natural': 1, 'numbers': 1},\n",
        "    'set': {'minimal': 2, 'set': 3, 'supporting': 1},\n",
        "    'sets': {'generating': 1, 'minimal': 1, 'sets': 1},\n",
        "    'solutions': {'solutions': 3},\n",
        "    'solving': {'solving': 1},\n",
        "    'strict': {'inequations': 1, 'strict': 1},\n",
        "    'supporting': {'minimal': 1, 'set': 1, 'supporting': 1},\n",
        "    'system': {'system': 1},\n",
        "    'systems': {'systems': 4},\n",
        "    'upper': {'bounds': 1, 'upper': 1}\n",
        " }\n",
        "\n",
        "DIOPHANTINE_DEGREES_EXPECTED = {\n",
        "    'compatibility': 2, 'systems': 4, 'linear': 5, 'constraints': 2, 'set': 6, 'natural': 2,\n",
        "    'numbers': 2, 'criteria': 2, 'system': 1, 'diophantine': 3, 'equations': 3, 'strict': 2,\n",
        "    'inequations': 4, 'nonstrict': 2, 'upper': 2, 'bounds': 2, 'components': 1, 'minimal': 8,\n",
        "    'solutions': 3, 'algorithms': 3, 'construction': 1, 'generating': 3, 'sets': 3,\n",
        "    'corresponding': 2, 'constructing': 1, 'supporting': 3, 'solving': 1\n",
        "}\n",
        "\n",
        "DIOPHANTINE_FREQUENCIES_EXPECTED = {\n",
        "    'compatibility': 2, 'systems': 4, 'linear': 2, 'constraints': 1, 'set': 3, 'natural': 1,\n",
        "    'numbers': 1, 'criteria': 2, 'system': 1, 'diophantine': 1, 'equations': 1, 'strict': 1,\n",
        "    'inequations': 2, 'nonstrict': 1, 'upper': 1, 'bounds': 1, 'components': 1, 'minimal': 3,\n",
        "    'solutions': 3, 'algorithms': 2, 'construction': 1, 'generating': 1, 'sets': 1,\n",
        "    'corresponding': 1, 'constructing': 1, 'supporting': 1, 'solving': 1\n",
        "}\n",
        "\n",
        "DIOPHANTINE_RANKED_EXPECTED = [\n",
        "    ('minimal generating sets', 8.67), ('linear diophantine equations', 8.5),\n",
        "    ('minimal supporting set', 7.67), ('minimal set', 4.67), ('linear constraints', 4.5),\n",
        "    ('natural numbers', 4.0), ('nonstrict inequations', 4.0), ('strict inequations', 4.0),\n",
        "    ('upper bounds', 4.0), ('corresponding algorithms', 3.5), ('set', 2.0), ('algorithms', 1.5),\n",
        "    ('compatibility', 1.0), ('components', 1.0), ('constructing', 1.0), ('construction', 1.0),\n",
        "    ('criteria', 1.0), ('solutions', 1.0), ('solving', 1.0), ('system', 1.0), ('systems', 1.0)\n",
        "]\n",
        "\n",
        "# HHV-8 KS ARTICLE\n",
        "\n",
        "HVV8_KS_ABSTRACT = \"\"\"\n",
        "The epidemiology of Kaposi's sarcoma (KS) amongst North American and Northern European patients\n",
        "with AIDS suggests that an infectious agent other than HIV is involved in its pathogenesis.\n",
        "Several lines of evidence indicate that human herpesvirus 8 (HHV-8),\n",
        "also termed Kaposi's sarcoma associated herpesvirus, is the sought after agent.\n",
        "DNA of HHV-8 is invariably found in all forms of KS where the virus is present\n",
        " in the KS spindle cell.\n",
        " In contrast, HHV-8 DNA is not regularly detected in most other malignancies.\n",
        "Antibodies against HHV-8 are more frequently found in groups at risk of KS,\n",
        "and HHV-8 seroconversion precedes KS development.\n",
        "Several HHV-8 genes have been identified that exhibit transforming potential\n",
        " in cell culture systems. In addition, the virus encodes and induces several cytokines\n",
        "  and angiogenic factors. This is of particular interest as models of KS pathogenesis developed\n",
        "   before the discovery of HHV-8 emphasized the importance of inflammatory cytokines.\n",
        "   Although the expression pattern of viral genes in KS is not certain yet,\n",
        "   it appears likely that the pathogenetic role of HHV-8 in KS may be rather complex and\n",
        "   differs from other virus-induced malignancies. 1999 Academic Press.\n",
        "\"\"\"\n",
        "\n",
        "HVV8_KS_TOKENS_EXPECTED = [\n",
        "    'The', 'epidemiology', 'of', \"Kaposi's\", 'sarcoma', '(', 'KS', ')', 'amongst', 'North',\n",
        "    'American', 'and', 'Northern', 'European', 'patients', 'with', 'AIDS', 'suggests', 'that',\n",
        "    'an', 'infectious', 'agent', 'other', 'than', 'HIV', 'is', 'involved', 'in', 'its',\n",
        "    'pathogenesis', '.', 'Several', 'lines', 'of', 'evidence', 'indicate', 'that', 'human',\n",
        "    'herpesvirus', '8', '(', 'HHV-8', ')', ',', 'also', 'termed', \"Kaposi's\", 'sarcoma',\n",
        "    'associated', 'herpesvirus', ',', 'is', 'the', 'sought', 'after', 'agent', '.', 'DNA',\n",
        "    'of', 'HHV-8', 'is', 'invariably', 'found', 'in', 'all', 'forms', 'of', 'KS', 'where',\n",
        "    'the', 'virus', 'is', 'present', 'in', 'the', 'KS', 'spindle', 'cell', '.', 'In',\n",
        "    'contrast', ',', 'HHV-8', 'DNA', 'is', 'not', 'regularly', 'detected', 'in', 'most',\n",
        "    'other', 'malignancies', '.', 'Antibodies', 'against', 'HHV-8', 'are', 'more',\n",
        "    'frequently', 'found', 'in', 'groups', 'at', 'risk', 'of', 'KS', ',', 'and', 'HHV-8',\n",
        "    'seroconversion', 'precedes', 'KS', 'development', '.', 'Several', 'HHV-8', 'genes',\n",
        "    'have', 'been', 'identified', 'that', 'exhibit', 'transforming', 'potential', 'in',\n",
        "    'cell', 'culture', 'systems', '.', 'In', 'addition', ',', 'the', 'virus', 'encodes',\n",
        "    'and', 'induces', 'several', 'cytokines', 'and', 'angiogenic', 'factors', '.', 'This',\n",
        "    'is', 'of', 'particular', 'interest', 'as', 'models', 'of', 'KS', 'pathogenesis',\n",
        "    'developed', 'before', 'the', 'discovery', 'of', 'HHV-8', 'emphasized', 'the',\n",
        "    'importance', 'of', 'inflammatory', 'cytokines', '.', 'Although', 'the', 'expression',\n",
        "    'pattern', 'of', 'viral', 'genes', 'in', 'KS', 'is', 'not', 'certain', 'yet', ',', 'it',\n",
        "    'appears', 'likely', 'that', 'the', 'pathogenetic', 'role', 'of', 'HHV-8', 'in', 'KS',\n",
        "    'may', 'be', 'rather', 'complex', 'and', 'differs', 'from', 'other', 'virus-induced',\n",
        "    'malignancies', '.', '1999', 'Academic', 'Press', '.'\n",
        "]\n",
        "\n",
        "HVV8_KS_PHRASES_EXPECTED = [\n",
        "    'epidemiology', \"Kaposi's sarcoma\", 'KS', 'North American', 'Northern European patients',\n",
        "    'AIDS', 'infectious agent', 'HIV', 'involved', 'pathogenesis', 'lines',\n",
        "    'evidence indicate', 'human herpesvirus 8', 'HHV-8',\n",
        "    \"termed Kaposi's sarcoma associated herpesvirus\", 'sought', 'agent', 'DNA', 'HHV-8',\n",
        "    'invariably found', 'forms', 'KS', 'virus', 'present', 'KS spindle cell', 'contrast',\n",
        "    'HHV-8 DNA', 'not regularly detected', 'malignancies', 'Antibodies', 'HHV-8',\n",
        "    'frequently found', 'groups', 'risk', 'KS', 'HHV-8 seroconversion', 'KS development',\n",
        "    'HHV-8 genes', 'identified', 'exhibit transforming potential', 'cell culture systems',\n",
        "    'addition', 'virus encodes', 'induces', 'cytokines', 'angiogenic factors',\n",
        "    'particular interest', 'models', 'KS pathogenesis developed', 'discovery',\n",
        "    'HHV-8 emphasized', 'importance', 'inflammatory cytokines', 'expression pattern',\n",
        "    'viral genes', 'KS', 'not certain', 'appears', 'pathogenetic role', 'HHV-8', 'KS',\n",
        "    'complex', 'differs', 'virus-induced malignancies', '1999 Academic Press'\n",
        "]\n",
        "\n",
        "HVV8_KS_COOCCURRENCE_EXPECTED = {\n",
        "    '1999': {'1999': 1, 'academic': 1, 'press': 1},\n",
        "    '8': {'8': 1, 'herpesvirus': 1, 'human': 1},\n",
        "    'academic': {'1999': 1, 'academic': 1, 'press': 1},\n",
        "    'addition': {'addition': 1},\n",
        "    'agent': {'agent': 2, 'infectious': 1},\n",
        "    'aids': {'aids': 1},\n",
        "    'american': {'american': 1, 'north': 1},\n",
        "    'angiogenic': {'angiogenic': 1, 'factors': 1},\n",
        "    'antibodies': {'antibodies': 1},\n",
        "    'appears': {'appears': 1},\n",
        "    'associated': {\n",
        "        'associated': 1,\n",
        "        'herpesvirus': 1,\n",
        "        \"kaposi's\": 1,\n",
        "        'sarcoma': 1,\n",
        "        'termed': 1\n",
        "    },\n",
        "    'cell': {'cell': 2, 'culture': 1, 'ks': 1, 'spindle': 1, 'systems': 1},\n",
        "    'certain': {'certain': 1, 'not': 1},\n",
        "    'complex': {'complex': 1},\n",
        "    'contrast': {'contrast': 1},\n",
        "    'culture': {'cell': 1, 'culture': 1, 'systems': 1},\n",
        "    'cytokines': {'cytokines': 2, 'inflammatory': 1},\n",
        "    'detected': {'detected': 1, 'not': 1, 'regularly': 1},\n",
        "    'developed': {'developed': 1, 'ks': 1, 'pathogenesis': 1},\n",
        "    'development': {\n",
        "        'development': 1,\n",
        "        'ks': 1,\n",
        "    },\n",
        "    'differs': {'differs': 1},\n",
        "    'discovery': {'discovery': 1},\n",
        "    'dna': {'dna': 2, 'hhv-8': 1},\n",
        "    'emphasized': {'emphasized': 1, 'hhv-8': 1},\n",
        "    'encodes': {'encodes': 1, 'virus': 1},\n",
        "    'epidemiology': {'epidemiology': 1},\n",
        "    'european': {'european': 1, 'northern': 1, 'patients': 1},\n",
        "    'evidence': {'evidence': 1, 'indicate': 1},\n",
        "    'exhibit': {'exhibit': 1, 'potential': 1, 'transforming': 1},\n",
        "    'expression': {'expression': 1, 'pattern': 1},\n",
        "    'factors': {'angiogenic': 1, 'factors': 1},\n",
        "    'forms': {'forms': 1},\n",
        "    'found': {'found': 2, 'frequently': 1, 'invariably': 1},\n",
        "    'frequently': {'found': 1, 'frequently': 1},\n",
        "    'genes': {'genes': 2, 'hhv-8': 1, 'viral': 1},\n",
        "    'groups': {'groups': 1},\n",
        "    'herpesvirus': {\n",
        "        '8': 1,\n",
        "        'associated': 1,\n",
        "        'herpesvirus': 2,\n",
        "        'human': 1,\n",
        "        \"kaposi's\": 1,\n",
        "        'sarcoma': 1,\n",
        "        'termed': 1\n",
        "    },\n",
        "    'hhv-8': {\n",
        "        'dna': 1,\n",
        "        'emphasized': 1,\n",
        "        'genes': 1,\n",
        "        'hhv-8': 8,\n",
        "        'seroconversion': 1\n",
        "    },\n",
        "    'hiv': {'hiv': 1},\n",
        "    'human': {'8': 1, 'herpesvirus': 1, 'human': 1},\n",
        "    'identified': {'identified': 1},\n",
        "    'importance': {'importance': 1},\n",
        "    'indicate': {'evidence': 1, 'indicate': 1},\n",
        "    'induces': {'induces': 1},\n",
        "    'infectious': {'agent': 1, 'infectious': 1},\n",
        "    'inflammatory': {'cytokines': 1, 'inflammatory': 1},\n",
        "    'interest': {'interest': 1, 'particular': 1},\n",
        "    'invariably': {'found': 1, 'invariably': 1},\n",
        "    'involved': {'involved': 1},\n",
        "    \"kaposi's\": {\n",
        "        'associated': 1,\n",
        "        'herpesvirus': 1,\n",
        "        \"kaposi's\": 2,\n",
        "        'sarcoma': 2,\n",
        "        'termed': 1\n",
        "    },\n",
        "    'ks': {\n",
        "        'cell': 1,\n",
        "        'developed': 1,\n",
        "        'development': 1,\n",
        "        'ks': 8,\n",
        "        'pathogenesis': 1,\n",
        "        'spindle': 1\n",
        "    },\n",
        "    'lines': {'lines': 1},\n",
        "    'malignancies': {'malignancies': 2, 'virus-induced': 1},\n",
        "    'models': {'models': 1},\n",
        "    'north': {'american': 1, 'north': 1},\n",
        "    'northern': {'european': 1, 'northern': 1, 'patients': 1},\n",
        "    'not': {'certain': 1, 'detected': 1, 'not': 2, 'regularly': 1},\n",
        "    'particular': {'interest': 1, 'particular': 1},\n",
        "    'pathogenesis': {'developed': 1, 'ks': 1, 'pathogenesis': 2},\n",
        "    'pathogenetic': {'pathogenetic': 1, 'role': 1},\n",
        "    'patients': {'european': 1, 'northern': 1, 'patients': 1},\n",
        "    'pattern': {'expression': 1, 'pattern': 1},\n",
        "    'potential': {'exhibit': 1, 'potential': 1, 'transforming': 1},\n",
        "    'present': {'present': 1},\n",
        "    'press': {'1999': 1, 'academic': 1, 'press': 1},\n",
        "    'regularly': {'detected': 1, 'not': 1, 'regularly': 1},\n",
        "    'risk': {'risk': 1},\n",
        "    'role': {'pathogenetic': 1, 'role': 1},\n",
        "    'sarcoma': {\n",
        "        'associated': 1,\n",
        "        'herpesvirus': 1,\n",
        "        \"kaposi's\": 2,\n",
        "        'sarcoma': 2,\n",
        "        'termed': 1\n",
        "    },\n",
        "    'seroconversion': {\n",
        "        'hhv-8': 1,\n",
        "        'seroconversion': 1\n",
        "    },\n",
        "    'sought': {'sought': 1},\n",
        "    'spindle': {'cell': 1, 'ks': 1, 'spindle': 1},\n",
        "    'systems': {'cell': 1, 'culture': 1, 'systems': 1},\n",
        "    'termed': {\n",
        "        'associated': 1,\n",
        "        'herpesvirus': 1,\n",
        "        \"kaposi's\": 1,\n",
        "        'sarcoma': 1,\n",
        "        'termed': 1\n",
        "    },\n",
        "    'transforming': {'exhibit': 1, 'potential': 1, 'transforming': 1},\n",
        "    'viral': {'genes': 1, 'viral': 1},\n",
        "    'virus': {'encodes': 1, 'virus': 2},\n",
        "    'virus-induced': {'malignancies': 1, 'virus-induced': 1}\n",
        " }\n",
        "\n",
        "HVV8_KS_DEGREES_EXPECTED = {\n",
        "    'epidemiology': 1, \"kaposi's\": 7, 'sarcoma': 7, 'ks': 13, 'north': 2, 'american': 2,\n",
        "    'northern': 3, 'european': 3, 'patients': 3, 'aids': 1, 'infectious': 2, 'agent': 3, 'hiv': 1,\n",
        "    'involved': 1, 'pathogenesis': 4, 'lines': 1, 'evidence': 2, 'indicate': 2, 'human': 3,\n",
        "    'herpesvirus': 8, '8': 3, 'hhv-8': 12, 'termed': 5, 'associated': 5, 'sought': 1, 'dna': 3,\n",
        "    'invariably': 2, 'found': 4, 'forms': 1, 'virus': 3, 'present': 1, 'spindle': 3, 'cell': 6,\n",
        "    'contrast': 1, 'not': 5, 'regularly': 3, 'detected': 3, 'malignancies': 3, 'antibodies': 1,\n",
        "    'frequently': 2, 'groups': 1, 'risk': 1, 'seroconversion': 2, 'development': 2,\n",
        "    'genes': 4, 'identified': 1, 'exhibit': 3, 'transforming': 3, 'potential': 3, 'culture': 3,\n",
        "    'systems': 3, 'addition': 1, 'encodes': 2, 'induces': 1, 'cytokines': 3, 'angiogenic': 2,\n",
        "    'factors': 2, 'particular': 2, 'interest': 2, 'models': 1, 'developed': 3, 'discovery': 1,\n",
        "    'emphasized': 2, 'importance': 1, 'inflammatory': 2, 'expression': 2, 'pattern': 2, 'viral': 2,\n",
        "    'certain': 2, 'appears': 1, 'pathogenetic': 2, 'role': 2, 'complex': 1, 'differs': 1,\n",
        "    'virus-induced': 2, '1999': 3, 'academic': 3, 'press': 3\n",
        "}\n",
        "\n",
        "HVV8_KS_FREQUENCIES_EXPECTED = {\n",
        "    'epidemiology': 1, \"kaposi's\": 2, 'sarcoma': 2, 'ks': 8, 'north': 1, 'american': 1,\n",
        "    'northern': 1, 'european': 1, 'patients': 1, 'aids': 1, 'infectious': 1, 'agent': 2, 'hiv': 1,\n",
        "    'involved': 1, 'pathogenesis': 2, 'lines': 1, 'evidence': 1, 'indicate': 1, 'human': 1,\n",
        "    'herpesvirus': 2, '8': 1, 'hhv-8': 8, 'termed': 1, 'associated': 1, 'sought': 1, 'dna': 2,\n",
        "    'invariably': 1, 'found': 2, 'forms': 1, 'virus': 2, 'present': 1, 'spindle': 1, 'cell': 2,\n",
        "    'contrast': 1, 'not': 2, 'regularly': 1, 'detected': 1, 'malignancies': 2, 'antibodies': 1,\n",
        "    'frequently': 1, 'groups': 1, 'risk': 1, 'seroconversion': 1, 'development': 1,\n",
        "    'genes': 2, 'identified': 1, 'exhibit': 1, 'transforming': 1, 'potential': 1, 'culture': 1,\n",
        "    'systems': 1, 'addition': 1, 'encodes': 1, 'induces': 1, 'cytokines': 2, 'angiogenic': 1,\n",
        "    'factors': 1, 'particular': 1, 'interest': 1, 'models': 1, 'developed': 1, 'discovery': 1,\n",
        "    'emphasized': 1, 'importance': 1, 'inflammatory': 1, 'expression': 1, 'pattern': 1,\n",
        "    'viral': 1, 'certain': 1, 'appears': 1, 'pathogenetic': 1, 'role': 1, 'complex': 1,\n",
        "    'differs': 1, 'virus-induced': 1, '1999': 1, 'academic': 1, 'press': 1\n",
        "}\n",
        "\n",
        "\n",
        "HVV8_KS_RANKED_EXPECTED = [\n",
        "    (\"termed kaposi's sarcoma associated herpesvirus\", 21.0), ('human herpesvirus 8', 10.0),\n",
        "    ('1999 academic press', 9.0), ('cell culture systems', 9.0),\n",
        "    ('exhibit transforming potential', 9.0), ('northern european patients', 9.0),\n",
        "    ('not regularly detected', 8.5), ('ks spindle cell', 7.62), (\"kaposi's sarcoma\", 7.0),\n",
        "    ('ks pathogenesis developed', 6.62), ('not certain', 4.5), ('angiogenic factors', 4.0),\n",
        "    ('evidence indicate', 4.0), ('expression pattern', 4.0), ('frequently found', 4.0),\n",
        "    ('invariably found', 4.0), ('north american', 4.0), ('particular interest', 4.0),\n",
        "    ('pathogenetic role', 4.0), ('viral genes', 4.0), ('ks development', 3.62),\n",
        "    ('hhv-8 emphasized', 3.5), ('hhv-8 genes', 3.5), ('hhv-8 seroconversion', 3.5),\n",
        "    ('infectious agent', 3.5), ('inflammatory cytokines', 3.5), ('virus encodes', 3.5),\n",
        "    ('virus-induced malignancies', 3.5), ('hhv-8 dna', 3.0), ('pathogenesis', 2.0), ('ks', 1.62),\n",
        "    ('agent', 1.5), ('cytokines', 1.5), ('dna', 1.5), ('hhv-8', 1.5), ('malignancies', 1.5),\n",
        "    ('virus', 1.5), ('addition', 1.0), ('aids', 1.0), ('antibodies', 1.0), ('appears', 1.0),\n",
        "    ('complex', 1.0), ('contrast', 1.0), ('differs', 1.0), ('discovery', 1.0),\n",
        "    ('epidemiology', 1.0), ('forms', 1.0), ('groups', 1.0), ('hiv', 1.0), ('identified', 1.0),\n",
        "    ('importance', 1.0), ('induces', 1.0), ('involved', 1.0), ('lines', 1.0), ('models', 1.0),\n",
        "    ('present', 1.0), ('risk', 1.0), ('sought', 1.0)\n",
        "]\n",
        "\n",
        "\n",
        "BIG_STOPLIST = [\n",
        "    '(', ')', 'and', 'of', 'the', 'amongst', 'with', 'from', 'after', 'its', 'it', 'at', 'is',\n",
        "    'this', ',', '.', 'be', 'in', 'that', 'an', 'other', 'than', 'also', 'are', 'may', 'suggests',\n",
        "    'all', 'where', 'most', 'against', 'more', 'have', 'been', 'several', 'as', 'before',\n",
        "    'although', 'yet', 'likely', 'rather', 'over', 'a', 'for', 'can', 'these', 'considered',\n",
        "    'used', 'types', 'given', 'precedes',\n",
        "]\n",
        "\n",
        "\n",
        "Case = namedtuple('Case', ['data', 'expected', 'name'])\n",
        "\n",
        "\n",
        "TOKENS_TEST_CASES = [\n",
        "    Case(data=HVV8_KS_ABSTRACT, expected=HVV8_KS_TOKENS_EXPECTED, name='hhv8-ks'),\n",
        "    Case(data=DIOPHANTINE_ABSTRACT, expected=DIOPHANTINE_TOKENS_EXPECTED, name='diophantine'),\n",
        "]\n",
        "\n",
        "\n",
        "PHRASES_TEST_CASES = [\n",
        "    Case(data=HVV8_KS_ABSTRACT, expected=HVV8_KS_PHRASES_EXPECTED, name='hhv8-ks'),\n",
        "    Case(data=DIOPHANTINE_ABSTRACT, expected=DIOPHANTINE_PHRASES_EXPECTED, name='diophantine'),\n",
        "]\n",
        "\n",
        "\n",
        "COOCCURRENCE_TEST_CASES = [\n",
        "    Case(data=HVV8_KS_ABSTRACT, expected=HVV8_KS_COOCCURRENCE_EXPECTED, name='hhv8-ks'),\n",
        "    Case(data=DIOPHANTINE_ABSTRACT, expected=DIOPHANTINE_COOCCURRENCE_EXPECTED, name='diophantine'),\n",
        "]\n",
        "\n",
        "\n",
        "DEGREES_TEST_CASES = [\n",
        "    Case(data=HVV8_KS_ABSTRACT, expected=HVV8_KS_DEGREES_EXPECTED, name='hhv8-ks'),\n",
        "    Case(data=DIOPHANTINE_ABSTRACT, expected=DIOPHANTINE_DEGREES_EXPECTED, name='diophantine'),\n",
        "]\n",
        "\n",
        "\n",
        "FREQUENCIES_TEST_CASES = [\n",
        "    Case(data=HVV8_KS_ABSTRACT, expected=HVV8_KS_FREQUENCIES_EXPECTED, name='hhv8-ks'),\n",
        "    Case(data=DIOPHANTINE_ABSTRACT, expected=DIOPHANTINE_FREQUENCIES_EXPECTED, name='diophantine'),\n",
        "]\n",
        "\n",
        "\n",
        "RANKED_TEST_CASES = [\n",
        "    Case(data=HVV8_KS_ABSTRACT, expected=HVV8_KS_RANKED_EXPECTED, name='hhv8-ks'),\n",
        "    Case(data=DIOPHANTINE_ABSTRACT, expected=DIOPHANTINE_RANKED_EXPECTED, name='diophantine'),\n",
        "]\n",
        "\n",
        "\n",
        "\n",
        "def test_split_to_tokens_simple() -> None:\n",
        "    assert split_to_tokens(\"OSX 13.0\") == [\"OSX\", \"13.0\"]\n",
        "    assert split_to_tokens(\"a b c\") == ['a', 'b', 'c']\n",
        "    assert split_to_tokens('John    said \"Hey!\" (and some other words.)') == \\\n",
        "        ['John', 'said', '\"', 'Hey', '!', '\"', '(', 'and', 'some', 'other', 'words', '.', ')']\n",
        "    assert split_to_tokens('A  and   B.  ') == ['A', 'and', 'B', '.']\n",
        "    assert split_to_tokens(\"(Hey...)\") == ['(', 'Hey', '.', '.', '.', ')']\n",
        "\n",
        "\n",
        "@pytest.mark.parametrize('case', TOKENS_TEST_CASES, ids=lambda c: c.name)\n",
        "def test_split_to_tokens(case: Case) -> None:\n",
        "    tokens = split_to_tokens(case.data)\n",
        "    for i, token in enumerate(tokens):\n",
        "        assert token == case.expected[i], f\"Mismatch at token #{i}: {token}\"\n",
        "    assert len(tokens) == len(case.expected), \"Wrong number of tokens\"\n",
        "\n",
        "\n",
        "def test_split_tokens_to_phrases_simple() -> None:\n",
        "    assert split_tokens_to_phrases(\n",
        "        tokens=[\"Mary\", \"and\", \"John\", \",\", \"some\", \"words\", \"(\", \"and\", \"other\", \"words\", \")\"],\n",
        "        stoplist=[\"and\", \",\", \".\", \"(\", \")\"]) == [\"Mary\", \"John\", \"some words\", \"other words\"]\n",
        "    assert split_tokens_to_phrases(tokens=[\"a\", \"b\"], stoplist=[]) == [\"a b\"]\n",
        "    assert split_tokens_to_phrases(tokens=[\"a\", \"b\", \",\", \",\", \"c\", \"d\", \",\", \"e\", \"f\", \"g\"],\n",
        "                                   stoplist=[\",\"]) == [\"a b\", \"c d\", \"e f g\"]\n",
        "\n",
        "\n",
        "@pytest.mark.parametrize('case', PHRASES_TEST_CASES, ids=lambda c: c.name)\n",
        "def test_split_tokens_to_phrases(case: Case) -> None:\n",
        "    tokens = split_to_tokens(case.data)\n",
        "    phrases = split_tokens_to_phrases(tokens, stoplist=BIG_STOPLIST)\n",
        "    for i, phrase in enumerate(phrases):\n",
        "        assert phrase == case.expected[i], f\"Mismatch at phrase #{i}: {phrase}\"\n",
        "    assert len(phrases) == len(case.expected), \"Wrong number of phrases\"\n",
        "\n",
        "\n",
        "@pytest.mark.parametrize('case', COOCCURRENCE_TEST_CASES, ids=lambda c: c.name)\n",
        "def test_get_cooccurrence_graph(case: Case) -> None:\n",
        "    tokens = split_to_tokens(case.data)\n",
        "    phrases = split_tokens_to_phrases(tokens, stoplist=BIG_STOPLIST)\n",
        "    cooccurrence_result = get_cooccurrence_graph(phrases)\n",
        "    for key in cooccurrence_result:\n",
        "        assert cooccurrence_result[key] == case.expected[key], f\"Mismatch at token {key}\"\n",
        "    assert len(cooccurrence_result) == len(case.expected), \"Wrong number of tokens\"\n",
        "\n",
        "\n",
        "@pytest.mark.parametrize('case', DEGREES_TEST_CASES, ids=lambda c: c.name)\n",
        "def test_get_degrees(case: Case) -> None:\n",
        "    tokens = split_to_tokens(case.data)\n",
        "    phrases = split_tokens_to_phrases(tokens, stoplist=BIG_STOPLIST)\n",
        "    cooccurrence = get_cooccurrence_graph(phrases)\n",
        "    degrees_result = get_degrees(cooccurrence)\n",
        "    for key in degrees_result:\n",
        "        assert degrees_result[key] == case.expected[key], f\"Mismatch at token {key}\"\n",
        "    assert len(degrees_result) == len(case.expected), \"Wrong number of tokens\"\n",
        "\n",
        "\n",
        "@pytest.mark.parametrize('case', FREQUENCIES_TEST_CASES, ids=lambda c: c.name)\n",
        "def test_get_frequencies(case: Case) -> None:\n",
        "    tokens = split_to_tokens(case.data)\n",
        "    phrases = split_tokens_to_phrases(tokens, stoplist=BIG_STOPLIST)\n",
        "    cooccurrence = get_cooccurrence_graph(phrases)\n",
        "    degrees_result = get_frequencies(cooccurrence)\n",
        "    for key in degrees_result:\n",
        "        assert degrees_result[key] == case.expected[key], f\"Mismatch at token {key}\"\n",
        "    assert len(degrees_result) == len(case.expected), \"Wrong number of tokens\"\n",
        "\n",
        "\n",
        "@pytest.mark.parametrize('case', RANKED_TEST_CASES, ids=lambda c: c.name)\n",
        "def test_get_ranked_phrases(case: Case) -> None:\n",
        "    tokens = split_to_tokens(case.data)\n",
        "    phrases = split_tokens_to_phrases(tokens, stoplist=BIG_STOPLIST)\n",
        "    cooccurrence = get_cooccurrence_graph(phrases)\n",
        "    degrees = get_degrees(cooccurrence)\n",
        "    frequencies = get_frequencies(cooccurrence)\n",
        "    ranked_result = get_ranked_phrases(phrases, degrees=degrees, frequencies=frequencies)\n",
        "    for i, phrase in enumerate(ranked_result):\n",
        "        assert phrase[0] == case.expected[i][0], f\"Mismatch at phrase #{i}: {phrase[0]}\"\n",
        "        assert phrase[1] == case.expected[i][1], \\\n",
        "            f\"Wrong score {phrase[1]} at phrase #{i}: {phrase[0]}\"\n",
        "    assert len(ranked_result) == len(case.expected), \"Wrong number of phrases\"\n",
        "\n"
      ],
      "execution_count": null,
      "outputs": []
    },
    {
      "cell_type": "markdown",
      "metadata": {
        "id": "Mwu5uUr-nYiY"
      },
      "source": [
        "### pylint + flake8"
      ]
    },
    {
      "cell_type": "code",
      "metadata": {
        "id": "F7G720jZndpM"
      },
      "source": [
        "!python -m pip install pylint flake8"
      ],
      "execution_count": null,
      "outputs": []
    },
    {
      "cell_type": "code",
      "metadata": {
        "id": "ktZTQhDMm5TR"
      },
      "source": [
        "!python -m pylint rake_rank.py --max-line-length=100\n",
        "!python -m flake8 rake_rank.py --max-line-length=100"
      ],
      "execution_count": null,
      "outputs": []
    },
    {
      "cell_type": "markdown",
      "metadata": {
        "id": "4oSypeSYnibP"
      },
      "source": [
        "### Запуск тестов"
      ]
    },
    {
      "cell_type": "code",
      "metadata": {
        "id": "f94-72YtnlPN"
      },
      "source": [
        "!python -m pip install pytest"
      ],
      "execution_count": null,
      "outputs": []
    },
    {
      "cell_type": "code",
      "metadata": {
        "id": "fvzZtpkWnQ17"
      },
      "source": [
        "!python -m pytest test_public.py -vv"
      ],
      "execution_count": null,
      "outputs": []
    }
  ]
}