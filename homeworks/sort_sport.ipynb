{
  "nbformat": 4,
  "nbformat_minor": 0,
  "metadata": {
    "colab": {
      "name": "sort_sport.ipynb",
      "provenance": [],
      "collapsed_sections": []
    },
    "kernelspec": {
      "name": "python3",
      "display_name": "Python 3"
    }
  },
  "cells": [
    {
      "cell_type": "markdown",
      "source": [
        "`sort`"
      ],
      "metadata": {
        "id": "hM6pit3pmyCd"
      }
    },
    {
      "cell_type": "code",
      "metadata": {
        "id": "atCYuKL8n3Kr"
      },
      "source": [
        "# Здесь не забудьте подписаться.\n",
        "# Также полезно изменить название с вашей фамилией: sort_sport_fokaidi"
      ],
      "execution_count": null,
      "outputs": []
    },
    {
      "cell_type": "markdown",
      "metadata": {
        "id": "CmPDAtCOncmR"
      },
      "source": [
        "Ссылка на этот листочек:\n",
        "\n",
        "https://colab.research.google.com/drive/1T6ksgfK6mSvnCY0WJ_9SU1ggvQUNhfUT?usp=sharing\n",
        "\n",
        "https://bit.ly/sort_sport"
      ]
    },
    {
      "cell_type": "markdown",
      "metadata": {
        "id": "lGA--P7cl28I"
      },
      "source": [
        "Цитата из регламента какой-то футбольной Премьер-Лиги.\n",
        "За победу даётся 3 очка, за ничью 1, за поражение 0.\n",
        "Выше в таблице располагается команда, которая набрала больше очков. (`points_total`)\n",
        "\n",
        "При равенстве очков у двух и более команд места команд определяются по следующим **дополнительным показателям**:\n",
        "- по числу побед во всех матчах (`won_total`)\n",
        "- по разности забитых и пропущенных мячей во всех матчах в сумме (`difference_total`)\n",
        "- по сумме забитых мячей во всех матчах (`scored_total`)\n",
        "- по числу очков между собой (`points_between`)\n",
        "- по числу побед между собой (`won_between`)\n",
        "- по разности забитых и пропущенных мячей в матчах между собой в сумме (`difference_between`)\n",
        "- по сумме забитых мячей в матчах между собой (`scored_between`)"
      ]
    },
    {
      "cell_type": "markdown",
      "metadata": {
        "id": "t1ATcvPIl9aZ"
      },
      "source": [
        "Дано количество команд `NUM_TEAMS` и их словарь `TEAMS_LIST` длиной `NUM_TEAMS`, где ключ -- номер команды, а значение -- название команды.\n",
        "\n",
        "Пример:"
      ]
    },
    {
      "cell_type": "code",
      "metadata": {
        "id": "JV4WaLKNmEGZ"
      },
      "source": [
        "NUM_TEAMS = 4\n",
        "TEAMS = {\n",
        "    0: \"Liverpool\",\n",
        "    1: \"Chelsea\",\n",
        "    2: \"Tottenham\",\n",
        "    3: \"Arsenal\"\n",
        "}"
      ],
      "execution_count": null,
      "outputs": []
    },
    {
      "cell_type": "markdown",
      "metadata": {
        "id": "4VLmq1EQmF9y"
      },
      "source": [
        "Дан список их игр `ALL_GAMES` длиной `(NUM_TEAMS * (NUM_TEAMS - 1))` следующего вида:"
      ]
    },
    {
      "cell_type": "code",
      "metadata": {
        "id": "F5ICzBN5mJTq"
      },
      "source": [
        "ALL_GAMES = [\n",
        "    {\"home\": 0, \"away\": 1, \"score\": \"2:0\"},\n",
        "    {\"home\": 0, \"away\": 2, \"score\": \"1:1\"},\n",
        "    {\"home\": 0, \"away\": 3, \"score\": \"1:2\"},\n",
        "    {\"home\": 1, \"away\": 2, \"score\": \"1:0\"},\n",
        "    {\"home\": 1, \"away\": 3, \"score\": \"0:5\"},\n",
        "    {\"home\": 2, \"away\": 3, \"score\": \"2:2\"},\n",
        "    {\"home\": 3, \"away\": 2, \"score\": \"0:0\"},\n",
        "    {\"home\": 3, \"away\": 1, \"score\": \"0:2\"},\n",
        "    {\"home\": 3, \"away\": 0, \"score\": \"3:1\"},\n",
        "    {\"home\": 2, \"away\": 1, \"score\": \"4:1\"},\n",
        "    {\"home\": 2, \"away\": 0, \"score\": \"2:1\"},\n",
        "    {\"home\": 1, \"away\": 0, \"score\": \"0:0\"},\n",
        "]"
      ],
      "execution_count": null,
      "outputs": []
    },
    {
      "cell_type": "markdown",
      "metadata": {
        "id": "-hFKwrjlmLVy"
      },
      "source": [
        "Строчку `{\"home\": 2, \"away\": 1, \"score\": \"4:1\"},` нужно понимать следующим образом:\n",
        "\n",
        "команда 2 играла дома с командой 1 и победила со счётом 4:1\n",
        "\n",
        "(то есть команда 2 получит 3 очка, а команда 1 получит 0 очков).\n"
      ]
    },
    {
      "cell_type": "markdown",
      "metadata": {
        "id": "86qazdTJmQL4"
      },
      "source": [
        "Также дан **упорядоченный** список дополнительных показателей `CRITERIA_ORDER`, по которым нужно сортировать команды, например:"
      ]
    },
    {
      "cell_type": "code",
      "metadata": {
        "id": "kgk7z-1_mStJ"
      },
      "source": [
        "CRITERIA_ORDER = [\n",
        "    \"points_total\",\n",
        "    \"won_between\",\n",
        "    \"difference_between\",\n",
        "    \"won_total\",\n",
        "    \"difference_total\"\n",
        "]"
      ],
      "execution_count": null,
      "outputs": []
    },
    {
      "cell_type": "markdown",
      "metadata": {
        "id": "5HbSKsglmUno"
      },
      "source": [
        "## Теперь само задание"
      ]
    },
    {
      "cell_type": "markdown",
      "metadata": {
        "id": "8df6t_iGmYdg"
      },
      "source": [
        "Ваша задача -- написать код, который отсортирует команды по этим показателям в указанном порядке, не учитывая те показатели, которые в `CRITERIA_ORDER` отсутствуют.\n",
        "После этого код должен вывести \n",
        "\n",
        "Если после сортировки какие-то команды не получилось \"разделить\" по местам, нужно выдать ошибку с понятным текстом."
      ]
    },
    {
      "cell_type": "markdown",
      "metadata": {
        "id": "9cpGbbkXmb6Z"
      },
      "source": [
        "_Также дан код, который не пригодится вам напрямую, но может помочь вам и немного вдохновить (а может и нет):_"
      ]
    },
    {
      "cell_type": "code",
      "metadata": {
        "id": "X6Qc2IEameOv"
      },
      "source": [
        "def plus(a, b):\n",
        "    return a + b\n",
        "\n",
        "def minus(a, b):\n",
        "    return a - b\n",
        "\n",
        "def multiply(a, b):\n",
        "    return a * b\n",
        "\n",
        "def divide(a, b):\n",
        "    return a // b\n",
        "\n",
        "functions = {\n",
        "    \"plus\" : plus,\n",
        "    \"minus\": minus,\n",
        "    \"multiply\": multiply,\n",
        "    \"divide\": divide,\n",
        "}\n",
        "\n",
        "def main():\n",
        "    first = int(input())\n",
        "    second = int(input())\n",
        "    operation_name = input()\n",
        "    needed_function = functions[operation_name]\n",
        "    print(needed_function(first, second))\n",
        "\n",
        "if __name__ == \"__main__\":\n",
        "    main()\n"
      ],
      "execution_count": null,
      "outputs": []
    },
    {
      "cell_type": "markdown",
      "metadata": {
        "id": "pIXwKl2UmoW6"
      },
      "source": [
        "А ниже можно писать свой код:"
      ]
    },
    {
      "cell_type": "code",
      "metadata": {
        "id": "pVKh4YsCmqsv"
      },
      "source": [
        "NUM_TEAMS = 4\n",
        "TEAMS = {\n",
        "    0: \"Liverpool\",\n",
        "    1: \"Chelsea\",\n",
        "    2: \"Tottenham\",\n",
        "    3: \"Arsenal\"\n",
        "}\n",
        "\n",
        "\n",
        "ALL_GAMES = [\n",
        "    {\"home\": 0, \"away\": 1, \"score\": \"2:0\"},\n",
        "    {\"home\": 0, \"away\": 2, \"score\": \"1:1\"},\n",
        "    {\"home\": 0, \"away\": 3, \"score\": \"1:2\"},\n",
        "    {\"home\": 1, \"away\": 2, \"score\": \"1:0\"},\n",
        "    {\"home\": 1, \"away\": 3, \"score\": \"0:5\"},\n",
        "    {\"home\": 2, \"away\": 3, \"score\": \"2:2\"},\n",
        "    {\"home\": 3, \"away\": 2, \"score\": \"0:0\"},\n",
        "    {\"home\": 3, \"away\": 1, \"score\": \"0:2\"},\n",
        "    {\"home\": 3, \"away\": 0, \"score\": \"3:1\"},\n",
        "    {\"home\": 2, \"away\": 1, \"score\": \"4:1\"},\n",
        "    {\"home\": 2, \"away\": 0, \"score\": \"2:1\"},\n",
        "    {\"home\": 1, \"away\": 0, \"score\": \"0:0\"},\n",
        "]\n",
        "\n",
        "\n",
        "CRITERIA_ORDER = [\n",
        "    \"points_total\",\n",
        "    \"won_between\",\n",
        "    \"difference_between\",\n",
        "    \"won_total\",\n",
        "    \"won_between\",\n",
        "]\n",
        "\n",
        "\n",
        "# Возможно, вам захочется дописать какие-то функции\n",
        "\n",
        "\n",
        "def get_ordered_teams_list():\n",
        "    # Ваш код здесь\n",
        "    # Функция main() должна вернуть список названий команд.\n",
        "    return sorted_teams_list\n",
        "\n",
        "\n",
        "if __name__ == \"__main__\":\n",
        "    print(\"Teams order:\\n\")\n",
        "    print(\"\\n\".join(get_ordered_teams_list()))\n"
      ],
      "execution_count": null,
      "outputs": []
    },
    {
      "cell_type": "markdown",
      "metadata": {
        "id": "j_rm1YEXm4CA"
      },
      "source": [
        "Совет: начните с тех показателей, которые зависят от всех матчей (`*_total`), а не только от матчей \"между собой\" (`*_between`).\n",
        "\n",
        "_Я думаю_, что с ними разобраться проще."
      ]
    }
  ]
}