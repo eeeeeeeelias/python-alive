{
  "nbformat": 4,
  "nbformat_minor": 0,
  "metadata": {
    "colab": {
      "name": "just_implement_functions.ipynb",
      "provenance": [],
      "collapsed_sections": []
    },
    "kernelspec": {
      "name": "python3",
      "display_name": "Python 3"
    }
  },
  "cells": [
    {
      "cell_type": "markdown",
      "source": [
        "`function` `args` `kwargs` `gcd` `recursion`"
      ],
      "metadata": {
        "id": "15Ah1rLrokzn"
      }
    },
    {
      "cell_type": "markdown",
      "metadata": {
        "id": "PgBu4vUFjeW2"
      },
      "source": [
        "Ссылка:\n",
        "\n",
        "https://colab.research.google.com/drive/1LCaR2Yvmx95ArnLwXsYV4mx6V9dhFmgs\n",
        "\n",
        "Ещё одна ссылка:\n",
        "\n",
        "http://bit.ly/functions_9\n",
        "\n",
        "Если вы заметили ошибку/опечатку/придумать смешное название для задания/хотите предложить что-то по листочку -- оставляйте комментарий. Не флудите!"
      ]
    },
    {
      "cell_type": "markdown",
      "metadata": {
        "id": "mmSgPwGu7Oi5"
      },
      "source": [
        "Порядок сдачи следующий:\n",
        "- вы пишете хороший код;\n",
        "- проверяете, что тесты проходят;\n",
        "- если тесты прошли &mdash; подойдите и покажите в колабе. Лучше сдавать пачками по 4+ заданий;\n",
        "- будьте готовы, что тесты могут быть изменены (и код придётся переписать);\n",
        "- будьте готовы, что требования к заданию могут быть изменены (и код придётся переписать);\n",
        "- будьте готовы, что код придётся переписать.\n",
        "\n",
        "Если вы сдаёте листок не на уроке:\n",
        "- вы присылаете копию исходного коллаба\n",
        "- должен быть дан доступ на редактирование аккаунту `eliasnwr@gmail.com`\n",
        "- в ячейках должны быть актуальные тесты. чтобы тесты были актуальными, лучше всего скопировать исходный коллаб, и вставить туда свой код.\n",
        "\n",
        "Если вы заметили, что в какой-то задаче неправильный код проходит тесты (то есть какого-то теста не хватает) &mdash; сообщите об этом и получите гордые дополнительные баллы :)"
      ]
    },
    {
      "cell_type": "markdown",
      "metadata": {
        "id": "HkuN9eT4m4kM"
      },
      "source": [
        "##### Задание 1.1. косипС"
      ]
    },
    {
      "cell_type": "markdown",
      "metadata": {
        "id": "OM0DrdOjjA0Q"
      },
      "source": [
        "Напишите функцию `reverse_inplace()`, которая принимает список `list_`, которая разворачивает список задом наперёд. Сам список должен измениться!\n",
        "\n",
        "Функция ничего не возвращает.\n",
        "\n",
        "**Ограничение**: использовать функцию `copy()` или `deepcopy()` нельзя. Слишком скучно.\n",
        "\n",
        "**Ограничение**: нельзя использовать уже имеющиеся в Python функции/методы `reverse`/`reversed`."
      ]
    },
    {
      "cell_type": "code",
      "metadata": {
        "id": "1c_8d3-wm2as"
      },
      "source": [
        "# место для вашего кода"
      ],
      "execution_count": null,
      "outputs": []
    },
    {
      "cell_type": "code",
      "metadata": {
        "id": "CMyGVhOVlsUp"
      },
      "source": [
        "# этот код нельзя менять\n",
        "y = [1, 2, 3, 4]\n",
        "y_reversed = [4, 3, 2, 1]\n",
        "y_id = id(y)\n",
        "reverse_inplace(list_=y)\n",
        "assert y == y_reversed\n",
        "assert id(y) == y_id\n",
        "assert reverse_inplace(list_=y) is None\n",
        "assert y == [1, 2, 3, 4]\n",
        "empty_list = []\n",
        "reverse_inplace(empty_list)\n",
        "assert empty_list ==[]\n",
        "print(\"OK\")"
      ],
      "execution_count": null,
      "outputs": []
    },
    {
      "cell_type": "markdown",
      "metadata": {
        "id": "YS8hC_Jkmusn"
      },
      "source": [
        "##### Задание 1.2. 2-косипС"
      ]
    },
    {
      "cell_type": "markdown",
      "metadata": {
        "id": "AbALpqaGm6uW"
      },
      "source": [
        "Напишите функцию `reversed()`, которая принимает список `list_` и возвращает перевёрнутый задом наперёд список. Исходный список не должен меняться!\n",
        "\n",
        "Вы можете увидеть разницу: функция `reversed()` &mdash; возвращает копию; функция `reverse_inplace()` меняет список.\n",
        "\n",
        "Ограничения из 1.1 работают.\n",
        "\n",
        "**Ограничение**: напишите код функции в три строчки.\n",
        "\n",
        "**Подсказка**: переиспользуйте код."
      ]
    },
    {
      "cell_type": "code",
      "metadata": {
        "id": "46xTWOQqnEHy"
      },
      "source": [
        "# место для вашего кода"
      ],
      "execution_count": null,
      "outputs": []
    },
    {
      "cell_type": "code",
      "metadata": {
        "id": "3shFcc2LnFQW"
      },
      "source": [
        "# этот код нельзя менять\n",
        "x = [1, 2, 3, 4]\n",
        "x_reversed = [4, 3, 2, 1]\n",
        "assert reversed(x) == x_reversed\n",
        "assert x == [1, 2, 3, 4]\n",
        "assert reversed(reversed(x)) == x\n",
        "assert id(reversed(reversed(x))) != id(x)\n",
        "assert reversed(list_=x) == x_reversed\n",
        "assert reversed([]) == []\n",
        "print(\"OK\")"
      ],
      "execution_count": null,
      "outputs": []
    },
    {
      "cell_type": "markdown",
      "metadata": {
        "id": "sS-ssAvTnZ17"
      },
      "source": [
        "##### Задание 2.1. СписокСписок"
      ]
    },
    {
      "cell_type": "markdown",
      "metadata": {
        "id": "T1JWpWFqnezD"
      },
      "source": [
        "Напишите функцию `duplicated()`, которая принимает список `list_` и возвращает список, который состоит из двух списков `list_`, написанных друг за другом.\n",
        "\n",
        "**Указание**: переиспользуйте код."
      ]
    },
    {
      "cell_type": "code",
      "metadata": {
        "id": "mGCEKajBoWBY"
      },
      "source": [
        "# место для вашего кода"
      ],
      "execution_count": null,
      "outputs": []
    },
    {
      "cell_type": "code",
      "metadata": {
        "id": "mYF58CheoTOk"
      },
      "source": [
        "# этот код нельзя менять\n",
        "z = [1, 2, 3, 4]\n",
        "z_duplicated = [1, 2, 3, 4, 1, 2, 3, 4]\n",
        "assert duplicated(list_=z) == z_duplicated\n",
        "assert z == [1, 2, 3, 4]\n",
        "assert id(duplicated(list_=z)) != id(z)\n",
        "assert duplicated([]) == []\n",
        "print(\"OK\")"
      ],
      "execution_count": null,
      "outputs": []
    },
    {
      "cell_type": "markdown",
      "metadata": {
        "id": "1ks6nCmytm5Y"
      },
      "source": [
        "##### Задание 2.2. СписокСписок-2"
      ]
    },
    {
      "cell_type": "markdown",
      "metadata": {
        "id": "_hIQa9Jxt0rL"
      },
      "source": [
        "Напишите функцию `duplicate_inplace()`, которая принимает список `list_` и меняет его: к списку дописывается он сам.\n",
        "\n",
        "Функция ничего не возвращает."
      ]
    },
    {
      "cell_type": "code",
      "metadata": {
        "id": "79v3BaIlt87h"
      },
      "source": [
        "# место для вашего кода"
      ],
      "execution_count": null,
      "outputs": []
    },
    {
      "cell_type": "code",
      "metadata": {
        "id": "V_udVMKrt-RO"
      },
      "source": [
        "# этот код нельзя менять\n",
        "b = [1, 2, 3, 4]\n",
        "b_duplicated = [1, 2, 3, 4, 1, 2, 3, 4]\n",
        "b_id = id(b)\n",
        "assert duplicate_inplace(list_=b) is None\n",
        "assert id(b) == b_id\n",
        "assert b == b_duplicated\n",
        "print(\"OK\")"
      ],
      "execution_count": null,
      "outputs": []
    },
    {
      "cell_type": "markdown",
      "metadata": {
        "id": "W0zty6mioxIu"
      },
      "source": [
        "##### Задание 3. Список"
      ]
    },
    {
      "cell_type": "markdown",
      "metadata": {
        "id": "-vUXsfn-o0Bi"
      },
      "source": [
        "Напишите функцию `get_copy()`, которая принимает список `list_` и возвращает список, который является копией списка `list_`.\n",
        "\n",
        "Сам список `list_` не должен меняться!\n",
        "\n",
        "**Ограничение**: использовать функцию `copy()` или `deepcopy()` нельзя. Слишком скучно.\n",
        "\n",
        "**Ограничение**: напишите в одну строку. Использовать `range()` тоже ни к чему."
      ]
    },
    {
      "cell_type": "code",
      "metadata": {
        "id": "xzRJvsNopRQ2"
      },
      "source": [
        "# место для вашего кода"
      ],
      "execution_count": null,
      "outputs": []
    },
    {
      "cell_type": "code",
      "metadata": {
        "id": "ANu4JJXbpfhr"
      },
      "source": [
        "# этот код нельзя менять\n",
        "a = [1, 2, 3, 4]\n",
        "a_id = id(a)\n",
        "assert id(get_copy(a)) != id(a)\n",
        "assert get_copy(list_=a) == a\n",
        "assert get_copy(list_=[]) == []\n",
        "assert id(get_copy(list_=[])) == id([])\n",
        "print(\"OK\")"
      ],
      "execution_count": null,
      "outputs": []
    },
    {
      "cell_type": "markdown",
      "metadata": {
        "id": "0lLIdcynqUI1"
      },
      "source": [
        "##### Задание 5. ????????????\n",
        "\n",
        "Сделайте так, чтобы выполнялись тесты в блоке ниже.\n",
        "\n",
        "**Ограничение**: запрещено использовать вложенные циклы! запрещено использовать `range`!"
      ]
    },
    {
      "cell_type": "code",
      "metadata": {
        "id": "J3PGh0SNqnr9"
      },
      "source": [
        "# место для вашего кода"
      ],
      "execution_count": null,
      "outputs": []
    },
    {
      "cell_type": "code",
      "metadata": {
        "id": "2PVaGGOmqpab"
      },
      "source": [
        "# этот код нельзя менять\n",
        "a = [2, 1, 3, 4]\n",
        "assert task5(list_=a, times=1) == a\n",
        "assert task5(times=1, list_=a) == a\n",
        "assert task5(list_=a, times=2) == [2, 2, 1, 1, 3, 3, 4, 4]\n",
        "assert task5(list_=a, times=0) == []\n",
        "assert task5([], times=0) == []й\n",
        "assert task5([], times=1000000000) == []\n",
        "assert id(task5(list_=a, times=1)) != id(a)\n",
        "print(\"OK\"й"
      ],
      "execution_count": null,
      "outputs": []
    },
    {
      "cell_type": "markdown",
      "metadata": {
        "id": "rSfVvfRUsUdZ"
      },
      "source": [
        "##### Задание 6. ????? ????\n",
        "Сделайте так, чтобы выполнялись тесты в блоке ниже.\n",
        "\n",
        "**Указание**: не дублируйте свой код."
      ]
    },
    {
      "cell_type": "code",
      "metadata": {
        "id": "MJ-IE26QsfQ2"
      },
      "source": [
        "# место для вашего кода"
      ],
      "execution_count": null,
      "outputs": []
    },
    {
      "cell_type": "code",
      "metadata": {
        "id": "W0b_G-Dcsgzj"
      },
      "source": [
        "# этот код нельзя менять\n",
        "assert task6(0) == 0\n",
        "assert task6(1) == 1\n",
        "assert task6(argument=8) == 8\n",
        "assert task6(111) == 3\n",
        "assert task6(10) == 1\n",
        "assert task6(100000) == 1\n",
        "assert task6(20000000) == 2\n",
        "assert task6(12345) == 15\n",
        "assert task6(223) == 7\n",
        "assert task6(101) == 2\n",
        "assert task6(-402) == -6\n",
        "assert task6(-111) == -3\n",
        "assert task6(-0) == 0\n",
        "assert task6(88) == 16\n",
        "assert task6(888) == 24\n",
        "print(\"OK\")"
      ],
      "execution_count": null,
      "outputs": []
    },
    {
      "cell_type": "markdown",
      "metadata": {
        "id": "1hm3N4wlz9o0"
      },
      "source": [
        "##### Задание 7.1. НОД"
      ]
    },
    {
      "cell_type": "markdown",
      "metadata": {
        "id": "NLxFy9CTu033"
      },
      "source": [
        "Напишите функцию `gcd()`, которая вычисляет наибольший общий делитель.\n",
        "\n",
        "Постарайтесь вспомнить алгоритм самостоятельно без гуглинга. Если не получилось &mdash; погуглите :)\n",
        "\n",
        "**Ограничение**: использовать библиотечное нельзя &mdash; пишите руками."
      ]
    },
    {
      "cell_type": "code",
      "metadata": {
        "id": "HlCnC9bKu-WL"
      },
      "source": [
        "# место для вашего кода"
      ],
      "execution_count": null,
      "outputs": []
    },
    {
      "cell_type": "code",
      "metadata": {
        "id": "GG5jGLIbvAjq"
      },
      "source": [
        "# этот код нельзя менять\n",
        "import math\n",
        "import random\n",
        "\n",
        "assert gcd(first=18, second=16) == 2\n",
        "def test_gcd(func):\n",
        "    assert func(5, 0) == 5\n",
        "    assert func(56, 42) == 14\n",
        "    assert func(42, 56) == 14\n",
        "    assert func(15, 64) == 1\n",
        "    for i in range(100):\n",
        "        first, second = random.randint(0, 1000000), random.randint(0, 1000000)\n",
        "        assert func(first, second) == math.gcd(first, second)\n",
        "test_gcd(gcd)\n",
        "print(\"OK\")"
      ],
      "execution_count": null,
      "outputs": []
    },
    {
      "cell_type": "markdown",
      "metadata": {
        "id": "a_DusPH9z_8g"
      },
      "source": [
        "##### Задание 7.2. НОД6"
      ]
    },
    {
      "cell_type": "markdown",
      "metadata": {
        "id": "YHb7oQT4wI5D"
      },
      "source": [
        "Напишите функцию `gcd6()`, которая вычисляет наибольший общий делитель 6 чисел.\n",
        "\n",
        "Постарайтесь придумать самостоятельно без гуглинга.\n",
        "\n",
        "**Совет**: подумайте, как найти НОД 3 чисел? 4 чисел?..\n",
        "\n",
        "**Совет**: переиспользуйте свой код."
      ]
    },
    {
      "cell_type": "code",
      "metadata": {
        "id": "uaxVojA0wr-B"
      },
      "source": [
        "# место для вашего кода"
      ],
      "execution_count": null,
      "outputs": []
    },
    {
      "cell_type": "code",
      "metadata": {
        "id": "2dLvSPQHwt7L"
      },
      "source": [
        "# код уже имеющихся тестов нельзя менять\n",
        "assert gcd6(2, 3, 4, 5, 6, 7) == 1\n",
        "assert gcd6(0, 0, 0, 0, 0, 0) == 0\n",
        "assert gcd6(0, 12, 12, 12, 12, 12) == 12\n",
        "# напишите 5 тестов сами!\n",
        "print(\"OK\")"
      ],
      "execution_count": null,
      "outputs": []
    },
    {
      "cell_type": "markdown",
      "metadata": {
        "id": "VUSaEW8Wz6Us"
      },
      "source": [
        "##### Задание 7.3. НОД-N"
      ]
    },
    {
      "cell_type": "markdown",
      "metadata": {
        "id": "OBXoilPl0EoL"
      },
      "source": [
        "Напишите функцию `gcd_n()`, которая принимает произвольное количество чисел и возвращает их наибольший общий делитель.\n",
        "\n",
        "**Совет**: переиспользуйте свой код."
      ]
    },
    {
      "cell_type": "code",
      "metadata": {
        "id": "QO_ld0eE0LvZ"
      },
      "source": [
        "# место для вашего кода"
      ],
      "execution_count": null,
      "outputs": []
    },
    {
      "cell_type": "code",
      "metadata": {
        "id": "UEnJCIOS0NYi"
      },
      "source": [
        "# этот код нельзя менять\n",
        "assert gcd_n(5) == 5\n",
        "assert gcd_n(0) == 0\n",
        "for i in range(2, 15):\n",
        "    assert gcd_n(*list(range(1, i))) == 1\n",
        "    assert gcd_n(*[x * 3 for x in range(1, i)]) == 3\n",
        "test_gcd(gcd_n)\n",
        "print(\"OK\")"
      ],
      "execution_count": null,
      "outputs": []
    },
    {
      "cell_type": "markdown",
      "metadata": {
        "id": "uJWb1gVDgj8y"
      },
      "source": [
        "##### Задание 8. Третий максимум"
      ]
    },
    {
      "cell_type": "markdown",
      "metadata": {
        "id": "Zj1uv8Wtgm9Z"
      },
      "source": [
        "Напишите функцию, которая принимает произвольное количество позиционных аргументов и возвращает третий максимум. Если аргументов недостаточно, кидается ошибка `ValueError('not enough args')`"
      ]
    },
    {
      "cell_type": "code",
      "metadata": {
        "id": "Rv6f3TBHgzNB"
      },
      "source": [
        "# место для вашего кода"
      ],
      "execution_count": null,
      "outputs": []
    },
    {
      "cell_type": "code",
      "metadata": {
        "id": "Pif4w_Lsg041"
      },
      "source": [
        "# этот код менять нельзя\n",
        "def test_get_max3():\n",
        "    import pytest\n",
        "    import random\n",
        "    for num_args in range(3, 10):\n",
        "        input_data = list(range(num_args))\n",
        "        assert get_max3(*input_data) == num_args - 3\n",
        "        random.shuffle(input_data)\n",
        "        assert get_max3(*input_data) == num_args - 3\n",
        "        input_data.append(num_args)\n",
        "        assert get_max3(*input_data) == num_args - 2\n",
        "        input_data.append(num_args)\n",
        "        assert get_max3(*input_data) == num_args - 1\n",
        "        input_data.append(num_args)\n",
        "        assert get_max3(*input_data) == num_args\n",
        "    with pytest.raises(ValueError) as e:\n",
        "        get_max3()\n",
        "        get_max3(0, 1)\n",
        "    assert str(e.value) == \"not enough args\"\n",
        "    print(\"OK\")\n",
        "\n",
        "test_get_max3()"
      ],
      "execution_count": null,
      "outputs": []
    },
    {
      "cell_type": "markdown",
      "metadata": {
        "id": "sOIc1Fw7g6B_"
      },
      "source": [
        "##### Задание 9. Повторите!"
      ]
    },
    {
      "cell_type": "markdown",
      "metadata": {
        "id": "Gz6hf-JJg9y6"
      },
      "source": [
        "Напишите функцию refrain, которая принимает два параметра:\n",
        "* функцию `func`, которая принимает один позиционный аргумент;\n",
        "* аргумент `x`.\n",
        "\n",
        "Функция `refrain()` вызывает два раза функцию `func()` с аргументом `x`."
      ]
    },
    {
      "cell_type": "code",
      "metadata": {
        "id": "DqN2QufqhX9a"
      },
      "source": [
        "# место для вашего кода"
      ],
      "execution_count": null,
      "outputs": []
    },
    {
      "cell_type": "code",
      "metadata": {
        "id": "rja12RQnhZbe"
      },
      "source": [
        "# напишите примеры использования!"
      ],
      "execution_count": null,
      "outputs": []
    },
    {
      "cell_type": "markdown",
      "metadata": {
        "id": "2Ln39j8OuTOO"
      },
      "source": [
        "Задания могут добавляться..."
      ]
    }
  ]
}