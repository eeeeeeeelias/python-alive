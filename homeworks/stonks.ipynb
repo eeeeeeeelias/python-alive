{
  "nbformat": 4,
  "nbformat_minor": 0,
  "metadata": {
    "colab": {
      "name": "stonks.ipynb",
      "provenance": [],
      "collapsed_sections": []
    },
    "kernelspec": {
      "name": "python3",
      "display_name": "Python 3"
    }
  },
  "cells": [
    {
      "cell_type": "markdown",
      "source": [
        "`stocks` `datetime` `json` `requests` `API`"
      ],
      "metadata": {
        "id": "3F5zwi-unbGa"
      }
    },
    {
      "cell_type": "code",
      "metadata": {
        "id": "cbw7BLq_Yjg4"
      },
      "source": [
        "# Имя Фамилия"
      ],
      "execution_count": null,
      "outputs": []
    },
    {
      "cell_type": "markdown",
      "metadata": {
        "id": "UyZcNaFIKc6y"
      },
      "source": [
        "Откройте настройки и убедитесь, что ширина отступа -- 4 пробела, а не два!"
      ]
    },
    {
      "cell_type": "markdown",
      "metadata": {
        "id": "uXhJEHJlY6rw"
      },
      "source": [
        "### Про что нужно не забыть?\n",
        "\n",
        "Во-первых, подпишите своё имя и фамилию в самом начале копии колаба, в которой вы и будете выполнять задания.\n",
        "\n",
        "Во-вторых, как и всегда, дайте доступ к колабу аккаунту `eliasnwr@gmail.com`, отправьте мне ссылку на колаб в личку в Telegram и ОБЯЗАТЕЛЬНО РАССКАЖИТЕ/ОПИШИТЕ, что вам удалось сделать, а что нет.\n",
        "\n",
        "В-третьих, проверьте весь свой код на pep8, и только когда исправите все лажи, можете сдавать. Используйте для этого pylint или http://pep8online.com/"
      ]
    },
    {
      "cell_type": "markdown",
      "metadata": {
        "id": "PHPQ54UxKlDA"
      },
      "source": [
        "Вам понадобятся библиотеки (и не только):\n",
        "- `datetime` (для работы с временем),\n",
        "- `json` (если нужно красиво вывести результаты запроса?)\n",
        "- `requests` (чтобы с помощью функции `get()` отправлять запрос)\n",
        "- [pyformat.info](https://pyformat.info) -- почитать про format-строки\n",
        "- и, возможно, что-то ещё (на ваш вкус)"
      ]
    },
    {
      "cell_type": "markdown",
      "metadata": {
        "id": "QBfeST9lK4cX"
      },
      "source": [
        "Ссылка на документацию:\n",
        "https://api.tiingo.com/documentation/end-of-day"
      ]
    },
    {
      "cell_type": "markdown",
      "metadata": {
        "id": "gIUXbzenLYVp"
      },
      "source": [
        "Задание 1: реализовать `get_stock_data()`.\n",
        "\n",
        "Дальше идут функции, которые _точно_ должны быть у вас в коде.\n",
        "\n",
        "Пожалуйста, не меняйте названия функций, названия параметров или набор параметров. Если вы всё-таки хотите это сделать по какой-то причине, например, так вам будет удобнее -- обсуждается в личном порядке."
      ]
    },
    {
      "cell_type": "code",
      "metadata": {
        "id": "Tgmv0-WKLdYJ"
      },
      "source": [
        "def get_stock_data(ticker: str, period: str):\n",
        "    raise NotImplementedError\n",
        "\n",
        "def get_historical_date_by_period(period: str):\n",
        "    raise NotImplementedError\n",
        "\n",
        "def get_stock_price_by_date(ticker: str, date: str = None) -> float:\n",
        "    if not date:\n",
        "        # это случай, когда дата не задана -- значит, надо взять сегодняшнюю\n",
        "        pass\n",
        "    raise NotImplementedError\n",
        "\n",
        "def get_price_change(historical_price: float, current_price: float) -> float:\n",
        "    raise NotImplementedError\n",
        "\n",
        "def get_formatted_price_change_string(price_change: float) -> str:\n",
        "    raise NotImplementedError\n"
      ],
      "execution_count": null,
      "outputs": []
    },
    {
      "cell_type": "markdown",
      "metadata": {
        "id": "kKhw09NDN2ao"
      },
      "source": [
        "ОБРАТИТЕ ВНИМАНИЕ! Второй параметр `get_stock_data()` -- ПЕРИОД, а не дата. Период -- это строка, которая выглядит так, как вам удобнее. Но это должен быть именно ПЕРИОД, а не дата, так вы научитесь работать с библиотекой `datetime` ;)"
      ]
    },
    {
      "cell_type": "code",
      "metadata": {
        "id": "RVXc2QxfMQJR"
      },
      "source": [
        "# Можно проверить себя:\n",
        "get_stock_data(\"MSFT\", \"1y1m1d\")  # компания Microsoft, срок 1 год, 1 месяца, 1 день\n",
        "get_stock_data(\"SBER\", \"2y3d\")  # обычные акции компании Сбербанк, срок 2 года, 3 дня\n",
        "# вывод -- строка вида \"+87.52%\", \"0%\", \"-13%\", \"-17.4%"
      ],
      "execution_count": null,
      "outputs": []
    },
    {
      "cell_type": "markdown",
      "metadata": {
        "id": "3wFBSS7HY-qp"
      },
      "source": [
        "Задание 2 (если вы сделали задание 1)\n",
        "\n",
        "Если вы запустите свою функцию на компаниях Apple/Tesla и сроке 1 год, вы увидите, что ваша функция выдаёт ответ, который не соответствует реальности.\n",
        "\n",
        "Напишите в личку Telegram:\n",
        "1. Почему так происходит? Что особенного с акциями этих компаний?\n",
        "2. Как можно исправить эту проблему, используя то же API?\n",
        "\n",
        "Если задание непонятно &mdash; пишите в личку."
      ]
    }
  ]
}