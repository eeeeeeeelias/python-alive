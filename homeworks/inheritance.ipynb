{
  "nbformat": 4,
  "nbformat_minor": 0,
  "metadata": {
    "colab": {
      "name": "inheritance.ipynb",
      "provenance": [],
      "collapsed_sections": []
    },
    "kernelspec": {
      "name": "python3",
      "display_name": "Python 3"
    }
  },
  "cells": [
    {
      "cell_type": "markdown",
      "source": [
        "`class` `inheritance` `super`"
      ],
      "metadata": {
        "id": "RU7ldfm0ke4q"
      }
    },
    {
      "cell_type": "markdown",
      "metadata": {
        "id": "GqJjV0-c2boI"
      },
      "source": [
        "Ссылка на данный листок:\n",
        "\n",
        "https://colab.research.google.com/drive/1R4Eaj-Bc8SQVkiwqrgaFExkbWERoBHZ6\n",
        "\n",
        "Ещё одна ссылка:\n",
        "\n",
        "http://bit.ly/employee_task"
      ]
    },
    {
      "cell_type": "markdown",
      "metadata": {
        "id": "Amr3UV6MHr0C"
      },
      "source": [
        "## Теоретический материал. Наследование классов."
      ]
    },
    {
      "cell_type": "markdown",
      "metadata": {
        "id": "aOd26wmoHuGv"
      },
      "source": [
        "Предполагается, что вы уже знакомы с такой вещью, как классы, методы и атрибуты, `.__init__()`.\n",
        "\n",
        "Напомним: в коде существуют переменные и функции.\n",
        "\n",
        "Переменные класса (например, `self.name`) = _атрибуты_ класса.\n",
        "\n",
        "Функции класса (например, `.count_money()`) = _методы_ класса.\n",
        "\n",
        "Давайте представим, что у нас есть какой-то класс. У него, разумеется, есть интерфейс и реализация. Это правда не только в Python, но и в целом для ООП, так что запоминайте :)\n",
        "\n",
        "Интерфейс (_interface_) &mdash; то, с помощью чего с классом взаимодействуют извне:\n",
        "* его атрибуты;\n",
        "* его методы (и наборы входных параметров для него &mdash; они могут меняться).\n",
        "* ...\n",
        "\n",
        "Реализация (_implementation_) &mdash; сам программный код, \"внутренности\" класса. Реализацию не видно извне.\n",
        "\n",
        "Рассмотрим класс `Human` для человека. Класс при создании принимает имя, умеет говорить привет, умеет говорить своё имя, также мы можем узнать его имя."
      ]
    },
    {
      "cell_type": "code",
      "metadata": {
        "id": "Lb1VlKGWJUK8",
        "colab": {
          "base_uri": "https://localhost:8080/",
          "height": 51
        },
        "outputId": "8b756acf-fd10-43eb-887c-78d6aaf21f90"
      },
      "source": [
        "class Human:\n",
        "    def __init__(self, name):\n",
        "        self.name = name\n",
        "    \n",
        "    def say_hi(self):\n",
        "        print('Hi!')\n",
        "    \n",
        "    def say_name(self):\n",
        "        print('{}!'.format(self.name))\n",
        "    \n",
        "    def get_name(self):\n",
        "        return self.name\n",
        "\n",
        "albert = Human('Albert')\n",
        "assert albert.get_name() == 'Albert'\n",
        "albert.say_hi()\n",
        "albert.say_name()"
      ],
      "execution_count": null,
      "outputs": [
        {
          "output_type": "stream",
          "text": [
            "Hi!\n",
            "Albert!\n"
          ],
          "name": "stdout"
        }
      ]
    },
    {
      "cell_type": "markdown",
      "metadata": {
        "id": "KOr4gdJPZ8Ep"
      },
      "source": [
        "#### Ceci n'est pas ein Deutscher"
      ]
    },
    {
      "cell_type": "markdown",
      "metadata": {
        "id": "JR2JuO1cKN5U"
      },
      "source": [
        "Всё работает. Теперь давайте напишем классы `GermanHuman` и `FrenchHuman` для немца и француза. Можно было бы, конечно, написать всё с нуля. Но можно заметить, что немец и француз\n",
        "* с точки зрения интерфейса устроены так же:\n",
        " * на вход классу поступает имя\n",
        " * умеют приветствовать\n",
        " * умеют называть имя\n",
        " * мы можем узнавать их имя\n",
        "* с точки зрения реализация устроены __почти__ так же:\n",
        " * код для всех функций, кроме `.say_hi()` совпадает.\n",
        "\n",
        "Итак, интерфейс и реализация совпадают полностью или почти полностью. А это значит, что нам нужно не писать дублирующийся код, а грамотно переиспользовать тот, что у нас уже есть.\n",
        "\n",
        "Сделаем классы `FrenchHuman` и `GermanHuman` наследниками `Human`. Когда мы наследуем класс, у нас будут унаследованы его интерфейс и реализация. То есть все атрибуты и методы будут взяты от `Human` ровно до того момента, пока мы не попытаемся их _переопределить_.\n",
        "\n",
        "Всё, что нам нужно переопределить &mdash; своя реализация `.say_hi()`."
      ]
    },
    {
      "cell_type": "code",
      "metadata": {
        "id": "M3Bi6sehQCK3",
        "colab": {
          "base_uri": "https://localhost:8080/",
          "height": 85
        },
        "outputId": "934d750f-a151-4bea-9140-4cd9957ba326"
      },
      "source": [
        "class GermanHuman(Human):\n",
        "    def say_hi(self):\n",
        "        print('Hallo!')\n",
        "\n",
        "ludwig = GermanHuman('Ludwig')\n",
        "assert ludwig.get_name() == 'Ludwig'\n",
        "ludwig.say_hi()\n",
        "ludwig.say_name()\n",
        "\n",
        "class FrenchHuman(Human):\n",
        "    def say_hi(self):\n",
        "        print('Salut!')\n",
        "\n",
        "marseille = FrenchHuman('Marseille')\n",
        "assert marseille.get_name() == 'Marseille'\n",
        "marseille.say_hi()\n",
        "marseille.say_name()"
      ],
      "execution_count": null,
      "outputs": [
        {
          "output_type": "stream",
          "text": [
            "Hallo!\n",
            "Ludwig!\n",
            "Salut!\n",
            "Marseille!\n"
          ],
          "name": "stdout"
        }
      ]
    },
    {
      "cell_type": "markdown",
      "metadata": {
        "id": "9TkbfJIwaHer"
      },
      "source": [
        "Можно заметить, что работают как переопределённый метод (`.say_hi()`), так и те, которые описаны только в исходном классе (`.say_name()`, `.get_name()` и `.__init__()` &mdash; он тоже важен). А никакого дублирования кода нет, он получился короткий и понятный.\n",
        "\n",
        "Заметим, что метод `.say_hi()` мы переписали полностью, то есть реализация `Human.say_hi()` не используется никак."
      ]
    },
    {
      "cell_type": "markdown",
      "metadata": {
        "id": "Wml_PLV7aKKL"
      },
      "source": [
        "#### Вежливость &mdash; оружие вежливых людей."
      ]
    },
    {
      "cell_type": "markdown",
      "metadata": {
        "id": "ZekGf8z_Sms8"
      },
      "source": [
        "Но возможна и промежуточная стадия: реализация метода базового класса нам нужна, но это не полностью то, что нам нужно. Тогда можно переопределить метод, но использовать внутри него метод базового класса. Чтобы вызвать метод **базового** класса, используется `super()`.\n",
        "\n",
        "Давайте определим класс чуткого человека `SensitiveHuman`, который при приветствии интересуется чем-нибудь у нас. А когда он представляется, хочет узнать имя собеседника.\n",
        "\n",
        "_Не будем обсуждать вопрос, насколько эту чутко_ &mdash; это зависит от культуры и не связано с программированием. Если, конечно, он не интересуется, что мы прогаем.\n",
        "\n",
        "**Примечание**: `super() == super(self, БазовыйКласс)`"
      ]
    },
    {
      "cell_type": "code",
      "metadata": {
        "id": "e7tu110IUNho",
        "colab": {
          "base_uri": "https://localhost:8080/",
          "height": 68
        },
        "outputId": "91cbc77d-d233-4c6b-8460-2589d0a3c057"
      },
      "source": [
        "class SensitiveHuman(Human):\n",
        "    def say_hi(self):\n",
        "        super().say_hi()\n",
        "        print('What\\'cha doing?')\n",
        "    \n",
        "    def say_name(self):\n",
        "        print('My name\\'s {}. And your?'.format(self.name))\n",
        "\n",
        "    def say_sorry(self):\n",
        "        print('I\\'m sorry!')\n",
        "\n",
        "gareth = SensitiveHuman('Gareth')\n",
        "assert gareth.get_name() == 'Gareth'\n",
        "gareth.say_hi()\n",
        "gareth.say_name()"
      ],
      "execution_count": null,
      "outputs": [
        {
          "output_type": "stream",
          "text": [
            "Hi!\n",
            "What'cha doing?\n",
            "My name's Gareth. And your?\n"
          ],
          "name": "stdout"
        }
      ]
    },
    {
      "cell_type": "markdown",
      "metadata": {
        "id": "ZpnLvZaCVB-K"
      },
      "source": [
        "Здесь все 4 метода различаются с точки зрения наследования:\n",
        "* реализация `.get_name()` полностью взята из базового класса `Human`;\n",
        "* реализация `.say_hi()` переопределена, но использует реализацию из базового класса `Human`;\n",
        "* реализация `.say_name()` написана с нуля без использования `Human.say_name()`;\n",
        "* реализация `.say_sorry()` написана с нуля, но такого методе в `Human` и не было."
      ]
    },
    {
      "cell_type": "markdown",
      "metadata": {
        "id": "Lx_bLhRraQYK"
      },
      "source": [
        "#### Выбор реализации."
      ]
    },
    {
      "cell_type": "markdown",
      "metadata": {
        "id": "Yuu1GUYTaVX6"
      },
      "source": [
        "Как понять, какой из способов нас интересует?\n",
        "\n",
        "Нужно посмотреть на реализацию в базовом классе:\n",
        "* если такого метода ещё нет/реализация вообще не подходит &mdash; реализовать с нуля;\n",
        "* если реализация подходит/нужна, но не на 100% &mdsah; переопределить, но внутри использовать `super().method()`;\n",
        "* если реализация полностью подходит &mdash не переопределять.\n",
        "\n",
        "**Подсказка**: помните, что `.__init__()` тоже можно переопределять.\n",
        "\n",
        "Теперь &mdash; к практике!"
      ]
    },
    {
      "cell_type": "markdown",
      "metadata": {
        "id": "reO_l-gEHoZ6"
      },
      "source": [
        "## Задание. Система учёта"
      ]
    },
    {
      "cell_type": "markdown",
      "metadata": {
        "id": "DTq_4662cIlT"
      },
      "source": [
        "Давайте представим, что у нас есть магазин диванов, и помимо доходов (о которых мы не говорим в этом задании), у нас есть какие-то расходы.\n",
        "\n",
        "Есть класс системы учёта расходов `AccountingSystem10` (который нельзя менять). У него есть метод `.spend()` с единственным аргументом -- работник `pay_object`, на которого мы тратим деньги, а также атрибут `self.total_spent`, который накапливает в себе суммарный расход за весь день.\n",
        "\n",
        "На работников разного типа тратится разное количество денег:\n",
        "* `BaseEmployee` &mdash; получает базовую ставку `base_salary = 500 рублей`:\n",
        " * он нанят не совсем официально, поэтому трудовой стаж ему не начисляется, но и пенсионные отчисления мы за него не платим.\n",
        "* `OfficialEmployee` &mdash; официально нанятый рабочий:\n",
        " * получает базовую ставку + 22% базовой ставки мы тратим в качестве пенсионных отчислений.\n",
        "* `HourlyEmployee` &mdash; почасовой рабочий:\n",
        " * получает половину базовой ставки + 50 рублей * количество отработанных часов `hours`.\n",
        "* `CompetitiveEmployee` &mdash; амбициозный рабочий:\n",
        " * получает половину базовой ставки + 60 рублей * количество проданных диванов `sold_items`.\n",
        "\n",
        "**Примечание**: нам неважно, какая часть трат составляет базовая ставка, какая отчисления/надбавки/etc. Нам важно только, сколько денег в сумме потрачено на каждого работника.\n",
        "\n",
        "Метод `.spend()` работает следующим образом: аргументом на вход подаётся `pay_object` -- тот, на кого/что мы тратим. Метод увеличивает суммарный расход на `pay_object.count_money()` рублей, а также печатает сообщение об этом.\n",
        "\n",
        "Как всегда, если хотите лучше понять, как использовать класс -- читайте тесты :)"
      ]
    },
    {
      "cell_type": "code",
      "metadata": {
        "id": "LqEayvZPxWGB"
      },
      "source": [
        "# этот код нельзя менять\n",
        "class AccountingSystem10:\n",
        "    def __init__(self):\n",
        "        self.total_spent = 0\n",
        "\n",
        "    def spend(self, pay_object):\n",
        "        print('Spent {} rubles'.format(pay_object.count_money()))\n",
        "        self.total_spent += pay_object.count_money()"
      ],
      "execution_count": null,
      "outputs": []
    },
    {
      "cell_type": "markdown",
      "metadata": {
        "id": "w0KtA_vRv7BF"
      },
      "source": [
        "#### Задание 1."
      ]
    },
    {
      "cell_type": "markdown",
      "metadata": {
        "id": "hmFE-IHSf_5F"
      },
      "source": [
        "Класс `BaseEmployee` вам уже дан, его менять нельзя.\n",
        "\n",
        "Ваше задание: напишите классы: `OfficialEmployee`, `HourlyEmployee`, `CompetitiveEmployee`, чтобы работали тесты.\n",
        "\n",
        "**Важно**: где-то в своём коде указывать константу базовой ставки или каким-то образом её вычислять запрещается (а значит, без наследования вам не обойтись)"
      ]
    },
    {
      "cell_type": "code",
      "metadata": {
        "id": "Iz7Vk-763TkX"
      },
      "source": [
        "# этот код нельзя менять\n",
        "class BaseEmployee:\n",
        "    def __init__(self, name):\n",
        "        self.name = name\n",
        "        self.base_salary = 500\n",
        "\n",
        "    def get_worker_type(self):\n",
        "        return self.__class__.__name__\n",
        "\n",
        "    def count_money(self):\n",
        "        return self.base_salary"
      ],
      "execution_count": null,
      "outputs": []
    },
    {
      "cell_type": "code",
      "metadata": {
        "id": "AvqprNkx3e3Z"
      },
      "source": [
        "# место для вашего кода\n",
        "be = BaseEmployee('albert')\n",
        "print(be.get_worker_type())"
      ],
      "execution_count": null,
      "outputs": []
    },
    {
      "cell_type": "markdown",
      "metadata": {
        "id": "AgKWG-n88v1k"
      },
      "source": [
        "##### Тесты."
      ]
    },
    {
      "cell_type": "code",
      "metadata": {
        "id": "urLEJYL9t1_3"
      },
      "source": [
        "# этот код менять нельзя\n",
        "# BaseEmployee tests\n",
        "def test_base_employee():\n",
        "    be_name = 'Alice'\n",
        "    be = BaseEmployee(name=be_name)\n",
        "    assert be.name == be_name\n",
        "    assert be.get_worker_type() == 'BaseEmployee'\n",
        "    assert be.count_money() == 500\n",
        "    print('Test passed')\n",
        "\n",
        "# OfficialEmployee tests\n",
        "def test_official_employee():\n",
        "    oe_name = 'Bob'\n",
        "    oe = OfficialEmployee(name=oe_name)\n",
        "    assert oe.name == oe_name\n",
        "    assert oe.get_worker_type() == 'OfficialEmployee'\n",
        "    assert oe.count_money() == 610\n",
        "    print('Test passed')\n",
        "\n",
        "# HourlyEmployee tests\n",
        "def test_hourly_employee():\n",
        "    he_name = 'Carol'\n",
        "    he = HourlyEmployee(name=he_name, hours=8)\n",
        "    assert he.name == he_name\n",
        "    assert he.get_worker_type() == 'HourlyEmployee'\n",
        "    assert he.count_money() == 650\n",
        "    print('Test passed')\n",
        "\n",
        "# CompetitiveEmployee tests\n",
        "def test_competitive_employee():\n",
        "    ce_name = 'Dave'\n",
        "    ce = CompetitiveEmployee(name=ce_name, sold_items=10)\n",
        "    assert ce.name == ce_name \n",
        "    assert ce.get_worker_type() == 'CompetitiveEmployee'\n",
        "    assert ce.count_money() == 850\n",
        "    print('Test passed')\n",
        "\n",
        "test_base_employee()\n",
        "test_official_employee()\n",
        "test_hourly_employee()\n",
        "test_competitive_employee()\n",
        "print('Tests OK')"
      ],
      "execution_count": null,
      "outputs": []
    },
    {
      "cell_type": "code",
      "metadata": {
        "id": "ntr-GdRvgD79"
      },
      "source": [
        "# AccountingSystem1 tests\n",
        "def test_accounting_system_employee(ac_cls, employee, total_spent):\n",
        "    ac_system = ac_cls()\n",
        "    ac_system.spend(employee)\n",
        "    assert ac_system.total_spent == total_spent\n",
        "    print('Total spent per day: {} rubles'.format(ac_system.total_spent))\n",
        "    print('Test passed')\n",
        "\n",
        "def test_accounting_system_all_employees(ac_cls):\n",
        "    test_accounting_system_employee(ac_cls, BaseEmployee('some worker'), 500)\n",
        "    test_accounting_system_employee(ac_cls, OfficialEmployee('some worker'), 610)\n",
        "    test_accounting_system_employee(ac_cls, HourlyEmployee('some worker', 4), 450)\n",
        "    test_accounting_system_employee(ac_cls, CompetitiveEmployee('some worker', 4), 490)\n",
        "    print('Test passed')\n",
        "\n",
        "def test_accounting_system_10():\n",
        "    test_accounting_system_all_employees(AccountingSystem10)\n",
        "    try:\n",
        "        test_accounting_system_employee(AccountingSystem10, RentExpenses(), 2000)\n",
        "        print('RentExpenses test passed.')\n",
        "    except NameError as e:\n",
        "        assert str(e) == 'name \\'RentExpenses\\' is not defined'\n",
        "        print('RentExpenses test FAILED.')\n",
        "        print('It\\'s ok for task 1. It\\'s NOT OK for task 2 or 3 etc...')\n",
        "    print('Test passed')\n",
        "\n",
        "test_accounting_system_10()\n",
        "print('Tests OK')"
      ],
      "execution_count": null,
      "outputs": []
    },
    {
      "cell_type": "markdown",
      "metadata": {
        "id": "DdroX1rW8q2j"
      },
      "source": [
        "#### Задание 2. Аренда"
      ]
    },
    {
      "cell_type": "markdown",
      "metadata": {
        "id": "pTieYq9ty81-"
      },
      "source": [
        "Вам потребовалось учитывать аренду помещения (которая обходится вам в 2000 в день). Допишите соответствующий класс `RentExpenses`, который тоже можно подать на вход системе `AccountingSystem1`.\n",
        "\n",
        "**Подсказка**: когда вы писали классы работников, вам явно нужно было наследоваться от класса `BaseEmployee`, потому что вам в новых классах\n",
        "* требовалась его внутренняя реализация (например, то, имя записывается в `self.name`, а базовая ставка в `self.base_salary` и равна `500`)\n",
        "* частично требовался его интерфейс (метод `.get_worker_type()`). Впрочем, некоторый интерфейс был новым (например, другое количество входных параметров в `__init__()`)\n",
        "\n",
        "Так как `AccountingSystem1` должна уметь работать с `RentExpenses`, очевидно, интерфейс `RentExpenses` должен быть таким же, как и у классов типа `...Employee`. Но реализация у него совершенно своя. Подумайте, нужно ли вам наследование, когда требуется взять только интерфейс, но не реализацию?"
      ]
    },
    {
      "cell_type": "code",
      "metadata": {
        "id": "M4Oy48Sl3bp6"
      },
      "source": [
        "# место для вашего кода"
      ],
      "execution_count": null,
      "outputs": []
    },
    {
      "cell_type": "markdown",
      "metadata": {
        "id": "0qSIbBGz83m9"
      },
      "source": [
        "##### Тесты."
      ]
    },
    {
      "cell_type": "code",
      "metadata": {
        "id": "DYkqVRuQ3-6i"
      },
      "source": [
        "# RestExpenses tests\n",
        "def test_rent_expenses():\n",
        "    re = RentExpenses()\n",
        "    assert re.count_money() == 2000\n",
        "    print('Test passed')\n",
        "\n",
        "test_rent_expenses()\n",
        "test_accounting_system_10()\n",
        "print('Tests OK')"
      ],
      "execution_count": null,
      "outputs": []
    },
    {
      "cell_type": "markdown",
      "metadata": {
        "id": "6JMOSPyO8ltf"
      },
      "source": [
        "#### Задание 3. Обновление системы"
      ]
    },
    {
      "cell_type": "markdown",
      "metadata": {
        "id": "7oMU6iXa8pnk"
      },
      "source": [
        "Система учёта обновилась до версии 2.0, ура! Теперь она умеет писать, на что или на кого мы потратили деньги :)\n",
        "\n",
        "Обновите реализацию тех или иных классов, чтобы тесты к этому заданию прошли.\n",
        "\n",
        "**Желание**. Хочется увидеть строчку `Spent 2000 rubles on rent`."
      ]
    },
    {
      "cell_type": "code",
      "metadata": {
        "id": "GtpxbrtUEMLy"
      },
      "source": [
        "# этот код нельзя менять\n",
        "class AccountingSystem20:\n",
        "    def __init__(self):\n",
        "        self.total_spent = 0\n",
        "\n",
        "    def spend(self, pay_object):\n",
        "        print('Spent {} rubles on {}'.format(pay_object.count_money(), pay_object.name))\n",
        "        self.total_spent += pay_object.count_money()"
      ],
      "execution_count": null,
      "outputs": []
    },
    {
      "cell_type": "code",
      "metadata": {
        "id": "AETXwO7i9yjI"
      },
      "source": [
        "# место для вашего кода"
      ],
      "execution_count": null,
      "outputs": []
    },
    {
      "cell_type": "markdown",
      "metadata": {
        "id": "pMD7oFp591Bw"
      },
      "source": [
        "##### Тесты."
      ]
    },
    {
      "cell_type": "code",
      "metadata": {
        "id": "GTBxWIfM924P"
      },
      "source": [
        "# этот код менять нельзя\n",
        "def test_accounting_system_20():\n",
        "    test_accounting_system_all_employees(AccountingSystem20)\n",
        "    test_accounting_system_employee(AccountingSystem20, RentExpenses(), 2000)\n",
        "\n",
        "test_accounting_system_20()\n",
        "print('Tests OK')"
      ],
      "execution_count": null,
      "outputs": []
    },
    {
      "cell_type": "markdown",
      "metadata": {
        "id": "14VnaH6L6_04"
      },
      "source": [
        "#### Задание 4. Обновление системы"
      ]
    },
    {
      "cell_type": "markdown",
      "metadata": {
        "id": "sg9osGKX7GKi"
      },
      "source": [
        "Система обновилась до версии 3.0!\n",
        "\n",
        "Напишите её так, чтобы проходили тесты."
      ]
    },
    {
      "cell_type": "code",
      "metadata": {
        "id": "Op8HXJ7S7Qjr"
      },
      "source": [
        "class AccountingSystem30:\n",
        "    def __str__():\n",
        "        pass\n",
        "    \n",
        "    def __repr__():\n",
        "        pass\n",
        "\n",
        "    pass # место для вашего кода"
      ],
      "execution_count": null,
      "outputs": []
    },
    {
      "cell_type": "markdown",
      "metadata": {
        "id": "-01JsX-y-zzL"
      },
      "source": [
        "##### Тесты."
      ]
    },
    {
      "cell_type": "code",
      "metadata": {
        "id": "Ym85IAAG7ZeE"
      },
      "source": [
        "# этот код менять нельзя\n",
        "def test_accounting_system_30():\n",
        "    test_accounting_system_all_employees(AccountingSystem30)\n",
        "    ac_sys = AccountingSystem30()\n",
        "    ac_sys.spend(HourlyEmployee('Frank', hours=6))\n",
        "    assert str(ac_sys) == 'Frank: 550'\n",
        "    assert repr(ac_sys) == 'Frank: 550'\n",
        "    assert ac_sys.expenses == [['Frank', 550]]\n",
        "    ac_sys.spend(HourlyEmployee('Eve', hours=4))\n",
        "    assert ac_sys.expenses == [['Frank', 550], ['Eve', 450]]\n",
        "    ac_sys.spend(BaseEmployee('Gabriel'))\n",
        "    assert ac_sys.expenses == [['Frank', 550], ['Eve', 450], ['Gabriel', 500]]\n",
        "    assert str(ac_sys) == 'Eve: 450\\nFrank: 550\\nGabriel: 500' # sorted!\n",
        "    assert repr(ac_sys) == 'Frank: 550\\nEve: 450\\nGabriel: 500' # non-sorted!\n",
        "    assert ac_sys.expenses == [['Frank', 550], ['Eve', 450], ['Gabriel', 500]]\n",
        "\n",
        "test_accounting_system_30()\n",
        "print('Tests OK')"
      ],
      "execution_count": null,
      "outputs": []
    }
  ]
}