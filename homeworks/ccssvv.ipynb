{
  "nbformat": 4,
  "nbformat_minor": 0,
  "metadata": {
    "colab": {
      "name": "ccssvv.ipynb",
      "provenance": [],
      "collapsed_sections": []
    },
    "kernelspec": {
      "name": "python3",
      "display_name": "Python 3"
    }
  },
  "cells": [
    {
      "cell_type": "markdown",
      "source": [
        "`csv` `json` `csv.DictWriter` `csv.DictReader`"
      ],
      "metadata": {
        "id": "w_QrQeDMm-lP"
      }
    },
    {
      "cell_type": "code",
      "metadata": {
        "id": "F0obJMKvL6aH"
      },
      "source": [
        "# Имя Фамилия"
      ],
      "execution_count": null,
      "outputs": []
    },
    {
      "cell_type": "markdown",
      "metadata": {
        "id": "CbklKgCiL71O"
      },
      "source": [
        "Ссылка на колаб:\n",
        "https://colab.research.google.com/drive/1I88UQGNPYuHbYbkSvRVcCD9bqEO5kHNx?usp=sharing"
      ]
    },
    {
      "cell_type": "markdown",
      "metadata": {
        "id": "VVVg3nsZFsR-"
      },
      "source": [
        "Формат файлов CSV можно представлять как текстовый, можно как табличный.\n",
        "CSV расшифровывается как comma separated values (значения, разделённые запятой). Если такой файл открыть в текстовом редакторе, всё будет достаточно очевидно, а если в редакторе таблиц (например, Excel), то каждое значение между запятыми будет восприниматься как ячейка. Попробуйте сохранить следующее текстовое содержимое как файл с расширением csv и пооткрывать его как таблицу:"
      ]
    },
    {
      "cell_type": "code",
      "metadata": {
        "id": "7f2f5YloGNy7"
      },
      "source": [
        "first_name,last_name,result_0,result_1,result_2,age\n",
        "Алексей,Иванов,15,17,14,23\n",
        "Ирина,Алексеева,18,12,20,22"
      ],
      "execution_count": null,
      "outputs": []
    },
    {
      "cell_type": "markdown",
      "metadata": {
        "id": "R1oaNOEWGiQe"
      },
      "source": [
        "Как вы понимаете, первая строка &mdash; шапка таблицы, в которой записаны названия полей: имя, фамилия, результат в первой, второй, третьей отборочной игре (допустим, это игра в шляпу) и возраст. Кстати, обратите внимание, что `result_*` нумеруется с нуля &mdash; программирование всё-таки.\n",
        "\n",
        "Разделителем может быть запятая, может быть что-то другое. Существует отдельно формат TSV &mdash; tabs separated values."
      ]
    },
    {
      "cell_type": "markdown",
      "metadata": {
        "id": "rzV3ZlW8HAgZ"
      },
      "source": [
        "Задание 1. Три игры\n",
        "\n",
        "Напишите функцию, которая генерирует файл с именем вида `f\"{dst_file_name}.csv\"`, в который записывает таблицу, как в приведённом примере выше, только строчек там больше &mdash; каждая строчка соответствует ученику вашего класса! Все значения `result_*` должны быть равны 0."
      ]
    },
    {
      "cell_type": "markdown",
      "metadata": {
        "id": "0XrqniuKHoJO"
      },
      "source": [
        "Для этого задания вам понадобится:\n",
        "- работа с файлами: можно почитать [вот здесь](https://pyneng.readthedocs.io/ru/latest/book/07_files/index.html);\n",
        "- работа с CSV-файлами: [вот документация](https://docs.python.org/3/library/csv.html) или [вот здесь можно почитать](https://www.geeksforgeeks.org/working-csv-files-python/);\n",
        "- если конкретнее, `csv.writer()` или `csv.DictWriter()`, я больше люблю второй;\n",
        "- достать откуда-то список вашего класса и данные о возрасте. Можете все в чат написать свой возраст, как вариант;"
      ]
    },
    {
      "cell_type": "code",
      "metadata": {
        "id": "ABp5moJQIVWh"
      },
      "source": [
        "def generate_csv_result_table_3(dst_file_name: str):\n",
        "    raise NotImplementedError  # уберите это, когда начнёте писать\n",
        "\n",
        "generate_csv_result_table_3(\"table\")  # должен получиться файл \"table.csv\"\n",
        "\n",
        "# полезно указывать кодировку:\n",
        "# file_name_with_ext = f\"{dst_file_name}.csv\"\n",
        "# with open(file_name_with_ext, 'w', encoding=\"utf-8\") as out: ..."
      ],
      "execution_count": null,
      "outputs": []
    },
    {
      "cell_type": "markdown",
      "metadata": {
        "id": "NpSL7NtVJonx"
      },
      "source": [
        "Задание 2. n игр\n",
        "\n",
        "Напишите функцию, которая делает то же самое, только теперь отборочных игр не три, а переменное количество. Остальное &mdash; всё то же самое."
      ]
    },
    {
      "cell_type": "code",
      "metadata": {
        "id": "6A5CNju8J22J"
      },
      "source": [
        "def generate_csv_result_table(dst_file_name: str,\n",
        "                              num_qualification_games: int):\n",
        "    raise NotImplementedError  # уберите это, когда начнёте писать\n",
        "\n",
        "generate_csv_result_table(dst_file_name, 5)  # должен получиться файл \"table.csv\"\n",
        "# колонки в нём: first_name,last_name,result_0,result_1,result_2,result_3,result_4,age"
      ],
      "execution_count": null,
      "outputs": []
    },
    {
      "cell_type": "markdown",
      "metadata": {
        "id": "gDe9csSyKMa-"
      },
      "source": [
        "Задание 3. JSON to CSV\n",
        "\n",
        "Напишите функцию, которая из приведённого ниже примера JSON-файла делает приведённый ниже пример CSV-файла (то есть конвертацию). Обращаю внимание, что число полей `result_*` (да и в целом состав полей) вы не знаете!"
      ]
    },
    {
      "cell_type": "markdown",
      "metadata": {
        "id": "uEEvJOVRKlLs"
      },
      "source": [
        "Вам понадобится:\n",
        "- очень рекомендую `csv.DictReader()` и `csv.DictWriter()`\n",
        "- умение работать с JSON и понимание, что такое JSON (рекомендую [наш прошлогодний листок](https://colab.research.google.com/drive/1gdOzcrFnqbkAXi4pRDjy4k1XDL9GWd2O))\n",
        "- внимательно подумать, как работать с числами и строками"
      ]
    },
    {
      "cell_type": "code",
      "metadata": {
        "id": "zKWMp4KjKWNw"
      },
      "source": [
        "# first_table.json\n",
        "[\n",
        "    {\n",
        "        \"first_name\": \"Алексей\",\n",
        "        \"last_name\": \"Иванов\",\n",
        "        \"result_0\": 15,\n",
        "        \"result_1\": 17,\n",
        "        \"result_2\": 14,\n",
        "        \"age\": 23\n",
        "    },\n",
        "    {\n",
        "        \"first_name\": \"Ирина\",\n",
        "        \"last_name\": \"Алексеева\",\n",
        "        \"result_0\": 18,\n",
        "        \"result_1\": 12,\n",
        "        \"result_2\": 20,\n",
        "        \"age\": 22\n",
        "    },\n",
        "]\n",
        "\n",
        "# second_table.csv\n",
        "first_name,last_name,result_0,result_1,result_2,age\n",
        "Алексей,Иванов,15,17,14,23\n",
        "Ирина,Алексеева,18,12,20,22"
      ],
      "execution_count": null,
      "outputs": []
    },
    {
      "cell_type": "code",
      "metadata": {
        "id": "ht87MIlaLSBE"
      },
      "source": [
        "def convert_json_to_csv(json_src_file_name: str, csv_dst_file_name: str):\n",
        "    raise NotImplementedError\n",
        "\n",
        "convert_json_to_csv(\"first_table\", \"second_table\")"
      ],
      "execution_count": null,
      "outputs": []
    },
    {
      "cell_type": "markdown",
      "metadata": {
        "id": "hKKnggm4Kxny"
      },
      "source": [
        "Задание 4. CSV to JSON\n",
        "\n",
        "Напишите функцию, аналогичную функции в 3 задании, только она должна выполнять обратные действия!"
      ]
    },
    {
      "cell_type": "markdown",
      "metadata": {
        "id": "F3nwAsYHLydK"
      },
      "source": [
        "Вам ОЧЕНЬ понадобится:\n",
        "- ВНИМАТЕЛЬНО подумать, как работать с числами и строками"
      ]
    },
    {
      "cell_type": "code",
      "metadata": {
        "id": "1lfK7JmKLpQM"
      },
      "source": [
        "def convert_csv_to_json(csv_src_file_name: str, json_dst_file_name: str):\n",
        "    raise NotImplementedError\n",
        "\n",
        "convert_csv_to_json(\"second_table\", \"first_table\")"
      ],
      "execution_count": null,
      "outputs": []
    }
  ]
}