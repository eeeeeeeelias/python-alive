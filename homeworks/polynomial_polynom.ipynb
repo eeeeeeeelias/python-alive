{
  "nbformat": 4,
  "nbformat_minor": 0,
  "metadata": {
    "colab": {
      "name": "polynomial_polynom.ipynb",
      "provenance": [],
      "collapsed_sections": []
    },
    "kernelspec": {
      "name": "python3",
      "display_name": "Python 3"
    }
  },
  "cells": [
    {
      "cell_type": "markdown",
      "source": [
        "`polynom` `class` `dunder methods`"
      ],
      "metadata": {
        "id": "feEPMg0Rp2DW"
      }
    },
    {
      "cell_type": "markdown",
      "metadata": {
        "id": "WpX7BjV_fdaw"
      },
      "source": [
        "Ссылка:\n",
        "\n",
        "https://colab.research.google.com/drive/1Z8-CQeDa9pyllGMdy06bZmLMn1m7t_Nv\n",
        "\n",
        "Короткая ссылка:\n",
        "\n",
        "https://bit.ly/bigbigtest"
      ]
    },
    {
      "cell_type": "markdown",
      "metadata": {
        "id": "w_3IGLLBlkKO"
      },
      "source": [
        "Вам понадобится два файла, `polynom.py` и `test_polynom.py`. Загрузите их по ссылкам:\n",
        "* https://drive.google.com/open?id=1A_aIFdG5GJuotYZk22yulB1sEIg5lbVE\n",
        "* https://drive.google.com/open?id=1xxq98LyXOUgGbdFwhWO-ErE1c4flFySl\n",
        "\n",
        "Сдавать нужно файл `polynom.py`. Пришлите его в Telegram. Если вы дописали какие-то свои тесты &mdash; пришлите также файл `test_polynom.py`.\n",
        "\n",
        "В файле `polynom.py` нужно писать свой код. Можете писать в колабе, а потом туда скопировать &mdash; как вам удобно.\n",
        "\n",
        "Тесты можете запускать на компьютере, можете в этом колабе.\n",
        "\n",
        "Чтобы запустить тесты в Colab, загрузите файлы `polynom.py` и `test_polynom.py` и выполните ячейку:"
      ]
    },
    {
      "cell_type": "code",
      "metadata": {
        "id": "U5N1z2oyshsJ"
      },
      "source": [
        "!pytest -v test_polynom.py"
      ],
      "execution_count": null,
      "outputs": []
    },
    {
      "cell_type": "markdown",
      "metadata": {
        "id": "vVuTTxwIqQoH"
      },
      "source": [
        "## Большое-большое задание"
      ]
    },
    {
      "cell_type": "markdown",
      "metadata": {
        "id": "AmcdyVWJqTDH"
      },
      "source": [
        "Реализуйте класс многочлена `Polynom`, который принимает список `coefficients` коэффициентов многочлена, начиная от самого младшего.\n",
        "\n",
        "Чтобы всё сразу было понятно:\n",
        "* отрицательных коэффициентов в контрольной нет\n",
        "* `Polynom([2, 4]) = 4x + 2`\n",
        "* `Polynom([2, 0, 3, 5, 0, 7]) -> 7x5 + 5x3 + 3x2 + 2`\n",
        "* `Polynom([4]) -> 4`\n",
        "* `Polynom([0]) -> 0`\n",
        "* `Polynom([]) -> 0`\n",
        "\n",
        "Задание 0 &mdash; создать сам класс с минимальной функциональностью.\n",
        "Каждое следующее задание &mdash; добавить какую-то функциональность.\n",
        "\n",
        "Задание не выполнено, если тесты на него не проходят.\n",
        "\n",
        "Если тесты проходят, задание, _скорее всего_, выполнено (если вы пишете нормальный код, а не подстраиваетесь под тесты).\n",
        "\n",
        "Важно! Тесты при проверке контрольной будут запущены одновременно. То есть:\n",
        "* вы сделали код, который работает для задания 1;\n",
        "* вы изменили код, он начал работать для задания 2, но перестал работать для задания 1;\n",
        "* вам зачтётся задание 2 и **НЕ ЗАЧТЁТСЯ** задание 1. Делая новые задания, не ломайте работу старых.\n",
        "\n",
        "Если задание не содержит текста, значит, всё нужно понять, прочитав тесты на это задание.\n",
        "\n",
        "Задания не обязательно выполнять по порядку."
      ]
    },
    {
      "cell_type": "markdown",
      "metadata": {
        "id": "E1LM19W6sKY8"
      },
      "source": [
        "### Задание 0. Многочлен.\n",
        "\n",
        "Создайте класс `Polynom`."
      ]
    },
    {
      "cell_type": "markdown",
      "metadata": {
        "id": "kGgijdnCvCmb"
      },
      "source": [
        "### Задание 1. Аккуратное копирование."
      ]
    },
    {
      "cell_type": "markdown",
      "metadata": {
        "id": "grStl1ydwqhG"
      },
      "source": [
        "### Задание 2. Старшие нулевые коэффициенты."
      ]
    },
    {
      "cell_type": "markdown",
      "metadata": {
        "id": "dYG7Mz1hwxY4"
      },
      "source": [
        "### Задание 3. Степень многочлена"
      ]
    },
    {
      "cell_type": "markdown",
      "metadata": {
        "id": "XqZ0TyRr0Iqj"
      },
      "source": [
        "### Задание 4. Конструктор по умолчанию"
      ]
    },
    {
      "cell_type": "markdown",
      "metadata": {
        "id": "KZWJX_0x0Q2m"
      },
      "source": [
        "### Задание 5. Репрезентация\n",
        "\n",
        "Если вы сделаете его сразу, то искать потом ошибки, возможно, будет легче."
      ]
    },
    {
      "cell_type": "markdown",
      "metadata": {
        "id": "T36GubCI0UNp"
      },
      "source": [
        "### Задание 6. Строковое представление\n",
        "\n",
        "Если не знаете, как назвать метод класса &mdash; действуйте по аналогии с пятым заданием."
      ]
    },
    {
      "cell_type": "code",
      "metadata": {
        "id": "98cAhEAKrAmU",
        "outputId": "0ec4fd03-d88d-42f7-f72b-1a913dd563cc",
        "colab": {
          "base_uri": "https://localhost:8080/",
          "height": 89
        }
      },
      "source": [
        "x = [\"a\", \"b\", \"c\", \"d\"]\n",
        "for index, value in enumerate(x):\n",
        "    print(index, value)"
      ],
      "execution_count": null,
      "outputs": [
        {
          "output_type": "stream",
          "text": [
            "0 a\n",
            "1 b\n",
            "2 c\n",
            "3 d\n"
          ],
          "name": "stdout"
        }
      ]
    },
    {
      "cell_type": "code",
      "metadata": {
        "id": "R2ePyr2rrAyw",
        "outputId": "c02eb55b-e5c3-46d8-b9a9-5752484c143e",
        "colab": {
          "base_uri": "https://localhost:8080/",
          "height": 89
        }
      },
      "source": [
        "x = [\"a\", \"b\", \"c\", \"d\"]\n",
        "for index, value in enumerate(reversed(x)):\n",
        "    print(index, value)"
      ],
      "execution_count": null,
      "outputs": [
        {
          "output_type": "stream",
          "text": [
            "0 d\n",
            "1 c\n",
            "2 b\n",
            "3 a\n"
          ],
          "name": "stdout"
        }
      ]
    },
    {
      "cell_type": "code",
      "metadata": {
        "id": "mn_lpsrjrA8F",
        "outputId": "c7f5235f-12b1-4174-c00a-cbfff4c3ba60",
        "colab": {
          "base_uri": "https://localhost:8080/",
          "height": 89
        }
      },
      "source": [
        "x = [\"a\", \"b\", \"c\", \"d\"]\n",
        "for index, value in reversed(list(enumerate(x))):\n",
        "    print(index, value)"
      ],
      "execution_count": null,
      "outputs": [
        {
          "output_type": "stream",
          "text": [
            "3 d\n",
            "2 c\n",
            "1 b\n",
            "0 a\n"
          ],
          "name": "stdout"
        }
      ]
    },
    {
      "cell_type": "markdown",
      "metadata": {
        "id": "TLdoKK3M1Bk2"
      },
      "source": [
        "### Задание ⁷. Строковое представление.\n",
        "\n",
        "Мудро воспользуйтесь словарём `UPPER_INDICES_CODES`. Подсказка: `chr()`.\n",
        "\n",
        "Это задание не получится проверить в Colab. Проверьте у себя на компьютере."
      ]
    },
    {
      "cell_type": "code",
      "metadata": {
        "id": "dSfbqMrJG0kv"
      },
      "source": [
        "UPPER_INDICES_CODES = {\n",
        "    0: 8304,\n",
        "    1: 185,\n",
        "    2: 178,\n",
        "    3: 179,\n",
        "    4: 8308,\n",
        "    5: 8309,\n",
        "    6: 8310,\n",
        "    7: 8311,\n",
        "    8: 8312,\n",
        "    9: 8313,\n",
        "}"
      ],
      "execution_count": null,
      "outputs": []
    },
    {
      "cell_type": "markdown",
      "metadata": {
        "id": "MJQ4XAnHi46h"
      },
      "source": [
        "### Задание 8. Линейное уравнение.\n",
        "\n",
        "Напишите в `polynom.py` класс-наследник `class LinearEquation(Polynom)` для линейного уравнения.\n",
        "\n",
        "Должен присутствовать метод `.root()` и тесты на него. Как писать тесты &mdash; смотрите файл с тестами и делайте по аналогии.\n",
        "\n",
        "Например, `LinearEquation(2, 5).root() == -0.4 -> 5x + 2 = 0`\n",
        "\n",
        "Обратите внимание, коэффициенты НЕ подаются списком.\n",
        "\n",
        "Ваши тесты должны проходить! Если сдаёте это задание, положите тесты в функцию `test_8()` и пришлите файл `test_polynom.py` на `eliasnwr@gmail.com`, написав, кто вы.\n",
        "\n",
        "Что делать, когда корень не один &mdash; на ваше усмотрение."
      ]
    },
    {
      "cell_type": "markdown",
      "metadata": {
        "id": "kve8ePyojOtM"
      },
      "source": [
        "### Задание 9. Квадратное уравнение.\n",
        "\n",
        "Напишите в `polynom.py` класс-наследник `class QuadraticEquation(Polynom)` для квадратного уравнения.\n",
        "\n",
        "Метод `.roots()` возвращает кортеж из двух корней, большего и меньшего.\n",
        "\n",
        "Возможно, полезно написать метод `.discriminant()` ;)\n",
        "\n",
        "Например, `QuadraticEquation(6, 5, 1).roots() == (-3, -2) -> x2 + 5x + 6 == 0`\n",
        "\n",
        "Обратите внимание, коэффициенты НЕ подаются списком.\n",
        "\n",
        "Ваши тесты должны проходить! Если сдаёте это задание, положите тесты в функцию `test_9()` и пришлите файл `test_polynom.py`.\n",
        "\n",
        "Что делать, когда корней не два &mdash; на ваше усмотрение."
      ]
    },
    {
      "cell_type": "markdown",
      "metadata": {
        "id": "Rs5Fsdgcut8S"
      },
      "source": [
        "### Задание 10. Подстановка x.\n",
        "\n",
        "Надеюсь, из названия и тестов понятно :)\n",
        "\n",
        "Какой метод нужно написать &mdash; можете подумать, погуглить, почитать вот [здесь](https://habr.com/ru/post/186608/)."
      ]
    },
    {
      "cell_type": "markdown",
      "metadata": {
        "id": "bkx3_xFeRSns"
      },
      "source": [
        "### Задание 11. Новые требования.\n",
        "\n",
        "Поступили новые требования к нашему классу! И оказалось, что какая-то функциональность не работает.\n",
        "\n",
        "Почините тесты для 11го задания :)"
      ]
    }
  ]
}