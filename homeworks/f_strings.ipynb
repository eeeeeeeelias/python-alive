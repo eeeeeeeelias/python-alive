{
  "nbformat": 4,
  "nbformat_minor": 0,
  "metadata": {
    "colab": {
      "name": "f_strings.ipynb",
      "provenance": [],
      "collapsed_sections": []
    },
    "kernelspec": {
      "name": "python3",
      "display_name": "Python 3"
    }
  },
  "cells": [
    {
      "cell_type": "markdown",
      "source": [
        "`f-string` `str.format`"
      ],
      "metadata": {
        "id": "eV3NSsIno86p"
      }
    },
    {
      "cell_type": "markdown",
      "metadata": {
        "id": "jfwA2rgiFpiI"
      },
      "source": [
        "Полезные ссылки:\n",
        "\n",
        "https://pyformat.info/\n",
        "\n",
        "https://www.python.org/dev/peps/pep-3101/\n",
        "\n",
        "https://www.python.org/dev/peps/pep-0498/"
      ]
    },
    {
      "cell_type": "code",
      "metadata": {
        "id": "f9a0OIFoGurU",
        "colab": {
          "base_uri": "https://localhost:8080/",
          "height": 72
        },
        "outputId": "6701b0e9-154f-4ca1-bad8-01c4ed1c70e3"
      },
      "source": [
        "name = 'ilya'\n",
        "age = 25\n",
        "\n",
        "print(\"I'm %s, my age is %d years\" % (name, age))\n",
        "print(\"I'm {}, my age is {} years\".format(name, age))\n",
        "print(f\"I'm {name}, my age is {age} years\")"
      ],
      "execution_count": null,
      "outputs": [
        {
          "output_type": "stream",
          "text": [
            "I'm ilya, my age is 25 years\n",
            "I'm ilya, my age is 25 years\n",
            "I'm ilya, my age is 25 years\n"
          ],
          "name": "stdout"
        }
      ]
    },
    {
      "cell_type": "code",
      "metadata": {
        "id": "0D9GYDc5PyWv",
        "colab": {
          "base_uri": "https://localhost:8080/",
          "height": 108
        },
        "outputId": "876b1e4f-c46f-4fb6-a1d0-bfcac6878417"
      },
      "source": [
        "# 1\n",
        "print(f\"{name:_^10}\")\n",
        "\n",
        "# 2\n",
        "print(\"{:_^10}\".format(name))\n",
        "\n",
        "# 3\n",
        "output_length = 10\n",
        "print(f\"{name:_^{output_length}}\")\n",
        "\n",
        "# 4\n",
        "print(\"{:_^{}}\".format(name, output_length))\n",
        "\n",
        "padding_character = \"*\"\n",
        "alignment = \">\"\n",
        "padding_length = 20\n",
        "print(f\"{name:_>{padding_length}}\")\n"
      ],
      "execution_count": null,
      "outputs": [
        {
          "output_type": "stream",
          "text": [
            "___ilya___\n",
            "___ilya___\n",
            "___ilya___\n",
            "___ilya___\n",
            "****************ilya\n"
          ],
          "name": "stdout"
        }
      ]
    },
    {
      "cell_type": "markdown",
      "metadata": {
        "id": "DIQlh0X-ZorB"
      },
      "source": [
        "## Задание 1"
      ]
    },
    {
      "cell_type": "markdown",
      "metadata": {
        "id": "oU1io6vUTSmA"
      },
      "source": [
        "Дана прямоугольная матрица. Нужно вывести её, разделяя пробелами. Числа из одного столбца должны располагаться ровно друг под другом и выравнены по правому краю.\n",
        "\n",
        "Столбцы не должны склеиваться. Все столбцы должны иметь одинаковую ширину.\n",
        "\n",
        "Строка матрицы может иметь длину 0.\n",
        "Строк не меньше, чем одна."
      ]
    },
    {
      "cell_type": "markdown",
      "metadata": {
        "id": "wxamkyRKZsB1"
      },
      "source": [
        "## Задание 2"
      ]
    },
    {
      "cell_type": "markdown",
      "metadata": {
        "id": "gXso5T7hZt99"
      },
      "source": [
        "Дано дробное число `x`. Вывести его, округлив до `n` знаков после запятой.\n",
        "\n",
        "Используйте знания с сегодняшнего занятия :) (`format` и `f`-строки)."
      ]
    },
    {
      "cell_type": "markdown",
      "metadata": {
        "id": "et9X02xBj25m"
      },
      "source": [
        "## Задание 3"
      ]
    },
    {
      "cell_type": "markdown",
      "metadata": {
        "id": "bZEjTNUDj4Zj"
      },
      "source": [
        "Дан список пар: название главы и страница, с которой она начинается.\n",
        "\n",
        "Глав не больше 99.\n",
        "Страниц в книге не больше 999.\n",
        "\n",
        "Нужно вывести оглавление книги в следующем формате:\n",
        "\n",
        "```4. Название четвёртой главы......................53```\n",
        "\n",
        "Длина каждой строки -- 80 символов.\n",
        "Главы нумеруются с первой, а не с нулевой.\n",
        "\n",
        "Используйте знания с сегодняшнего занятия :)"
      ]
    },
    {
      "cell_type": "code",
      "metadata": {
        "id": "VzZAPzLqkZmt"
      },
      "source": [
        "def print_contents(content):\n",
        "    for i, item in enumerate(content):\n",
        "        left_part = f\"{i + 1}. {item[0]}\"\n",
        "        print(f\"{left_part:.<77}{item[1]:.>3}\")\n",
        "\n",
        "print_contents(\n",
        "    [\n",
        "        ('Глава первая', '10'), ('Глава вторая', '59'), ('Глава третья', '256'),\n",
        "        ('Глава четвёртая', '300'), ('Глава пятая', '306'), ('Глава шестая', '310'),\n",
        "        ('Ещё одна', '330'), ('Короткая глава', '332'), ('Какая-то', '400'),\n",
        "        ('Глава с ооочень-очень-очень-очень длинным названием, прямо очень длинным', '666'),\n",
        "        ('Глава одиннадцатая', '800'), ('Глава последняя', '900'),\n",
        "    ]\n",
        ")"
      ],
      "execution_count": null,
      "outputs": []
    },
    {
      "cell_type": "markdown",
      "metadata": {
        "id": "x_3A2ZTovFkY"
      },
      "source": [
        "```\n",
        "1. Глава первая...............................................................10\n",
        "2. Глава вторая...............................................................59\n",
        "3. Глава третья..............................................................256\n",
        "4. Глава четвёртая...........................................................300\n",
        "5. Глава пятая...............................................................306\n",
        "6. Глава шестая..............................................................310\n",
        "7. Ещё одна..................................................................330\n",
        "8. Короткая глава............................................................332\n",
        "9. Какая-то..................................................................400\n",
        "10. Глава с ооочень-очень-очень-очень длинным названием, прямо очень длинным.666\n",
        "11. Глава одиннадцатая.......................................................800\n",
        "12. Глава последняя..........................................................900\n",
        "```"
      ]
    },
    {
      "cell_type": "code",
      "metadata": {
        "id": "wSE3hP0hZ3Jz"
      },
      "source": [
        "def print_rounded(x, n):\n",
        "    pass"
      ],
      "execution_count": null,
      "outputs": []
    },
    {
      "cell_type": "code",
      "metadata": {
        "id": "A-E3io0NT8E_"
      },
      "source": [
        "str()\n",
        "len()\n",
        "join()\n",
        "map()"
      ],
      "execution_count": null,
      "outputs": []
    },
    {
      "cell_type": "code",
      "metadata": {
        "id": "hhwnoDg6UA4T",
        "colab": {
          "base_uri": "https://localhost:8080/",
          "height": 173
        },
        "outputId": "ae5816ac-91a3-4639-9e8a-a71a9d4ae592"
      },
      "source": [
        "\" <> \".join([\"a\", \"b\", 8])"
      ],
      "execution_count": null,
      "outputs": [
        {
          "output_type": "error",
          "ename": "TypeError",
          "evalue": "ignored",
          "traceback": [
            "\u001b[0;31m---------------------------------------------------------------------------\u001b[0m",
            "\u001b[0;31mTypeError\u001b[0m                                 Traceback (most recent call last)",
            "\u001b[0;32m<ipython-input-22-28234c1d8a13>\u001b[0m in \u001b[0;36m<module>\u001b[0;34m()\u001b[0m\n\u001b[0;32m----> 1\u001b[0;31m \u001b[0;34m\" <> \"\u001b[0m\u001b[0;34m.\u001b[0m\u001b[0mjoin\u001b[0m\u001b[0;34m(\u001b[0m\u001b[0;34m[\u001b[0m\u001b[0;34m\"a\"\u001b[0m\u001b[0;34m,\u001b[0m \u001b[0;34m\"b\"\u001b[0m\u001b[0;34m,\u001b[0m \u001b[0;36m8\u001b[0m\u001b[0;34m]\u001b[0m\u001b[0;34m)\u001b[0m\u001b[0;34m\u001b[0m\u001b[0;34m\u001b[0m\u001b[0m\n\u001b[0m",
            "\u001b[0;31mTypeError\u001b[0m: sequence item 2: expected str instance, int found"
          ]
        }
      ]
    },
    {
      "cell_type": "code",
      "metadata": {
        "id": "7RGfUwQgTgUT"
      },
      "source": [
        "[[5, 6, -7], [100, 20, \"abc\"]]\n",
        "  5   6  -7\n",
        "100  20 abc"
      ],
      "execution_count": null,
      "outputs": []
    },
    {
      "cell_type": "code",
      "metadata": {
        "id": "UKjhreQhTury"
      },
      "source": [
        "def print_aligned_matrix(m):\n",
        "    "
      ],
      "execution_count": null,
      "outputs": []
    },
    {
      "cell_type": "code",
      "metadata": {
        "id": "jkjLn5f-jG_Z",
        "colab": {
          "base_uri": "https://localhost:8080/",
          "height": 72
        },
        "outputId": "9858ea99-bfec-43e9-8757-3a82689479aa"
      },
      "source": [
        "some_list = [\"a\", \"d\", \"s\"]\n",
        "\n",
        "for i, item in enumerate(some_list):\n",
        "    print(f\"{i}: {item}\")\n",
        "\n",
        "for i, item in enumerate(some_list):\n",
        "    item\n",
        "    some_list[i-1]\n",
        "\n",
        "for i in range(len(some_list)):\n",
        "    some_list[i]"
      ],
      "execution_count": null,
      "outputs": [
        {
          "output_type": "stream",
          "text": [
            "0: a\n",
            "1: d\n",
            "2: s\n"
          ],
          "name": "stdout"
        }
      ]
    }
  ]
}