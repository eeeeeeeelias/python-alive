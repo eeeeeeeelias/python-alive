{
  "nbformat": 4,
  "nbformat_minor": 0,
  "metadata": {
    "colab": {
      "name": "google_sheets.ipynb",
      "provenance": [],
      "collapsed_sections": []
    },
    "kernelspec": {
      "name": "python3",
      "display_name": "Python 3"
    }
  },
  "cells": [
    {
      "cell_type": "markdown",
      "source": [
        "`google sheets` `api` `gspread` `oauth2client`"
      ],
      "metadata": {
        "id": "6zwcTP6VpTiY"
      }
    },
    {
      "cell_type": "markdown",
      "metadata": {
        "id": "TtlYYKkkFaCB"
      },
      "source": [
        "#### Ссылки.\n",
        "Ссылка на этот листок:\n",
        "https://colab.research.google.com/drive/1H6bWsOwAxoDYiNiymblrsuyGceT_Er51\n",
        "\n",
        "Ещё одна ссылка на этот листок:\n",
        "http://bit.ly/googlesheets_silaedr"
      ]
    },
    {
      "cell_type": "markdown",
      "metadata": {
        "id": "EumQrDf_7c8m"
      },
      "source": [
        "### Google Sheets API\n",
        "Сегодня мы будем учиться работать с Google Sheets API.\n",
        "\n",
        "Напомню, Google Sheets -- онлайн-аналог Excel/LibreOffice Calc, где вы, например, видите свои оценки по информатике или расписание на неделю.\n",
        "\n",
        "Мы будем работать с следующей таблицей: https://docs.google.com/spreadsheets/d/1n7euOAUkGqFzO91Ltyoo29tqgqEv3tBRKNcwv2UhnsQ/edit?usp=sharing\n",
        "\n",
        "Нам понадобятся две библиотеки:\n",
        "* gspread (https://gspread.readthedocs.io/en/latest/index.html)\n",
        "* oauth2client"
      ]
    },
    {
      "cell_type": "code",
      "metadata": {
        "id": "p5PtFS0RFwN4"
      },
      "source": [
        "# если вы не в колабе\n",
        "pip install --user gspread\n",
        "pip install --user oauth2client\n",
        "# если вы в колабе, устанавливать ничего не нужно"
      ],
      "execution_count": null,
      "outputs": []
    },
    {
      "cell_type": "markdown",
      "metadata": {
        "id": "7iRSelDM8sBF"
      },
      "source": [
        "### Задание 1. Проект. *(1 балл)*\n",
        "Получить доступ к таблице. Делается это следующим образом:\n",
        "\n",
        "* зайти на https://console.developers.google.com\n",
        "* создать проект\n",
        "* в меню \"включить API и сервисы\" включить Google Sheets API\n",
        "* в меню \"создать учётные данные\" выбрать следующие настройки (https://drive.google.com/uc?id=1kJ5U3G0l9zj5VWxFfMKEQ5hGwkch-yIy):\n",
        "![https://drive.google.com/uc?id=1kJ5U3G0l9zj5VWxFfMKEQ5hGwkch-yIy](https://drive.google.com/uc?id=1kJ5U3G0l9zj5VWxFfMKEQ5hGwkch-yIy)\n",
        "* на шаге 2 ввести название сервисного аккаунта, выбрать роль \"проект->редактор\", выбрать тип ключа \"JSON\"\n",
        "* сохранить json-файл под именем `client_secret.json`\n",
        "* ровно таким же образом добавьте \"google drive API\". Создавать ещё раз учётные данные **не нужно**.\n",
        "* загрузить данный файл к себе в колаб. Добавить файлы в колаб можно на вкладке слева\n",
        "* скинуть значение `\"client_email\"` мне в личку в \n",
        "Телеграм, чтобы я открыл доступ к таблице."
      ]
    },
    {
      "cell_type": "markdown",
      "metadata": {
        "id": "MIkAlSzUokUC"
      },
      "source": [
        "#### Инструкция. Как получить json заново\n",
        "* зайдите на вкладку \"учётные данные\";\n",
        "* в списке \"сервисные аккаунты\" выбрать свой аккаунт, нажать на карандаш;\n",
        "* нажать \"создать ключ\", выбрать JSON."
      ]
    },
    {
      "cell_type": "markdown",
      "metadata": {
        "id": "WPBxJkpC_gaY"
      },
      "source": [
        "### Задание 2. Доступ. *(1 балл)*\n",
        "Убедитесь, что вы получили доступ к таблице.\n",
        "\n",
        "Распечатайте содержимое листа вашего класса. Не используйте функцию `print()` (просто напишите название переменной).\n",
        "\n",
        "**Полезно!** Встроенная функция `dir()` позволяет получить список всех методов класса/объекта/etc."
      ]
    },
    {
      "cell_type": "code",
      "metadata": {
        "id": "MwSfaSCQsMdL"
      },
      "source": [
        "# импорт необходимых библиотек\n",
        "import gspread\n",
        "from oauth2client.service_account import ServiceAccountCredentials"
      ],
      "execution_count": null,
      "outputs": []
    },
    {
      "cell_type": "code",
      "metadata": {
        "id": "wFqCrLm14DpS"
      },
      "source": [
        "# подключение к конкретной таблице\n",
        "scope = ['https://spreadsheets.google.com/feeds','https://www.googleapis.com/auth/drive']\n",
        "creds = ServiceAccountCredentials.from_json_keyfile_name('client_secret.json', scope)\n",
        "table = gspread.authorize(creds).open(\"conduit_8\")"
      ],
      "execution_count": null,
      "outputs": []
    },
    {
      "cell_type": "code",
      "metadata": {
        "id": "8Ia4aQ-04VMg"
      },
      "source": [
        "# место для вашего кода"
      ],
      "execution_count": null,
      "outputs": []
    },
    {
      "cell_type": "markdown",
      "metadata": {
        "id": "TKgg1S_LAvdu"
      },
      "source": [
        "### Задание 3. Создание листа. *(1 балл)*\n",
        "Напишите функцию `create_table_without_duplicate`, которая принимает на вход:\n",
        "* имя нового листа;\n",
        "* количество строк;\n",
        "* количество столбцов.\n",
        "\n",
        "Функция создаёт лист в таблице, но если лист с таким названием уже есть -- удаляет его и создаёт заново.\n",
        "\n",
        "**Ограничение**: никакого дублирования в коде!"
      ]
    },
    {
      "cell_type": "code",
      "metadata": {
        "id": "zu1L3F4YELqh"
      },
      "source": [
        "def create_table_without_duplicate(sheet_name: str, row_number: int, col_number: int):\n",
        "    pass # место для вашего кода"
      ],
      "execution_count": null,
      "outputs": []
    },
    {
      "cell_type": "markdown",
      "metadata": {
        "id": "UTiKCLEUEMJN"
      },
      "source": [
        "Создайте в данной таблице лист размером 30 строк, 20 столбцов, который называется вашей фамилией (например, `'malovanova'`)."
      ]
    },
    {
      "cell_type": "code",
      "metadata": {
        "id": "XSienGqnCSdu"
      },
      "source": [
        "# место для вашего кода"
      ],
      "execution_count": null,
      "outputs": []
    },
    {
      "cell_type": "markdown",
      "metadata": {
        "id": "I-Z-LnGtCToS"
      },
      "source": [
        "### Задание 4. Копирование. *(2 балла)*\n",
        "Напишите функцию `copy_student_marks()`, которая принимает\n",
        "* фамилию ученика `surname` любого из 2 классов;\n",
        "* число `row_number`.\n",
        "\n",
        "Функция копирует с соответствующего листа (8с или 8т) \"шапку\" таблицы (две верхних строки) в верхние строки вашего листа, а также строку с оценками ученика `surname` в `row_number`-ую строку. Нумерация строк на листе -- с первой! (а не с нулевой)\n",
        "\n",
        "Размеры листа изменяться не должны. Шапка таблицы не должна затираться оценками.\n",
        "\n",
        "Если `row_number` некорректный, должна кидаться какая-то ошибка. (например, в таблице нет столько строк, или `row_number < 3`)"
      ]
    },
    {
      "cell_type": "code",
      "metadata": {
        "id": "oGLZsUHlCq8j"
      },
      "source": [
        "def copy_student_marks(surname: str, row_number: int):\n",
        "    pass # место для вашего кода"
      ],
      "execution_count": null,
      "outputs": []
    },
    {
      "cell_type": "markdown",
      "metadata": {
        "id": "FSU7gRv_FJpR"
      },
      "source": [
        "Скопируйте ваши оценки во вторую строку вашего листа."
      ]
    },
    {
      "cell_type": "code",
      "metadata": {
        "id": "WwJeaUEIFMvS"
      },
      "source": [
        "# место для вашего кода"
      ],
      "execution_count": null,
      "outputs": []
    },
    {
      "cell_type": "markdown",
      "metadata": {
        "id": "YljKaVpFGE5c"
      },
      "source": [
        "### Задание 5. *(1 балл)*\n",
        "Напишите функцию, которая выводит список названий листов нашей таблицы. Попытайтесь получить баллы за это задание.\n",
        "\n",
        "Помните, что название таблицы может меняться."
      ]
    },
    {
      "cell_type": "code",
      "metadata": {
        "id": "ALBWXvAP1FUO"
      },
      "source": [
        "# место для вашего кода"
      ],
      "execution_count": null,
      "outputs": []
    },
    {
      "cell_type": "markdown",
      "metadata": {
        "id": "lmhN-A_a0nqO"
      },
      "source": [
        "### Задание 6. *(3 балла)*\n",
        "Реализуйте на своём листе рейтинг учеников. Что это значит:\n",
        "* если какой-то человек получил/потерял баллы за то или иное задание, таблица должна самостоятельно пересортироваться;\n",
        "* выше стоит тот, у кого больше баллов;\n",
        "* кто стоит впереди при равенстве баллов -- неважно.\n",
        "* также должно отображаться место в рейтинге.\n",
        "\n",
        "Пример такого рейтинга -- на листе `rating_6`.\n",
        "\n",
        "Если вы хотите, вы можете запросить ручной доступ к таблице (то есть не через API, а чтобы изменять её руками)\n",
        "\n",
        "*Hint*: вам могут понадобиться функции `VLOOKUP`, `IF`, `RANK`, `COLUMN`, `ROW`..."
      ]
    },
    {
      "cell_type": "code",
      "metadata": {
        "id": "pJfuNJbt1sIW"
      },
      "source": [
        "# место для вашего кода. Впрочем, можете не использовать Python."
      ],
      "execution_count": null,
      "outputs": []
    },
    {
      "cell_type": "markdown",
      "metadata": {
        "id": "7PN1mBEd1wVv"
      },
      "source": [
        "### Задание 7. *(3 балла)*\n",
        "Улучшите рейтинг. При равенстве впереди должен располагаться тот, кто решил задание с максимальным номером. Если номер совпадает, смотрим на второй максимальный номер и так далее.\n",
        "Например, если один человек решил задания 4-6-7-8, а второй 5-6-7-8, второй должен оказаться выше."
      ]
    },
    {
      "cell_type": "code",
      "metadata": {
        "id": "80vCL2Ee2J4J"
      },
      "source": [
        "# место для вашего кода. Впрочем, можете не использовать Python."
      ],
      "execution_count": null,
      "outputs": []
    },
    {
      "cell_type": "markdown",
      "metadata": {
        "id": "c6fPQ4-q8OO2"
      },
      "source": [
        "### Задание 8. *(1 балл)*\n",
        "Его можно делать, если сдано задание 6.\n",
        "\n",
        "Исправьте отображение места в рейтинге: если у двух учеников одинаковые баллы, они занимают одно и то же место.\n",
        "\n",
        "Например:\n",
        " * 1. Ученик 1 (8 баллов)\n",
        " * 1. Ученик 2 (8 баллов)\n",
        " * 3. Ученик 3 (7 баллов)\n",
        " * 4. ..."
      ]
    },
    {
      "cell_type": "code",
      "metadata": {
        "id": "5WKOaMse8fiF"
      },
      "source": [
        "# место для вашего кода. Впрочем, можете не использовать Python."
      ],
      "execution_count": null,
      "outputs": []
    },
    {
      "cell_type": "markdown",
      "metadata": {
        "id": "9PNKSS9i9ZmO"
      },
      "source": [
        "Больше заданий в этом листочке заданий появляться **не будет**."
      ]
    }
  ]
}