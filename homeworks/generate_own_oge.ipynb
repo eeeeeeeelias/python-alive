{
  "nbformat": 4,
  "nbformat_minor": 0,
  "metadata": {
    "colab": {
      "name": "generate_own_oge.ipynb",
      "provenance": [],
      "collapsed_sections": []
    },
    "kernelspec": {
      "name": "python3",
      "display_name": "Python 3"
    }
  },
  "cells": [
    {
      "cell_type": "markdown",
      "source": [
        "`basic state exam (OGE)` `string` `test generation` `unified state exam (EGE)`"
      ],
      "metadata": {
        "id": "QPWXzXswqs9S"
      }
    },
    {
      "cell_type": "markdown",
      "metadata": {
        "id": "3tWPM1PpvjIP"
      },
      "source": [
        "Ссылка на этот листок:\n",
        "\n",
        "http://bit.ly/generate_own_oge\n",
        "\n",
        "Ещё одна ссылка на этот же листок:\n",
        "\n",
        "https://colab.research.google.com/drive/1BzH6iGZw1FBaJJ4hHB4I-re8YCY118kE"
      ]
    },
    {
      "cell_type": "markdown",
      "metadata": {
        "id": "GY5hNEVDNL3M"
      },
      "source": [
        "В какой-то момент вам предстоит сдать ОГЭ по информатике (но это не точно). А чтобы научиться решать задания ОГЭ, давайте научим наш код решать задания ОГЭ. Причём не только решать, но и создавать!\n",
        "\n",
        "Данный листочек является продолжением классной работы, которую вы делали неделю назад.\n",
        "\n",
        "В этом листочке вас ждёт:\n",
        "* генерация задания 5 \"прибавь/умножь\" (3 балла)\n",
        "* генерация задания 5 \"прибавь/раздели\" (3 балла)\n",
        "* генерация задания 10 (3 балла)\n",
        "* генерация задания 6 (5 балла)\n",
        "* ОГЭ по математике (3 балла)\n",
        "\n",
        "Оценка за листок: сумма баллов. Все предельно просто :)\n",
        "\n",
        "Это волшебный листочек, в нём можно набрать более 10 баллов. Если вы наберёте более 10 баллов, все остальные баллы увеличат остальные оценки.\n",
        "\n",
        "Например, если вы набрали 11 баллов, то вы можете увеличить свою другую оценку на 1 балл."
      ]
    },
    {
      "cell_type": "markdown",
      "metadata": {
        "id": "8zLW7-7tOKSZ"
      },
      "source": [
        "### Задание 5. Простой линейный алгоритм для формального исполнителя.\n",
        "Напишите генератор задания 5.\n",
        "\n",
        "Функция не принимает ничего (или строку `'test'` для тестирующего режима -- об этом позже).\n",
        "\n",
        "Функция возвращает текст задания и ответ на задание.\n",
        "\n",
        "Примеры заданий можно найти здесь: https://inf-oge.sdamgia.ru/test?theme=24. Примеры с \"прибавь/раздели\" нас не интересуют -- только \"прибавь/умножь\".\n",
        "\n",
        "Давайте внимательно посмотрим на задания этого типа.\n",
        "\n",
        "Как можно увидеть, случайными параметрами являются:\n",
        "* имя исполнителя `robot_name` (Альфа, Бета, ... -- любая греческая буква)\n",
        "* начальное число `start_number` (`1 <= start_number <= 10)\n",
        "* число `add_number` в первой команде (прибавь 1, прибавь 2... пусть `0 <= add_number <= 4`\n",
        "* число `multiply_number` во второй команде (пусть `2 <= multiply_number <= 20`)\n",
        "* алгоритм `algorithm` (он всегда состоит из 5 команд, из которых одна -- \"2\", остальные \"1\". Например, `'12111'`)\n",
        "\n",
        "Тестирующий режим должен выставлять не случайные, а конкретные параметры, как в этом экземпляре задания: https://inf-oge.sdamgia.ru/problem?id=10383.\n",
        "\n",
        "Таким образом, в тестирующем режиме функция должна возвращать ответ `multiply_number == 10`."
      ]
    },
    {
      "cell_type": "code",
      "metadata": {
        "id": "JWMHbi9aPLtv"
      },
      "source": [
        "import random\n",
        "\n",
        "def generate_oge_task5(mode='no test') -> (str, str):\n",
        "    assert(mode == 'test' or mode == 'no test')\n",
        "    # В дальнейшем тестирующий режим вы будете реализовывать самостоятельно.\n",
        "    # В данном случае это сделано за вас, чтобы вы примерно поняли идею.\n",
        "    if mode == 'test':\n",
        "        robot_name = 'Альфа'\n",
        "        start_number = 6\n",
        "        add_number = 1\n",
        "        multiply_number = 10\n",
        "        algorithm = '11211'\n",
        "    else:\n",
        "        robot_name = random.choice(['Альфа', 'Бета', 'Омега']) # можете добавить ещё букв\n",
        "        start_number = 6\n",
        "        add_number = random.randint(1, 10)\n",
        "        multiply_number = random.randint(2, 20)\n",
        "        algorithm = list('11111')\n",
        "        algorithm[random.randint(0, len(algorithm) - 1)] = '2'\n",
        "        algorithm = ''.join(algorithm)\n",
        "        print(algorithm)\n",
        "    # Здесь начинается код, который вам нужно написать\n",
        "    # Здесь заканчивается код, который вам нужно написать\n",
        "    return task_text, str(multiply_number)\n"
      ],
      "execution_count": null,
      "outputs": []
    },
    {
      "cell_type": "code",
      "metadata": {
        "id": "2hDxAwLmpKww",
        "outputId": "e16f9809-6da1-4bff-dfe0-00c9a186e39d",
        "colab": {
          "base_uri": "https://localhost:8080/",
          "height": 238
        }
      },
      "source": [
        "# Эту строку менять нельзя. Но её можно использовать для вашей функции!\n",
        "text_sample = '''У исполнителя Альфа две команды, которым присвоены номера:\n",
        "\\t1. прибавь 1;\n",
        "\\t2. умножь на b\n",
        "\\t(b — неизвестное натуральное число; b ≥ 2).\n",
        "Выполняя первую из них, Альфа увеличивает число на экране на 1, а выполняя вторую, умножает это число на b.\n",
        "Программа для исполнителя Альфа — это последовательность номеров команд.\n",
        "Известно, что программа 11211 переводит число 6 в число 82.\n",
        "\n",
        "Определите значение b.\n",
        "'''\n",
        "\n",
        "task_text_random, task_answer_random = generate_oge_task5()\n",
        "print(task_text_random)\n",
        "print(task_answer_random)\n",
        "\n",
        "# Этот код менять нельзя. Он проверяет ваше задание.\n",
        "task_text_test, task_answer_test = generate_oge_task5('test')\n",
        "assert(task_text_test == text_sample)\n",
        "assert(int(task_answer_test) == 10)\n"
      ],
      "execution_count": null,
      "outputs": [
        {
          "output_type": "error",
          "ename": "NameError",
          "evalue": "ignored",
          "traceback": [
            "\u001b[0;31m---------------------------------------------------------------------------\u001b[0m",
            "\u001b[0;31mNameError\u001b[0m                                 Traceback (most recent call last)",
            "\u001b[0;32m<ipython-input-1-80052c81cf12>\u001b[0m in \u001b[0;36m<module>\u001b[0;34m()\u001b[0m\n\u001b[1;32m     10\u001b[0m '''\n\u001b[1;32m     11\u001b[0m \u001b[0;34m\u001b[0m\u001b[0m\n\u001b[0;32m---> 12\u001b[0;31m \u001b[0mtask_text_random\u001b[0m\u001b[0;34m,\u001b[0m \u001b[0mtask_answer_random\u001b[0m \u001b[0;34m=\u001b[0m \u001b[0mgenerate_oge_task5\u001b[0m\u001b[0;34m(\u001b[0m\u001b[0;34m)\u001b[0m\u001b[0;34m\u001b[0m\u001b[0;34m\u001b[0m\u001b[0m\n\u001b[0m\u001b[1;32m     13\u001b[0m \u001b[0mprint\u001b[0m\u001b[0;34m(\u001b[0m\u001b[0mtask_text_random\u001b[0m\u001b[0;34m)\u001b[0m\u001b[0;34m\u001b[0m\u001b[0;34m\u001b[0m\u001b[0m\n\u001b[1;32m     14\u001b[0m \u001b[0mprint\u001b[0m\u001b[0;34m(\u001b[0m\u001b[0mtask_answer_random\u001b[0m\u001b[0;34m)\u001b[0m\u001b[0;34m\u001b[0m\u001b[0;34m\u001b[0m\u001b[0m\n",
            "\u001b[0;31mNameError\u001b[0m: name 'generate_oge_task5' is not defined"
          ]
        }
      ]
    },
    {
      "cell_type": "markdown",
      "metadata": {
        "id": "cWI-bIX3wo2I"
      },
      "source": [
        "### Задание 5. Прибавь и раздели.\n",
        "\n",
        "Напишите генератор задания 5. Только на этот раз вас интересуют задания с операциями \"прибавь/раздели\".\n",
        "\n",
        "Можете модифицировать старую функцию.\n",
        "\n",
        "Тестирующий режим должен выставлять не случайные, а конкретные параметры, как в этом экземпляре задания: https://inf-oge.sdamgia.ru/problem?id=10392."
      ]
    },
    {
      "cell_type": "code",
      "metadata": {
        "id": "GX_q0KsXd5ng"
      },
      "source": [
        "# напишите модифицированную функцию здесь\n",
        "def generate_oge_task5_improved(mode='no test') -> (str, str):\n",
        "    pass  # удалите, когда начнёте писать код"
      ],
      "execution_count": null,
      "outputs": []
    },
    {
      "cell_type": "code",
      "metadata": {
        "id": "p4IUHjB3qBl1"
      },
      "source": [
        "# Эту строку менять нельзя. Но её можно использовать для вашей функции!\n",
        "text_sample = '''У исполнителя Альфа две команды, которым присвоены номера:\n",
        "\\t1. прибавь 2;\n",
        "\\t2. раздели на b\n",
        "\\t(b — неизвестное натуральное число; b ≥ 2).\n",
        "Выполняя первую из них, Альфа увеличивает число на экране на 2, а выполняя вторую, делит это число на b.\n",
        "Программа для исполнителя Альфа — это последовательность номеров команд.\n",
        "Известно, что программа 12111 переводит число 47 в число 13.\n",
        "\n",
        "Определите значение b.\n",
        "'''\n",
        "\n",
        "print(text_sample)\n",
        "\n",
        "task_text_random, task_answer_random = generate_oge_task5_improved()\n",
        "print(task_text_random)\n",
        "print(task_answer_random)\n",
        "\n",
        "# Этот код менять нельзя. Он проверяет ваше задание.\n",
        "task_text_test, task_answer_test = generate_oge_task5_improved('test')\n",
        "assert(task_text_test == text_sample)\n",
        "assert(int(task_answer_test) == 7)\n"
      ],
      "execution_count": null,
      "outputs": []
    },
    {
      "cell_type": "markdown",
      "metadata": {
        "id": "chKxiivXwQ9j"
      },
      "source": [
        "### Задание 10. Сравнение чисел в различных системах счисления\n",
        "\n",
        "Напишите генератор задания 10. Примеры заданий: https://inf-oge.sdamgia.ru/test?theme=23\n",
        "\n",
        "Функция должна себя вести так же, как и `generate_oge_task5()`. Не забывайте про тестирующий режим.\n",
        "\n",
        "Тестирующий режим должен выставлять не случайные, а конкретные параметры, как в этом экземпляре задания: https://inf-oge.sdamgia.ru/problem?id=10324.\n",
        "\n",
        "Можно увидеть, что все задания выглядят одинаково: даны числа в системах счисления 2, 8, 16. Нужно найти максимальное/минимальное.\n",
        "\n",
        "Совет: генерируйте все три числа в каком-нибудь рандомно выбранном небольшом интервале, чтобы они отличались не больше, чем на 5-10.\n",
        "\n",
        "**Hint**: вам для каждого числа потребуется обозначить систему счисления. Помните, что в Unicode есть спецсимволы для цифр в нижнем индексе.\n"
      ]
    },
    {
      "cell_type": "code",
      "metadata": {
        "id": "BiBEk53qlHP6"
      },
      "source": [
        "# эту строку менять нельзя\n",
        "text_sample = '''Среди приведённых ниже трёх чисел, записанных в различных системах счисления, найдите максимальное и запишите его в ответе в десятичной системе счисления.\n",
        "В ответе запишите только число, основание системы счисления указывать не нужно.\n",
        "\\t38₁₆, 75₈, 110100₂.\n",
        "'''\n",
        "\n",
        "import random\n",
        "\n",
        "def generate_oge_task10(mode='no test') -> (str, str):\n",
        "    assert(mode == 'test' or mode == 'no test')\n",
        "    if mode == 'test':\n",
        "        pass  # напишите код сами\n",
        "    else:\n",
        "        pass  # напишите код сами\n",
        "    # Здесь заканчивается код, который вам нужно написать\n",
        "    return task_text, str(answer)\n"
      ],
      "execution_count": null,
      "outputs": []
    },
    {
      "cell_type": "code",
      "metadata": {
        "id": "WIuYEKoFph1U"
      },
      "source": [
        "task_text_random, task_answer_random = generate_oge_task10()\n",
        "print(task_text_random)\n",
        "print(task_answer_random)\n",
        "\n",
        "# Этот код менять нельзя. Он проверяет ваше задание.\n",
        "task_text_test, task_answer_test = generate_oge_task10('test')\n",
        "assert(task_text_test == text_sample)\n",
        "assert(int(task_answer_test) == 61)\n"
      ],
      "execution_count": null,
      "outputs": []
    },
    {
      "cell_type": "markdown",
      "metadata": {
        "id": "vE6B5fQc01Y9"
      },
      "source": [
        "### Задание 6. Программа с условным оператором\n",
        "\n",
        "Напишите генератор задания 10. Примеры заданий: https://inf-oge.sdamgia.ru/test?theme=25.\n",
        "\n",
        "Тестового режима здесь нет, зато есть другая сложность: отображать таблицу. Вам придётся разобраться, как это устроено.\n",
        "\n",
        "Функция должна **выводить** на экран задание и **возвращать** ответ.\n",
        "\n",
        "**Hint**: Используйте библиотеку `IPython`, функции `display` и `HTML`. Разберитесь, как они устроены.\n",
        "\n",
        "**Hint**: Ничто не мешает вам посмотреть исходный код страницы с заданием, взять оттуда код таблицы и в нём нужные вещи ;)"
      ]
    },
    {
      "cell_type": "code",
      "metadata": {
        "id": "nI2LD6d6Mimf",
        "colab": {
          "base_uri": "https://localhost:8080/",
          "height": 825
        },
        "outputId": "167a1fb6-fc4d-46c1-f5b7-2931ecb29590"
      },
      "source": [
        "from IPython.core.display import HTML, display\n",
        "from random import choice, randint\n",
        "\n",
        "def generate_oge_task6():\n",
        "    t1 = 'Ниже приведена программа, записанная на пяти языках программирования.\\n'\n",
        "    s = choice(['&gt', '&lt'])\n",
        "    n = randint(3, 15)\n",
        "    a = '{'\n",
        "    html = '''<center><p></p><p></p><table border=\"\" width=\"55%\"><tbody><tr><th width=\"50%\"><b>Бейсик</b></th><th width=\"50%\"><b>Python</b></th></tr><tr><td><div class=\"source_code lang_python\"><pre class=\"sh_basic sh_sourceCode\"><span class=\"sh_basic_strange_words\">DIM</span> s<span class=\"sh_symbol\">,</span> t <span class=\"sh_basic_strange_words\">AS</span> <span class=\"sh_type\">INTEGER</span>\n",
        " <span class=\"sh_basic_strange_words\">INPUT</span> s\n",
        " <span class=\"sh_basic_strange_words\">INPUT</span> t\n",
        " <span class=\"sh_keyword\">IF</span> s ''' + f'<span class=\"sh_symbol\">{s};</span> <span class=\"sh_number\">{n}</span> OR t <span class=\"sh_symbol\">{s};</span> <span class=\"sh_number\">{n}</span>' + '''<span class=\"sh_keyword\"> THEN</span>\n",
        "&nbsp;&nbsp;&nbsp;&nbsp;<span class=\"sh_basic_strange_words\">PRINT</span> ‘ДА’\n",
        " <span class=\"sh_basic_strange_words\">ELSE</span>\n",
        "&nbsp;&nbsp;&nbsp;&nbsp;<span class=\"sh_basic_strange_words\">PRINT</span> ‘НЕТ’\n",
        " <span class=\"sh_keyword\">ENDIF</span></pre></div></td><td><div class=\"source_code lang_python\" style=\"font-family:monospace\"><p>s = int(input())</p><p>t = int(input())</p><p>''' + f'if s {s}; {n} or t {s}; {n}:</p><p>&nbsp;&nbsp;&nbsp;&nbsp;print(\"ДА\")</p><p>else:</p><p>&nbsp;&nbsp;&nbsp;&nbsp;print(\"НЕТ\")</p><p> </p></div><p> </p></td></tr><tr><th><b>Паскаль</b></th><th><b>Алгоритмический язык</b></th></tr><tr><td><div class=\"source_code lang_pascal\"><pre class=\"sh_pascal sh_sourceCode\"><span class=\"sh_keyword\">var</span> s<span class=\"sh_symbol\">,</span> t<span class=\"sh_symbol\">:</span>' + '''<span class=\"sh_type\">integer</span><span class=\"sh_symbol\">;</span>\n",
        "<span class=\"sh_keyword\">begin</span>\n",
        "&nbsp;&nbsp;&nbsp;&nbsp;<span class=\"sh_keyword\">readln</span><span class=\"sh_symbol\">(</span>s<span class=\"sh_symbol\">);</span>\n",
        "&nbsp;&nbsp;&nbsp;&nbsp;<span class=\"sh_keyword\">readln</span><span class=\"sh_symbol\">(</span>t<span class=\"sh_symbol\">);</span>\n",
        "&nbsp;&nbsp;&nbsp;&nbsp;<span class=\"sh_keyword\">if''' + f'</span> <span class=\"sh_symbol\">(</span>s <span class=\"sh_symbol\">{s};</span> <span class=\"sh_number\">{n}</span><span class=\"sh_symbol\">)</span> <span class=\"sh_keyword\">or</span> <span class=\"sh_symbol\">(</span>t <span class=\"sh_symbol\">{s};</span> <span class=\"sh_number\">{n}</span><span class=\"sh_symbol\">)' + '''</span>\n",
        "&nbsp;&nbsp;&nbsp;&nbsp;&nbsp;&nbsp;&nbsp;&nbsp;<span class=\"sh_keyword\">then</span> <span class=\"sh_keyword\">writeln</span><span class=\"sh_symbol\">(</span><span class=\"sh_string_pasc\">'ДА'</span><span class=\"sh_symbol\">)</span>\n",
        "&nbsp;&nbsp;&nbsp;&nbsp;&nbsp;&nbsp;&nbsp;&nbsp;<span class=\"sh_keyword\">else</span> <span class=\"sh_keyword\">writeln</span><span class=\"sh_symbol\">(</span><span class=\"sh_string_pasc\">'НЕТ'</span><span class=\"sh_symbol\">)</span>\n",
        "<span class=\"sh_keyword\">end</span><span class=\"sh_symbol\">.</span></pre></div></td><td><div class=\"source_code lang_pascal\"><pre class=\"sh_alg sh_sourceCode\"><span class=\"sh_alg_keyword\">алг</span>\n",
        "<span class=\"sh_alg_keyword\">нач</span>\n",
        "<span class=\"sh_alg_keyword\">цел</span> s<span class=\"sh_symbol\">,</span> t\n",
        "<span class=\"sh_alg_keyword\">ввод</span> s\n",
        "<span class=\"sh_alg_keyword\">ввод</span> t\n",
        "<span class=\"sh_alg_keyword\">если</span> s''' + f' <span class=\"sh_symbol\">{s};</span> <span class=\"sh_number\">{n}</span> или t <span class=\"sh_symbol\">{s};</span> <span class=\"sh_number\">{n}' + '''</span>\n",
        "&nbsp;&nbsp;&nbsp;&nbsp;<span class=\"sh_alg_keyword\">то</span> <span class=\"sh_alg_keyword\">вывод</span> \"ДА\"\n",
        "&nbsp;&nbsp;&nbsp;&nbsp;<span class=\"sh_alg_keyword\">иначе</span> <span class=\"sh_alg_keyword\">вывод</span> \"НЕТ\"\n",
        "<span class=\"sh_alg_keyword\">все</span>\n",
        "<span class=\"sh_alg_keyword\">кон</span></pre></div></td></tr><tr><th colspan=\"2\"><b>С++</b></th></tr><tr><td colspan=\"2\"><div class=\"source_code lang_pascal\"><pre class=\"sh_c sh_sourceCode\"><span class=\"sh_preproc\">#include</span> <span class=\"sh_string\">&lt;iostream&gt;</span>\n",
        "using <span class=\"sh_usertype\">namespace</span><span class=\"sh_normal\"> </span>std<span class=\"sh_symbol\">;</span>\n",
        "<span class=\"sh_type\">int</span> <span class=\"sh_function\">main</span><span class=\"sh_symbol\">()</span> <span class=\"sh_cbracket\">{</span>\n",
        "&nbsp;&nbsp;&nbsp;&nbsp;<span class=\"sh_type\">int</span> s<span class=\"sh_symbol\">,</span> t<span class=\"sh_symbol\">;</span>\n",
        "&nbsp;&nbsp;&nbsp;&nbsp;cin <span class=\"sh_symbol\">&gt;&gt;</span> s<span class=\"sh_symbol\">;</span>\n",
        "&nbsp;&nbsp;&nbsp;&nbsp;cin <span class=\"sh_symbol\">&gt;&gt;</span> t<span class=\"sh_symbol\">;</span>\n",
        "&nbsp;&nbsp;&nbsp;&nbsp;<span class=\"sh_keyword\">if</span> <span class=\"sh_symbol\">(</span>s ''' + f'<span class=\"sh_symbol\">{s};</span> <span class=\"sh_number\">{n}</span> <span class=\"sh_symbol\">||</span> t <span class=\"sh_symbol\">{s};</span> <span class=\"sh_number\">{n}</span><span class=\"sh_symbol\">)' + '''</span>\n",
        "&nbsp;&nbsp;&nbsp;&nbsp;&nbsp;&nbsp;&nbsp;&nbsp;cout <span class=\"sh_symbol\">&lt;&lt;</span> <span class=\"sh_string\">\"ДА\"</span><span class=\"sh_symbol\">;</span>\n",
        "&nbsp;&nbsp;&nbsp;&nbsp;<span class=\"sh_keyword\">else</span>\n",
        "&nbsp;&nbsp;&nbsp;&nbsp;&nbsp;&nbsp;&nbsp;&nbsp;cout <span class=\"sh_symbol\">&lt;&lt;</span> <span class=\"sh_string\">\"НЕТ\"</span><span class=\"sh_symbol\">;</span>\n",
        "<span class=\"sh_keyword\">return</span> <span class=\"sh_number\">0</span><span class=\"sh_symbol\">;</span>\n",
        "<span class=\"sh_cbracket\">}</span></pre></div></td></tr></tbody></table><p>&nbsp;</p></center>'''\n",
        "    num = []\n",
        "    for i in range(9):\n",
        "        num.append((randint(-15, 15), randint(-15, 15)))\n",
        "    answer = 0\n",
        "    for i in range(9):\n",
        "        s, t = num[i]\n",
        "        if s == '&gt':\n",
        "            if s > n or t > n:\n",
        "                answer += 1\n",
        "        else:\n",
        "            if s < n or t < n:\n",
        "                answer += 1\n",
        "    num = [str(i) for i in num]\n",
        "    j = '; '.join(num)\n",
        "    t2 = f'Было проведено 9 запусков программы, при которых в качестве значений переменных s и t вводились следующие пары чисел:\\n\\n'\\\n",
        "         f'\\t\\t{j}.\\n\\n'\\\n",
        "         f'\\tСколько было запусков, при которых программа напечатала «ДА»?'\n",
        "    print(t1)\n",
        "    display(HTML(html))\n",
        "    print(t2)\n",
        "    return(answer)\n",
        "    \n",
        "generate_oge_task6()"
      ],
      "execution_count": null,
      "outputs": [
        {
          "output_type": "stream",
          "text": [
            "Ниже приведена программа, записанная на пяти языках программирования.\n",
            "\n"
          ],
          "name": "stdout"
        },
        {
          "output_type": "display_data",
          "data": {
            "text/html": [
              "<center><p></p><p></p><table border=\"\" width=\"55%\"><tbody><tr><th width=\"50%\"><b>Бейсик</b></th><th width=\"50%\"><b>Python</b></th></tr><tr><td><div class=\"source_code lang_python\"><pre class=\"sh_basic sh_sourceCode\"><span class=\"sh_basic_strange_words\">DIM</span> s<span class=\"sh_symbol\">,</span> t <span class=\"sh_basic_strange_words\">AS</span> <span class=\"sh_type\">INTEGER</span>\n",
              " <span class=\"sh_basic_strange_words\">INPUT</span> s\n",
              " <span class=\"sh_basic_strange_words\">INPUT</span> t\n",
              " <span class=\"sh_keyword\">IF</span> s <span class=\"sh_symbol\">&lt;</span> <span class=\"sh_number\">12</span> OR t <span class=\"sh_symbol\">&lt;</span> <span class=\"sh_number\">12</span><span class=\"sh_keyword\"> THEN</span>\n",
              "&nbsp;&nbsp;&nbsp;&nbsp;<span class=\"sh_basic_strange_words\">PRINT</span> ‘ДА’\n",
              " <span class=\"sh_basic_strange_words\">ELSE</span>\n",
              "&nbsp;&nbsp;&nbsp;&nbsp;<span class=\"sh_basic_strange_words\">PRINT</span> ‘НЕТ’\n",
              " <span class=\"sh_keyword\">ENDIF</span></pre></div></td><td><div class=\"source_code lang_python\" style=\"font-family:monospace\"><p>s = int(input())</p><p>t = int(input())</p><p>if s &lt; 12 or t &lt; 12:</p><p>&nbsp;&nbsp;&nbsp;&nbsp;print(\"ДА\")</p><p>else:</p><p>&nbsp;&nbsp;&nbsp;&nbsp;print(\"НЕТ\")</p><p> </p></div><p> </p></td></tr><tr><th><b>Паскаль</b></th><th><b>Алгоритмический язык</b></th></tr><tr><td><div class=\"source_code lang_pascal\"><pre class=\"sh_pascal sh_sourceCode\"><span class=\"sh_keyword\">var</span> s<span class=\"sh_symbol\">,</span> t<span class=\"sh_symbol\">:</span><span class=\"sh_type\">integer</span><span class=\"sh_symbol\">;</span>\n",
              "<span class=\"sh_keyword\">begin</span>\n",
              "&nbsp;&nbsp;&nbsp;&nbsp;<span class=\"sh_keyword\">readln</span><span class=\"sh_symbol\">(</span>s<span class=\"sh_symbol\">);</span>\n",
              "&nbsp;&nbsp;&nbsp;&nbsp;<span class=\"sh_keyword\">readln</span><span class=\"sh_symbol\">(</span>t<span class=\"sh_symbol\">);</span>\n",
              "&nbsp;&nbsp;&nbsp;&nbsp;<span class=\"sh_keyword\">if</span> <span class=\"sh_symbol\">(</span>s <span class=\"sh_symbol\">&lt;</span> <span class=\"sh_number\">12</span><span class=\"sh_symbol\">)</span> <span class=\"sh_keyword\">or</span> <span class=\"sh_symbol\">(</span>t <span class=\"sh_symbol\">&lt;</span> <span class=\"sh_number\">12</span><span class=\"sh_symbol\">)</span>\n",
              "&nbsp;&nbsp;&nbsp;&nbsp;&nbsp;&nbsp;&nbsp;&nbsp;<span class=\"sh_keyword\">then</span> <span class=\"sh_keyword\">writeln</span><span class=\"sh_symbol\">(</span><span class=\"sh_string_pasc\">'ДА'</span><span class=\"sh_symbol\">)</span>\n",
              "&nbsp;&nbsp;&nbsp;&nbsp;&nbsp;&nbsp;&nbsp;&nbsp;<span class=\"sh_keyword\">else</span> <span class=\"sh_keyword\">writeln</span><span class=\"sh_symbol\">(</span><span class=\"sh_string_pasc\">'НЕТ'</span><span class=\"sh_symbol\">)</span>\n",
              "<span class=\"sh_keyword\">end</span><span class=\"sh_symbol\">.</span></pre></div></td><td><div class=\"source_code lang_pascal\"><pre class=\"sh_alg sh_sourceCode\"><span class=\"sh_alg_keyword\">алг</span>\n",
              "<span class=\"sh_alg_keyword\">нач</span>\n",
              "<span class=\"sh_alg_keyword\">цел</span> s<span class=\"sh_symbol\">,</span> t\n",
              "<span class=\"sh_alg_keyword\">ввод</span> s\n",
              "<span class=\"sh_alg_keyword\">ввод</span> t\n",
              "<span class=\"sh_alg_keyword\">если</span> s <span class=\"sh_symbol\">&lt;</span> <span class=\"sh_number\">12</span> или t <span class=\"sh_symbol\">&lt;</span> <span class=\"sh_number\">12</span>\n",
              "&nbsp;&nbsp;&nbsp;&nbsp;<span class=\"sh_alg_keyword\">то</span> <span class=\"sh_alg_keyword\">вывод</span> \"ДА\"\n",
              "&nbsp;&nbsp;&nbsp;&nbsp;<span class=\"sh_alg_keyword\">иначе</span> <span class=\"sh_alg_keyword\">вывод</span> \"НЕТ\"\n",
              "<span class=\"sh_alg_keyword\">все</span>\n",
              "<span class=\"sh_alg_keyword\">кон</span></pre></div></td></tr><tr><th colspan=\"2\"><b>С++</b></th></tr><tr><td colspan=\"2\"><div class=\"source_code lang_pascal\"><pre class=\"sh_c sh_sourceCode\"><span class=\"sh_preproc\">#include</span> <span class=\"sh_string\">&lt;iostream&gt;</span>\n",
              "using <span class=\"sh_usertype\">namespace</span><span class=\"sh_normal\"> </span>std<span class=\"sh_symbol\">;</span>\n",
              "<span class=\"sh_type\">int</span> <span class=\"sh_function\">main</span><span class=\"sh_symbol\">()</span> <span class=\"sh_cbracket\">{</span>\n",
              "&nbsp;&nbsp;&nbsp;&nbsp;<span class=\"sh_type\">int</span> s<span class=\"sh_symbol\">,</span> t<span class=\"sh_symbol\">;</span>\n",
              "&nbsp;&nbsp;&nbsp;&nbsp;cin <span class=\"sh_symbol\">&gt;&gt;</span> s<span class=\"sh_symbol\">;</span>\n",
              "&nbsp;&nbsp;&nbsp;&nbsp;cin <span class=\"sh_symbol\">&gt;&gt;</span> t<span class=\"sh_symbol\">;</span>\n",
              "&nbsp;&nbsp;&nbsp;&nbsp;<span class=\"sh_keyword\">if</span> <span class=\"sh_symbol\">(</span>s <span class=\"sh_symbol\">&lt;</span> <span class=\"sh_number\">12</span> <span class=\"sh_symbol\">||</span> t <span class=\"sh_symbol\">&lt;</span> <span class=\"sh_number\">12</span><span class=\"sh_symbol\">)</span>\n",
              "&nbsp;&nbsp;&nbsp;&nbsp;&nbsp;&nbsp;&nbsp;&nbsp;cout <span class=\"sh_symbol\">&lt;&lt;</span> <span class=\"sh_string\">\"ДА\"</span><span class=\"sh_symbol\">;</span>\n",
              "&nbsp;&nbsp;&nbsp;&nbsp;<span class=\"sh_keyword\">else</span>\n",
              "&nbsp;&nbsp;&nbsp;&nbsp;&nbsp;&nbsp;&nbsp;&nbsp;cout <span class=\"sh_symbol\">&lt;&lt;</span> <span class=\"sh_string\">\"НЕТ\"</span><span class=\"sh_symbol\">;</span>\n",
              "<span class=\"sh_keyword\">return</span> <span class=\"sh_number\">0</span><span class=\"sh_symbol\">;</span>\n",
              "<span class=\"sh_cbracket\">}</span></pre></div></td></tr></tbody></table><p>&nbsp;</p></center>"
            ],
            "text/plain": [
              "<IPython.core.display.HTML object>"
            ]
          },
          "metadata": {
            "tags": []
          }
        },
        {
          "output_type": "stream",
          "text": [
            "Было проведено 9 запусков программы, при которых в качестве значений переменных s и t вводились следующие пары чисел:\n",
            "\n",
            "\t\t(-8, -9); (0, -15); (-3, 6); (-2, -8); (-8, 9); (-14, 10); (-12, 6); (-5, 6); (-3, -7).\n",
            "\n",
            "\tСколько было запусков, при которых программа напечатала «ДА»?\n"
          ],
          "name": "stdout"
        },
        {
          "output_type": "execute_result",
          "data": {
            "text/plain": [
              "9"
            ]
          },
          "metadata": {
            "tags": []
          },
          "execution_count": 2
        }
      ]
    },
    {
      "cell_type": "code",
      "metadata": {
        "id": "Cgfx8E0C5ksb"
      },
      "source": [
        "def generate_oge_task6() -> str:\n",
        "    pass  # удалите, когда начнёте писать код"
      ],
      "execution_count": null,
      "outputs": []
    },
    {
      "cell_type": "markdown",
      "metadata": {
        "id": "2UrmH5Ov8J0V"
      },
      "source": [
        "### ОГЭ по математике.\n",
        "\n",
        "Реализуйте генератор для одного из заданий ОГЭ по математике на ваш выбор. Функция должна работать так же, как и функции для ОГЭ по информатике.\n",
        "\n",
        "Посмотреть задания можно здесь: https://math-oge.sdamgia.ru/.\n",
        "\n",
        "Можете реализовать два, тогда получите баллы за каждое."
      ]
    },
    {
      "cell_type": "code",
      "metadata": {
        "id": "PSOWf3AH8mDT"
      },
      "source": [
        "def generate_oge_math_task_XX() -> (str, str):\n",
        "    pass"
      ],
      "execution_count": null,
      "outputs": []
    },
    {
      "cell_type": "markdown",
      "metadata": {
        "id": "A3Ja8oSl6rr4"
      },
      "source": [
        "### Секретное бонусное задание для тех, кто дочитал до этого места (20 баллов).\n",
        "\n",
        "Напишите маленький сайтик с помощью Flask, который должен работать следующим образом:\n",
        "Если вы заходите на страницу по адресу `адрес_вашего_сайта/5`, то сайт выдаёт страницу, на которой текст.\n",
        "Используйте функции, которые вы уже написали в этом листочке. Если функции для данного задания у вас нет, на странице должно быть написано \"Coming soon\".\n",
        "\n",
        "Всего в ОГЭ по информатике 15 заданий. Для неверных адресов сделайте страницу 404.\n",
        "\n",
        "Если что-то в условии задания непонятно -- пишите в личку :)\n",
        "\n",
        "Если вы сделали задание частично, а не полностью -- всё равно присылайте, получите как частичный балл (что при максимуме 20 тоже неплохо!)."
      ]
    }
  ]
}