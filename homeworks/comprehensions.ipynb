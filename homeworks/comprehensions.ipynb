{
  "nbformat": 4,
  "nbformat_minor": 0,
  "metadata": {
    "colab": {
      "name": "comprehensions.ipynb",
      "provenance": [],
      "collapsed_sections": []
    },
    "kernelspec": {
      "name": "python3",
      "display_name": "Python 3"
    }
  },
  "cells": [
    {
      "cell_type": "markdown",
      "source": [
        "`comprehension`"
      ],
      "metadata": {
        "id": "32cBx6ybqF_1"
      }
    },
    {
      "cell_type": "markdown",
      "metadata": {
        "id": "nm6JmKFY50_u"
      },
      "source": [
        "Это все задания, которые вам нужно сегодня сделать :)\n",
        "\n",
        "Каждое задание &mdash; написать функцию, чтобы работали тесты.\n",
        "\n",
        "Если сделали &mdash; присылайте в телеграме ссылку на колаб. В колабе нужно открыть доступ на редактирование `eliasnwr@gmail.com`.\n",
        "\n",
        "Все функции (кроме 6) должны использовать `comprehension`.\n",
        "\n",
        "Все функции, кроме 8, должны быть написаны в одну строку."
      ]
    },
    {
      "cell_type": "code",
      "metadata": {
        "id": "evGaBq67xa5m"
      },
      "source": [
        "# 1\n",
        "def test_get_every_second_element():\n",
        "    assert get_every_second_element([]) == []\n",
        "    assert get_every_second_element([1]) == []\n",
        "    assert get_every_second_element([1, 2]) == [2]\n",
        "    assert get_every_second_element([1, 2, 3, 4, 5]) == [2, 4]\n",
        "    data = [0, 1, 2, 3, 4, 5]\n",
        "    assert get_every_second_element(data=data) == [1, 3, 5]\n",
        "    assert data == [0, 1, 2, 3, 4, 5], 'Do not change the input'\n",
        "    print(\"OK\")\n",
        "test_get_every_second_element()"
      ],
      "execution_count": null,
      "outputs": []
    },
    {
      "cell_type": "code",
      "metadata": {
        "id": "o51mneKjyVK_"
      },
      "source": [
        "# 2\n",
        "def test_get_even_elements():\n",
        "    assert get_even_elements([]) == []\n",
        "    assert get_even_elements([1]) == []\n",
        "    assert get_even_elements([-4]) == [-4]\n",
        "    assert get_even_elements([1, 2, 3]) == [2]\n",
        "    assert get_even_elements([0, 2, 4]) == [0, 2, 4]\n",
        "    data = [1, 2, 3, 5, 4]\n",
        "    assert get_even_elements(data=data) == [2, 4]\n",
        "    assert data == [1, 2, 3, 5, 4], \"Do not change the input\"\n",
        "    print(\"OK\")\n",
        "test_get_even_elements()"
      ],
      "execution_count": null,
      "outputs": []
    },
    {
      "cell_type": "code",
      "metadata": {
        "id": "KFuTuZQ-y4aX"
      },
      "source": [
        "# 3\n",
        "def test_get_squares_from_0_to_n():\n",
        "    assert get_squares_from_0_to_n(0) == [0]\n",
        "    assert get_squares_from_0_to_n(1) == [0, 1]\n",
        "    assert get_squares_from_0_to_n(2) == [0, 1, 4]\n",
        "    assert get_squares_from_0_to_n(5) == [0, 1, 4, 9, 16, 25]\n",
        "    assert get_squares_from_0_to_n(10) == [0, 1, 4, 9, 16, 25, 36, 49, 64, 81, 100]\n",
        "    print(\"OK\")\n",
        "test_get_squares_from_0_to_n()"
      ],
      "execution_count": null,
      "outputs": []
    },
    {
      "cell_type": "code",
      "metadata": {
        "id": "tniVZGvezzuW"
      },
      "source": [
        "# 4\n",
        "def test_get_reversed_sequence():\n",
        "    assert get_reversed_sequence([]) == []\n",
        "    assert get_reversed_sequence([7]) == [7]\n",
        "    assert get_reversed_sequence([7, 8]) == [8, 7]\n",
        "    assert get_reversed_sequence([4, 6, 9, 10]) == [10, 9, 6, 4]\n",
        "    data = [5, 6, 7, 8]\n",
        "    assert get_reversed_sequence(data=data) == [8, 7, 6, 5]\n",
        "    assert data == [5, 6, 7, 8], \"Do not change the input\"\n",
        "    print(\"OK\")\n",
        "test_get_reversed_sequence()"
      ],
      "execution_count": null,
      "outputs": []
    },
    {
      "cell_type": "code",
      "metadata": {
        "id": "DTxzM80t1WhZ"
      },
      "source": [
        "# 5\n",
        "def test_get_lists_vector_sum():\n",
        "    assert get_lists_vector_sum([], []) == []\n",
        "    assert get_lists_vector_sum([1], [-2]) == [-1]\n",
        "    assert get_lists_vector_sum([1, -1], [-2, -3]) == [-1, -4]\n",
        "    assert get_lists_vector_sum([2, 2, 2, 2, 2, 2], [5, 6, 7, 8, 9, 10]) == [7, 8, 9, 10, 11, 12]\n",
        "    first = [1, 2, 3]\n",
        "    second = [4, 5, 6]\n",
        "    assert get_lists_vector_sum(first=first, second=second) == [5, 7, 9]\n",
        "    assert first == [1, 2, 3], 'Do not change the input'\n",
        "    assert second == [4, 5, 6], 'Do not change the input'\n",
        "    print(\"OK\")\n",
        "test_get_lists_vector_sum()"
      ],
      "execution_count": null,
      "outputs": []
    },
    {
      "cell_type": "code",
      "metadata": {
        "id": "VzxzoI8w5Y6z"
      },
      "source": [
        "# 6\n",
        "# comprehension не нужен!\n",
        "def test_is_vowel():\n",
        "    for char in \"aeiouy\":\n",
        "        assert is_vowel(char)\n",
        "    for char in \"qwrtpsdfghjklzxcvbnm,!:\":\n",
        "        assert not is_vowel(char)\n",
        "    print(\"OK\")\n",
        "test_is_vowel()"
      ],
      "execution_count": null,
      "outputs": []
    },
    {
      "cell_type": "code",
      "metadata": {
        "id": "q10pqZeq21d5"
      },
      "source": [
        "# 7\n",
        "def test_get_vowels():\n",
        "    assert get_vowels(\"\") == []\n",
        "    assert get_vowels(\"g\") == []\n",
        "    assert get_vowels(\"qwrtpsdfghjklzxcvbnm\") == []\n",
        "    assert get_vowels(\"qwrtpsdfghjklazxcvbnm\") == ['a']\n",
        "    assert get_vowels(\"kangaroo\") == ['a', 'a', 'o', 'o']\n",
        "    data = \"get vowels!!!1!!\"\n",
        "    assert get_vowels(data=data) == [\"e\", \"o\", \"e\"]\n",
        "    assert data == \"get vowels!!!1!!\", 'Do not change the input'\n",
        "    assert get_vowels(\"abcdefghijklmnopqrstuvwxyz\") == ['a', 'e', 'i', 'o', 'u', 'y']\n",
        "    print(\"OK\")\n",
        "test_get_vowels()"
      ],
      "execution_count": null,
      "outputs": []
    },
    {
      "cell_type": "code",
      "metadata": {
        "id": "AKHHCh0G36IZ"
      },
      "source": [
        "# 8\n",
        "# нужно написать не в 1, а в 3 строки\n",
        "import pytest\n",
        "\n",
        "def test_get_first_part_of_alphabet():\n",
        "    assert get_first_part_of_alphabet(0) == []\n",
        "    assert get_first_part_of_alphabet(1) == ['a']\n",
        "    assert get_first_part_of_alphabet(6) == list('abcdef')\n",
        "    assert get_first_part_of_alphabet(26) == list('abcdefghijklmnopqrstuvwxyz')\n",
        "    with pytest.raises(IndexError) as e:\n",
        "        get_first_part_of_alphabet(27)\n",
        "    assert str(e.value) == 'alphabet has only 26 letters'\n",
        "    print('OK')\n",
        "test_get_first_part_of_alphabet()"
      ],
      "execution_count": null,
      "outputs": []
    },
    {
      "cell_type": "code",
      "metadata": {
        "id": "0_j-BGh-7iNQ"
      },
      "source": [
        "# 9\n",
        "def test_get_small_letters():\n",
        "    assert get_small_letters('aBcDEfgH') == ['a', 'c', 'f', 'g']\n",
        "    print(\"OK\")\n",
        "test_get_small_letters()"
      ],
      "execution_count": null,
      "outputs": []
    },
    {
      "cell_type": "code",
      "metadata": {
        "id": "K-ydKMklLkJg"
      },
      "source": [
        "# 10\n",
        "def test_replace_all_nones_with_zeros():\n",
        "    assert replace_all_nones_with_zeros([]) == []\n",
        "    assert replace_all_nones_with_zeros([None]) == [0]\n",
        "    assert replace_all_nones_with_zeros([None, None]) == [0, 0]\n",
        "    assert replace_all_nones_with_zeros([1, 2, 3]) == [1, 2, 3]\n",
        "    assert replace_all_nones_with_zeros([1, 2, 0, 3]) == [1, 2, 0, 3]\n",
        "    assert replace_all_nones_with_zeros([None, '2', 0, 3]) == [0, '2', 0, 3]\n",
        "    print(\"OK\")\n",
        "test_replace_all_nones_with_zeros()"
      ],
      "execution_count": null,
      "outputs": []
    },
    {
      "cell_type": "code",
      "metadata": {
        "id": "saa_vWcXLmDb"
      },
      "source": [
        "# 11\n",
        "def test_drop_nones():\n",
        "    assert drop_nones([]) == []\n",
        "    assert drop_nones([None]) == []\n",
        "    assert drop_nones([None, None, None, None]) == []\n",
        "    assert drop_nones([0, 1, None, 2, 0, None, 3, 0, 4, None, 5]) == [0, 1, 2, 0, 3, 0, 4, 5]\n",
        "    assert drop_nones([0, [], {}, (), '', False]) == [0, [], {}, (), '', False]\n",
        "    print(\"OK\")\n",
        "test_drop_nones()"
      ],
      "execution_count": null,
      "outputs": []
    },
    {
      "cell_type": "code",
      "metadata": {
        "id": "wv1PysZWLo85"
      },
      "source": [
        "# 12\n",
        "def test_replace_values_nones_with_zeros():\n",
        "    assert replace_values_nones_with_zeros({}) == {}\n",
        "    assert replace_values_nones_with_zeros({\n",
        "        \"a\": None,\n",
        "        5: 0,\n",
        "        \"dog\": False,\n",
        "        \"cat\": '',\n",
        "        \"bat\": None,\n",
        "        6: [],\n",
        "        7: 3\n",
        "    }) == {\n",
        "        \"a\": 0,\n",
        "        5: 0,\n",
        "        \"dog\": False,\n",
        "        \"cat\": '',\n",
        "        \"bat\": 0,\n",
        "        6: [],\n",
        "        7: 3\n",
        "    }\n",
        "    print(\"OK\")\n",
        "test_replace_values_nones_with_zeros()"
      ],
      "execution_count": null,
      "outputs": []
    }
  ]
}