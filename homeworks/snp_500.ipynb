{
  "nbformat": 4,
  "nbformat_minor": 0,
  "metadata": {
    "colab": {
      "name": "snp_500.ipynb",
      "provenance": [],
      "collapsed_sections": []
    },
    "kernelspec": {
      "name": "python3",
      "display_name": "Python 3"
    }
  },
  "cells": [
    {
      "cell_type": "markdown",
      "source": [
        "`api` `pandas` `stocks` `yfinance` `threading` `csv` `s&p 500` `stock market index calculating`"
      ],
      "metadata": {
        "id": "iOywXOkgli-J"
      }
    },
    {
      "cell_type": "markdown",
      "metadata": {
        "id": "5LLrgNjnRazU"
      },
      "source": [
        "Ссылка на этот листок:\n",
        "\n",
        "https://colab.research.google.com/drive/1w9O6rSj36jsvgw-WIO9TJHMY4eRh9tEU?usp=sharing\n",
        "\n",
        "http://bit.ly/US10F_index"
      ]
    },
    {
      "cell_type": "markdown",
      "metadata": {
        "id": "IRrPmpszRWb8"
      },
      "source": [
        "Полезные ссылки:\n",
        "https://pypi.org/project/yfinance/\n",
        "\n",
        "https://stackoverflow.com/questions/58702437/python-yahoo-finance-error-market-cap-intdata-get-quote-yahoostrmarketcap\n",
        "\n",
        "https://quant.stackexchange.com/questions/1640/where-to-download-list-of-all-common-stocks-traded-on-nyse-nasdaq-and-amex\n",
        "\n",
        "ftp://ftp.nasdaqtrader.com/symboldirectory/"
      ]
    },
    {
      "cell_type": "code",
      "metadata": {
        "id": "9TCpeevjMQCc"
      },
      "source": [
        "!python -m pip install pandas_datareader"
      ],
      "execution_count": null,
      "outputs": []
    },
    {
      "cell_type": "markdown",
      "metadata": {
        "id": "k1Kn9vYPuC26"
      },
      "source": [
        "### Матчасть\n",
        "Тикер -- короткий уникальный идентификатор (1-6 символов) акции (и не только). Нужен, чтобы не писать полностью названия компании.\n",
        "\n",
        "Например:\n",
        "- тикер Microsoft -- MSFT\n",
        "- Apple -- AAPL\n",
        "- AT&T -- T\n",
        "- Северсталь -- CHMF (потому что владеет Череповецким (CHerepovets) металлургическим (Metal) комбинатом (Factory))\n",
        "- Газпром -- GAZP\n",
        "- Газпром Нефть -- SIBN (кто догадается, почему так?)\n",
        "\n",
        "**MC** -- _market cap(italization)_ -- рыночная капитализация компании.\n",
        "\n",
        "В самом простом случае считается как количество акций компании, умноженное на стоимость одной акции.\n",
        "(но эта информация уже будет вам доступна, считать ничего не нужно)\n",
        "\n",
        "**Фондовый индекс** (stock_market_index) -- если простыми словами, то множество каких-то ценных бумаг (в нашем случае акций), каждая из которых взята с каким-то весом (сумма весов всех взятых в индекс компаний -- разумеется, 1).\n",
        "\n",
        "В зависимости от принципа, положенного в основу выбора ценных бумаг для индекса, он может отражать ценовую динамику группы ценных бумаг, объединённых по какому-то признаку (к примеру высокая, средняя, малая капитализация акций) выбранного сектора рынка (к примеру, телекоммуникации), или широкого рынка акций в целом.\n",
        "\n",
        "Пример простого (и не очень осмысленного) индекса:\n",
        "```\n",
        "[\n",
        "    (\"Apple Inc.\", \"50.00%\"),\n",
        "    (\"Visa Inc.\", \"40.00%\"),\n",
        "    (\"Nike, Inc.\", \"10.00%\")\n",
        "]\n",
        "```\n",
        "Индекс может быть:\n",
        "- взвешенным по цене (Dow Jones, Nikkei 225) -- вес каждой компании пропорционален цене её акции. Странно, но вот так бывает.\n",
        "- взвешенным по рыночной капитализации (S&P 500, ММВБ) -- вес каждой компании пропорционален её рыночной капитализации. Такой индекс мы и будем составлять :)\n",
        "- равновзвешенным (S&P 500 Equal Weighted, ÖkoDAX) -- вес каждой компании одинаков. "
      ]
    },
    {
      "cell_type": "code",
      "metadata": {
        "id": "_H6zsiYv2Vsk"
      },
      "source": [
        "def get_tickers_list():\n",
        "    # в этой функции вам нужно как-то скачать список тикеров из файлов\n",
        "    # ftp://ftp.nasdaqtrader.com/symboldirectory/otherlisted.txt\n",
        "    # ftp://ftp.nasdaqtrader.com/symboldirectory/nasdaqlisted.txt\n",
        "    # вам может пригодиться urllib.request.urlopen(), .decode(\"utf-8\")\n",
        "    \n",
        "\n",
        "def download_companies_data(tickers_list):\n",
        "    \"\"\"\n",
        "    tickers_list -- список тикеров. Например, [\"MSFT\", \"AAPL\", \"TSM\", ...]\n",
        "    Функция должна с помощью библиотеки yfinance добыть данные о всех компаниях по их тикерам.\n",
        "    Данные, которые вам нужны -- это те данные, которые понадобятся в build_US10F_index(), то есть:\n",
        "    - короткое имя компании (например, \"Apple Inc.\")\n",
        "    - MC компании (например, 13238984)\n",
        "    - страна компании (например, \"United States\")\n",
        "\n",
        "    Помните, что тикеров у вас в сумме где-то 9000!\n",
        "    И загружать информацию по всем занимает несколько часов!!!\n",
        "    Поэтому есть совет: аккуратно сохранять в файл то, что уже загружено.\n",
        "    А то обидно будет всё начинать с нуля!\n",
        "    \"\"\""
      ],
      "execution_count": null,
      "outputs": []
    },
    {
      "cell_type": "markdown",
      "metadata": {
        "id": "Qz-kT-HC44oU"
      },
      "source": [
        "### Полезные советы\n",
        "\n",
        "Допустим, вы хотите скачать всю информацию не за один раз/у вас прервётся интернет/произойдёт что-то ещё.\n",
        "В этом случае, скорее всего, вы будете запускать какую-то функцию несколько раз.\n",
        "\n",
        "Есть РИСК, что вы пишете в файл, перезапишете его, и потеряете всю уже скачанную информацию.\n",
        "\n",
        "Как избежать этого риска?\n",
        "1. открывать файл в режиме \"a\" -- чтобы файл не перезаписывать, а дописывать в конец.\n",
        "```\n",
        "with open(file_name, \"a\"... ) as ...:\n",
        "                 не \"w\"! ^\n",
        "```\n",
        "2. перед началом работы кода функции делать бекап файла, который уже существует.\n",
        "```\n",
        "import shutil\n",
        "from datetime import datetime\n",
        "def f(…, out_file_name, …):\n",
        "        shutil.copy(out_file_name,\n",
        "                    f\"{out_file_name}_{datetime.now().strftime('%Y%m%d_%H%M%S')}\")\n",
        "        # ваш код\n",
        "```\n",
        "3. придумать что-то своё.\n",
        "\n",
        "Может случиться так, что по какому-то тикеру информации нет, и вам кинется ошибка. В этом случае НЕ ХОТЕЛОСЬ БЫ\n",
        "- терять уже скачанную информацию (хорошо бы сохранить её в файл)\n",
        "- завершать программу (лучше вывести информацию, что с этим тикером всё грустно, и перейти к следующему).\n",
        "\n",
        "Давайте напишем пример такой функции:\n"
      ]
    },
    {
      "cell_type": "code",
      "metadata": {
        "id": "wzbpwuh26zUq"
      },
      "source": [
        "# Пусть функция save_some_data() занимается сохранением данных в файл\n",
        "\n",
        "def f(tickers_list, *, cache_file_name=None, ...):\n",
        "    tickers_info = {}\n",
        "    if cache_file_name:\n",
        "        # достаём уже скачанные тикеры и отправляем их в tickers_info\n",
        "    for ticker in tickers_list:\n",
        "        # можно добавить принудительное сохранение после каждых N тикеров\n",
        "        if ticker in tickers_info:\n",
        "            continue  # инфо по этому тикеру уже была скачАна\n",
        "        try:\n",
        "            print(f\"Processing {ticker} ticker\")\n",
        "            # какой-то код, заполняющий tickers_info\n",
        "        except KeyboardInterrupt as exception:\n",
        "            # мы можем хотеть завершить выполнение функции вручную (Ctrl+C в Linux/Mac, остановить блок в колабе)\n",
        "            print(\"Processing aborted!\")\n",
        "            # сохраняем то, что успели скачать\n",
        "            save_some_data(tickers_info)\n",
        "            # и после этого уже завершаем выполнение программы, кидая ошибку\n",
        "            raise exception\n",
        "        except BaseException as exception:\n",
        "            # ловим все остальные ошибки\n",
        "            print(f\"{ticker}: {type(exception)}\")\n",
        "            print(str(exception))\n",
        "            # сохраняем в tickers_info информацию о тикере (что мы ничего не получили)\n",
        "            # продолжаем работу!\n",
        "            continue\n",
        "    # Пишем, что закончили, сохраняем данные.\n",
        "    print(\"Processing finished\")\n",
        "    save_some_data(tickers_info)\n"
      ],
      "execution_count": null,
      "outputs": []
    },
    {
      "cell_type": "code",
      "metadata": {
        "id": "eoaSy2HyPnNH"
      },
      "source": [
        "def build_US10F_index(tickers_data, *,\n",
        "                      num_companies: int,\n",
        "                      min_market_cap: int = 0,\n",
        "                      max_weight: float = 1.00):\n",
        "    \"\"\"\n",
        "    tickers_data -- список информации об акциях, из которых мы собираем индекс.\n",
        "    Выглядит он следующим образом:\n",
        "    [\n",
        "        {\n",
        "            \"ticker\": \"AAPL\",\n",
        "            \"short_name: \"Apple Inc.\",\n",
        "            \"market_cap\": 2269000000000,\n",
        "            \"country\": \"United States\"\n",
        "        },\n",
        "        {\n",
        "            \"ticker\": \"XOM\",\n",
        "            ...\n",
        "        }\n",
        "    ]\n",
        "    num_companies -- количество компаний, которое должно быть в индексе.\n",
        "    min_market_cap -- минимальная рыночная капитализация, при которой компания может войти в индекс.\n",
        "    max_weight -- число из (0; 1] -- максимальный вес, с которым компания может войти в индекс.\n",
        "    \n",
        "    Функция должна\n",
        "    - выбрать из tickers_data акции американских компаний;\n",
        "    !!! СОВЕТ! Если вы используете pandas_datareader, подумайте хорошо,\n",
        "    как отличить американские компании от неамериканских.\n",
        "    - выбрать из них num_companies компаний с наибольшей MC;\n",
        "    - вернуть индекс: упорядоченный по убыванию MC список пар (short_name компании, её вес),\n",
        "    где вес компании равен отношению MC компании к суммарной MC всех компаний, входящих в индекс.\n",
        "    Если вес компании больше max_weight, она должна быть включена с весом max_weight.\n",
        "    В этом случае оставшийся вес распределяется на все оставшиеся компании.\n",
        "    Вес -- не число, а строка -- процент, округлённый до 2 знаков после запятой. Например, \"4.25%\".\n",
        "    Имя -- нужно взять из поля \"short_name\".\n",
        "    Размер списка -- разумеется, num_companies.\n",
        "\n",
        "    Например:\n",
        "    [\n",
        "        [\"Apple Inc.\", \"6.14%\"],\n",
        "        [\"Microsoft Corporation\", \"4.88%\"],\n",
        "        ...\n",
        "    ] (500 компаний)\n",
        "    [\n",
        "        [\"Apple Inc.\", \"9.12%\"],\n",
        "        [\"Microsoft Corporation\", \"7.24%\"],\n",
        "        ...\n",
        "    ] (100 компаний)\n",
        "    \"\"\"\n",
        "    if num_companies is None:\n",
        "        raise TypeError(\"Specify number of companies in index\")\n",
        "    # Ваш код"
      ],
      "execution_count": null,
      "outputs": []
    },
    {
      "cell_type": "code",
      "metadata": {
        "id": "lyOFaBU6X176"
      },
      "source": [
        "!python -m pip install yfinance  # медленная библиотека\n",
        "!python -m pip install pandas_datareader  # быстрая библиотека"
      ],
      "execution_count": null,
      "outputs": []
    },
    {
      "cell_type": "code",
      "metadata": {
        "id": "Ti6y-EpvYAzW"
      },
      "source": [
        "import pandas_datareader\n",
        "import yfinance\n",
        "tickers = [\"AAPL\", \"MSFT\", \"TSLA\"]"
      ],
      "execution_count": null,
      "outputs": []
    },
    {
      "cell_type": "code",
      "metadata": {
        "id": "aAq4EBLaYIJB"
      },
      "source": [
        "%%timeit\n",
        "# пример, как получить данные через yfinance (долго)\n",
        "for ticker in tickers:\n",
        "    info = yfinance.Ticker(ticker).info\n",
        "    # print(info)\n",
        "print(\"OK\")"
      ],
      "execution_count": null,
      "outputs": []
    },
    {
      "cell_type": "code",
      "metadata": {
        "id": "4mrSSMLIYnTZ"
      },
      "source": [
        "%%timeit\n",
        "# пример, как получить данные через pandas_datareader (гораздо быстрее)\n",
        "for ticker in tickers:\n",
        "    info = pandas_datareader.get_quote_yahoo(ticker)\n",
        "    print(dict(info))\n",
        "    # print(info)\n",
        "print(\"OK\")"
      ],
      "execution_count": null,
      "outputs": []
    }
  ]
}