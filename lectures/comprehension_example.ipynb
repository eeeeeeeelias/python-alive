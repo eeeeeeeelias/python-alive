{
  "nbformat": 4,
  "nbformat_minor": 0,
  "metadata": {
    "celltoolbar": "Slideshow",
    "kernelspec": {
      "display_name": "Python 3",
      "language": "python",
      "name": "python3"
    },
    "language_info": {
      "codemirror_mode": {
        "name": "ipython",
        "version": 3
      },
      "file_extension": ".py",
      "mimetype": "text/x-python",
      "name": "python",
      "nbconvert_exporter": "python",
      "pygments_lexer": "ipython3",
      "version": "3.8.5"
    },
    "livereveal": {
      "theme": "serif",
      "transition": "zoom"
    },
    "colab": {
      "name": "comprehension_example.ipynb",
      "provenance": [],
      "collapsed_sections": []
    }
  },
  "cells": [
    {
      "cell_type": "markdown",
      "source": [
        "`comprehension` `list comprehension` `dict comprehension` `set comprehension`"
      ],
      "metadata": {
        "id": "_gnNgA_Toabr"
      }
    },
    {
      "cell_type": "markdown",
      "metadata": {
        "id": "obxsr5rDCk0D"
      },
      "source": [
        "### List comprehension"
      ]
    },
    {
      "cell_type": "code",
      "metadata": {
        "id": "TTWqLuTgCk0D",
        "outputId": "967eea14-9f01-4e4f-a6b9-98a84e497a1d"
      },
      "source": [
        "lst = []\n",
        "for i in range(5):\n",
        "    lst.append(i**2)\n",
        "lst"
      ],
      "execution_count": null,
      "outputs": [
        {
          "output_type": "execute_result",
          "data": {
            "text/plain": [
              "[0, 1, 4, 9, 16]"
            ]
          },
          "metadata": {
            "tags": []
          },
          "execution_count": 58
        }
      ]
    },
    {
      "cell_type": "code",
      "metadata": {
        "id": "JqqvENXICk0D",
        "outputId": "c95af0ce-7df8-46a7-cf9d-7b5862bcac94"
      },
      "source": [
        "lst = [i ** 2 for i in range(5)]\n",
        "lst"
      ],
      "execution_count": null,
      "outputs": [
        {
          "output_type": "execute_result",
          "data": {
            "text/plain": [
              "[0, 1, 4, 9, 16]"
            ]
          },
          "metadata": {
            "tags": []
          },
          "execution_count": 59
        }
      ]
    },
    {
      "cell_type": "markdown",
      "metadata": {
        "id": "mTCmN_pqCk0D"
      },
      "source": [
        "### Dict comprehension"
      ]
    },
    {
      "cell_type": "code",
      "metadata": {
        "id": "KEDrbvKDCk0D",
        "outputId": "a34920f8-074e-4755-adc8-a3a1d0eedbde"
      },
      "source": [
        "dct = {}\n",
        "for i in range(5):\n",
        "    dct[i] = i**2\n",
        "dct"
      ],
      "execution_count": null,
      "outputs": [
        {
          "output_type": "execute_result",
          "data": {
            "text/plain": [
              "{0: 0, 1: 1, 2: 4, 3: 9, 4: 16}"
            ]
          },
          "metadata": {
            "tags": []
          },
          "execution_count": 60
        }
      ]
    },
    {
      "cell_type": "code",
      "metadata": {
        "id": "wLjyds8LCk0D",
        "outputId": "0d448d1b-4195-4f7a-afa6-d9be39806efb"
      },
      "source": [
        "dct = {i : i**2 for i in range(5)}\n",
        "dct"
      ],
      "execution_count": null,
      "outputs": [
        {
          "output_type": "execute_result",
          "data": {
            "text/plain": [
              "{0: 0, 1: 1, 2: 4, 3: 9, 4: 16}"
            ]
          },
          "metadata": {
            "tags": []
          },
          "execution_count": 61
        }
      ]
    },
    {
      "cell_type": "markdown",
      "metadata": {
        "id": "CYXYm_7cCk0D"
      },
      "source": [
        "### Set comprehension"
      ]
    },
    {
      "cell_type": "code",
      "metadata": {
        "id": "rbJ2ogqFCk0D",
        "outputId": "43df1972-c812-424d-b930-7dc93a9e1007"
      },
      "source": [
        "st = set()\n",
        "\n",
        "for i in range(10):\n",
        "    if i % 3 == 0:\n",
        "        st.add(i)\n",
        "\n",
        "st"
      ],
      "execution_count": null,
      "outputs": [
        {
          "output_type": "execute_result",
          "data": {
            "text/plain": [
              "{0, 3, 6, 9}"
            ]
          },
          "metadata": {
            "tags": []
          },
          "execution_count": 62
        }
      ]
    },
    {
      "cell_type": "code",
      "metadata": {
        "id": "kqe-JVnMCk0D",
        "outputId": "a3eac94c-0a8b-44d5-84e9-fb61cd23936e"
      },
      "source": [
        "st = {i for i in range(10)}\n",
        "st"
      ],
      "execution_count": null,
      "outputs": [
        {
          "output_type": "execute_result",
          "data": {
            "text/plain": [
              "{0, 1, 2, 3, 4, 5, 6, 7, 8, 9}"
            ]
          },
          "metadata": {
            "tags": []
          },
          "execution_count": 63
        }
      ]
    },
    {
      "cell_type": "markdown",
      "metadata": {
        "id": "gMtELbLbCk0D"
      },
      "source": [
        "### Comprehension with condition"
      ]
    },
    {
      "cell_type": "code",
      "metadata": {
        "id": "QTuiZbhUCk0D",
        "outputId": "e054daf6-460b-4746-a761-528f7de8dd2d"
      },
      "source": [
        "lst = [i ** 2 for i in range(5)]\n",
        "lst"
      ],
      "execution_count": null,
      "outputs": [
        {
          "output_type": "execute_result",
          "data": {
            "text/plain": [
              "[0, 1, 4, 9, 16]"
            ]
          },
          "metadata": {
            "tags": []
          },
          "execution_count": 64
        }
      ]
    },
    {
      "cell_type": "code",
      "metadata": {
        "id": "0qS6J4iVCk0E",
        "outputId": "46dfac11-0293-446d-dfc5-6937fe13cb9f"
      },
      "source": [
        "lst = [i ** 2 for i in range(5) if i > 2]\n",
        "lst"
      ],
      "execution_count": null,
      "outputs": [
        {
          "output_type": "execute_result",
          "data": {
            "text/plain": [
              "[9, 16]"
            ]
          },
          "metadata": {
            "tags": []
          },
          "execution_count": 65
        }
      ]
    },
    {
      "cell_type": "code",
      "metadata": {
        "id": "yel_cPgdCk0E",
        "outputId": "5813c40d-d2c6-416a-f7dd-e873b5452137"
      },
      "source": [
        "lst = [i ** 2 if i > 2 else 0 for i in range(5)]\n",
        "lst"
      ],
      "execution_count": null,
      "outputs": [
        {
          "output_type": "execute_result",
          "data": {
            "text/plain": [
              "[0, 0, 0, 9, 16]"
            ]
          },
          "metadata": {
            "tags": []
          },
          "execution_count": 66
        }
      ]
    }
  ]
}