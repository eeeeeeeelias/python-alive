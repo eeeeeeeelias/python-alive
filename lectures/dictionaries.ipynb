{
  "nbformat": 4,
  "nbformat_minor": 0,
  "metadata": {
    "colab": {
      "name": "dictionaries.ipynb",
      "provenance": [],
      "collapsed_sections": []
    },
    "kernelspec": {
      "name": "python3",
      "display_name": "Python 3"
    },
    "language_info": {
      "name": "python"
    }
  },
  "cells": [
    {
      "cell_type": "code",
      "source": [
        "`dict` `dict.update` `dict.pop` `zip`"
      ],
      "metadata": {
        "id": "XW5vONJ-k08Y"
      },
      "execution_count": null,
      "outputs": []
    },
    {
      "cell_type": "code",
      "metadata": {
        "id": "6DnTAflUn1rf"
      },
      "source": [
        "Словарь: пары (ключ: значение)\n",
        "{\n",
        "    1: 1,\n",
        "    2: 4,\n",
        "   -2: 4\n",
        "}\n",
        "- каждому ключу сопоставляется значение\n",
        "- ассоциативный массив\n",
        "\n",
        "- ключами могут являться строки, числа, кортежи,\n",
        "  но не списки и не множества\n",
        "- значения -- что угдоно\n",
        "- в среднем быстро можем получить значение по ключу\n",
        "- если пройтись циклом, какой будет порядок?"
      ],
      "execution_count": null,
      "outputs": []
    },
    {
      "cell_type": "code",
      "metadata": {
        "colab": {
          "base_uri": "https://localhost:8080/"
        },
        "id": "gFgZr2WIqD1p",
        "outputId": "08c25850-45dd-4a39-9938-2de08bc7dd4b"
      },
      "source": [
        "x = {\n",
        "    0: 5,\n",
        "    True: 6\n",
        "}\n",
        "print(x)"
      ],
      "execution_count": null,
      "outputs": [
        {
          "output_type": "stream",
          "text": [
            "{0: 5, True: 6}\n"
          ],
          "name": "stdout"
        }
      ]
    },
    {
      "cell_type": "code",
      "metadata": {
        "id": "7Iw_yAkk2ygP"
      },
      "source": [
        "class Patient:\n",
        "    def __init__(self, ...):\n",
        "        self.name = ...\n",
        "        self.height = ...\n",
        "\n",
        "patient = {\n",
        "    'name': ...,\n",
        "    'height': ...,\n",
        "    'weight': ...,\n",
        "    'sex': ...,\n",
        "    'birth_date': ...,\n",
        "    # 'doctors': [...],\n",
        "}\n",
        "\n",
        "patients = {\n",
        "    '...': Patient(...),\n",
        "    '...': patient2,\n",
        "}"
      ],
      "execution_count": null,
      "outputs": []
    },
    {
      "cell_type": "code",
      "metadata": {
        "id": "PawGk9HA4aYl"
      },
      "source": [
        "# Как создать словарь\n",
        "x = dict()\n",
        "x = {}\n",
        "x = {\n",
        "    2: \"two\",\n",
        "    \"three\": 3,\n",
        "    (4, 5): [\"four\", \"five\"]\n",
        "}\n",
        "keys = [\"one\", \"two\", \"three\"]\n",
        "values = [1, 2, 3]\n",
        "z = dict(zip(keys, values))"
      ],
      "execution_count": null,
      "outputs": []
    },
    {
      "cell_type": "code",
      "metadata": {
        "colab": {
          "base_uri": "https://localhost:8080/"
        },
        "id": "CnqO81jsPL1-",
        "outputId": "f45cb474-f948-48e6-bff2-380f582681af"
      },
      "source": [
        "# Создание словаря\n",
        "x = [1, 2, 3]\n",
        "y = [\"one\", \"two\", \"three\"]\n",
        "\n",
        "z = {}\n",
        "# понятный и работающий\n",
        "# for i in range(len(x)):\n",
        "#     z[x[i]] = y[i]\n",
        "\n",
        "# странный, но работающий\n",
        "# for i, item in enumerate(y):\n",
        "#     z[x[i]] = item\n",
        "\n",
        "# понятный, простой, но надо знать функцию\n",
        "# for key, value in zip(x, y):\n",
        "#     z[key] = value\n",
        "\n",
        "# самый короткий\n",
        "# z = dict(zip(x, y))\n",
        "\n",
        "# подходит для коротких словарей\n",
        "# z = dict([[1, \"one\"], [2, \"two\"], [3, \"three\"]])\n",
        "\n",
        "# классика жизни\n",
        "# z = {1: \"one\", 2: \"two\", 3: \"three\"}\n",
        "\n",
        "print(z)"
      ],
      "execution_count": null,
      "outputs": [
        {
          "output_type": "stream",
          "text": [
            "{1: 'one', 2: 'two', 3: 'three'}\n"
          ],
          "name": "stdout"
        }
      ]
    },
    {
      "cell_type": "code",
      "metadata": {
        "colab": {
          "base_uri": "https://localhost:8080/"
        },
        "id": "Iu9YMYAfU__-",
        "outputId": "9212fe4c-05a1-497e-e98a-eeb77bf674ac"
      },
      "source": [
        "# Получение значения по ключу\n",
        "z = {1: \"one\", 2: \"two\", 3: \"three\"}\n",
        "\n",
        "# Ошибка KeyError при отсутствии ключа\n",
        "# value = z[4]\n",
        "\n",
        "# Возвращает None при отсутствии ключа\n",
        "# value = z.get(4)\n",
        "# if value is None:\n",
        "#     # do something\n",
        "print(value)"
      ],
      "execution_count": null,
      "outputs": [
        {
          "output_type": "stream",
          "text": [
            "None\n"
          ],
          "name": "stdout"
        }
      ]
    },
    {
      "cell_type": "code",
      "metadata": {
        "id": "DIpU3TIAWYtV"
      },
      "source": [
        "# Добавление значения\n",
        "z = {1: \"one\", 2: \"two\", 3: \"three\"}\n",
        "\n",
        "# Простой и работающий способ\n",
        "# z[5] = \"five\"\n",
        "\n",
        "# Добавление содержимого словаря в другой словарь\n",
        "# z.update({3: \"trois\", 5: \"five\", 6: \"six\"})\n",
        "print(z)"
      ],
      "execution_count": null,
      "outputs": []
    },
    {
      "cell_type": "code",
      "metadata": {
        "colab": {
          "base_uri": "https://localhost:8080/",
          "height": 217
        },
        "id": "BTYnguYhZqCS",
        "outputId": "8cc85db7-d12c-4f30-e526-a4a880335ed6"
      },
      "source": [
        "z = {1: \"one\", 2: \"two\", 3: \"three\"}\n",
        "x = z.pop(4)\n",
        "print(z)\n",
        "# print(x)"
      ],
      "execution_count": null,
      "outputs": [
        {
          "output_type": "error",
          "ename": "KeyError",
          "evalue": "ignored",
          "traceback": [
            "\u001b[0;31m---------------------------------------------------------------------------\u001b[0m",
            "\u001b[0;31mKeyError\u001b[0m                                  Traceback (most recent call last)",
            "\u001b[0;32m<ipython-input-40-71837f59b8c1>\u001b[0m in \u001b[0;36m<module>\u001b[0;34m()\u001b[0m\n\u001b[1;32m      1\u001b[0m \u001b[0mz\u001b[0m \u001b[0;34m=\u001b[0m \u001b[0;34m{\u001b[0m\u001b[0;36m1\u001b[0m\u001b[0;34m:\u001b[0m \u001b[0;34m\"one\"\u001b[0m\u001b[0;34m,\u001b[0m \u001b[0;36m2\u001b[0m\u001b[0;34m:\u001b[0m \u001b[0;34m\"two\"\u001b[0m\u001b[0;34m,\u001b[0m \u001b[0;36m3\u001b[0m\u001b[0;34m:\u001b[0m \u001b[0;34m\"three\"\u001b[0m\u001b[0;34m}\u001b[0m\u001b[0;34m\u001b[0m\u001b[0;34m\u001b[0m\u001b[0m\n\u001b[0;32m----> 2\u001b[0;31m \u001b[0mx\u001b[0m \u001b[0;34m=\u001b[0m \u001b[0mz\u001b[0m\u001b[0;34m.\u001b[0m\u001b[0mpop\u001b[0m\u001b[0;34m(\u001b[0m\u001b[0;36m4\u001b[0m\u001b[0;34m)\u001b[0m\u001b[0;34m\u001b[0m\u001b[0;34m\u001b[0m\u001b[0m\n\u001b[0m\u001b[1;32m      3\u001b[0m \u001b[0mprint\u001b[0m\u001b[0;34m(\u001b[0m\u001b[0mz\u001b[0m\u001b[0;34m)\u001b[0m\u001b[0;34m\u001b[0m\u001b[0;34m\u001b[0m\u001b[0m\n\u001b[1;32m      4\u001b[0m \u001b[0;31m# print(x)\u001b[0m\u001b[0;34m\u001b[0m\u001b[0;34m\u001b[0m\u001b[0;34m\u001b[0m\u001b[0m\n",
            "\u001b[0;31mKeyError\u001b[0m: 4"
          ]
        }
      ]
    },
    {
      "cell_type": "code",
      "metadata": {
        "colab": {
          "base_uri": "https://localhost:8080/"
        },
        "id": "EaU865mnRIcT",
        "outputId": "570b226b-c240-441a-8ffe-5a93964b4019"
      },
      "source": [
        "x = [1, 2, 3]\n",
        "y = [\"one\", \"two\", \"three\"]\n",
        "for first_item, second_item in zip(x, y):\n",
        "    print(first_item)\n",
        "    print(second_item)"
      ],
      "execution_count": null,
      "outputs": [
        {
          "output_type": "stream",
          "text": [
            "1\n",
            "one\n",
            "2\n",
            "two\n",
            "3\n",
            "three\n"
          ],
          "name": "stdout"
        }
      ]
    },
    {
      "cell_type": "code",
      "metadata": {
        "colab": {
          "base_uri": "https://localhost:8080/"
        },
        "id": "iHiSH49rSwQF",
        "outputId": "5a8eaa16-7cc8-4bdb-8f38-21fa4f2a2396"
      },
      "source": [
        "# Trailing comma\n",
        "print([1, 2, 3, 4,])\n",
        "print([1, 2, 3, 4])\n",
        "print({1, 2, 3,})\n",
        "print({1: 2, })"
      ],
      "execution_count": null,
      "outputs": [
        {
          "output_type": "stream",
          "text": [
            "[1, 2, 3, 4]\n",
            "[1, 2, 3, 4]\n",
            "{1, 2, 3}\n",
            "{1: 2}\n"
          ],
          "name": "stdout"
        }
      ]
    }
  ]
}