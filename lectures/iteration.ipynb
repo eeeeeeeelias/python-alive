{
  "nbformat": 4,
  "nbformat_minor": 0,
  "metadata": {
    "colab": {
      "name": "iteration.ipynb",
      "provenance": [],
      "collapsed_sections": []
    },
    "kernelspec": {
      "display_name": "Python 3",
      "name": "python3"
    },
    "language_info": {
      "name": "python"
    }
  },
  "cells": [
    {
      "cell_type": "markdown",
      "source": [
        "`iter` `next` `iterable` `dir` `StopIteration`"
      ],
      "metadata": {
        "id": "PkLgLgYXlNAa"
      }
    },
    {
      "cell_type": "code",
      "metadata": {
        "colab": {
          "base_uri": "https://localhost:8080/"
        },
        "id": "YYKi-FiWPXqG",
        "outputId": "4855e16e-99e6-4c03-9314-5a7f8e85ed9a"
      },
      "source": [
        "# str, list, dict, file -- Iterable\n",
        " \n",
        "from typing import Any\n",
        " \n",
        "class X:\n",
        "    pass\n",
        " \n",
        "def is_iterable(x: Any) -> bool:\n",
        "    try:\n",
        "        for item in x:\n",
        "            break\n",
        "    except TypeError:\n",
        "        return False\n",
        "    return True\n",
        " \n",
        "# with open(\"file.txt\", \"r\") as file_desc:\n",
        "    # print(is_iterable(file_desc))\n",
        "    # for line in file_desc:\n",
        "    #     pass\n",
        "    # print(1, file=file_desc)\n",
        "    # file_desc.write(1)"
      ],
      "execution_count": null,
      "outputs": [
        {
          "output_type": "stream",
          "text": [
            "True\n"
          ],
          "name": "stdout"
        }
      ]
    },
    {
      "cell_type": "code",
      "metadata": {
        "colab": {
          "base_uri": "https://localhost:8080/"
        },
        "id": "Uy0AleO-WTOW",
        "outputId": "40dccbea-99bc-44ca-897f-b084d8cd17d4"
      },
      "source": [
        "set(dir([])) & set(dir(set())) & set(dir(\"\")) & set(dir({})) - set(dir(object()))"
      ],
      "execution_count": null,
      "outputs": [
        {
          "output_type": "execute_result",
          "data": {
            "text/plain": [
              "{'__contains__', '__iter__', '__len__'}"
            ]
          },
          "metadata": {
            "tags": []
          },
          "execution_count": 32
        }
      ]
    },
    {
      "cell_type": "code",
      "metadata": {
        "id": "Q_Oo6HekYbGI"
      },
      "source": [
        "x = [1, 2, 3]\n",
        "x_iter = iter(x)\n",
        "# set(dir(x_iter)) - set(dir(object()))\n",
        "print(next(x_iter))\n",
        "print(next(x_iter))\n",
        "print(next(x_iter))\n",
        "print(next(x_iter))\n",
        "\n",
        "# for item in x:\n",
        "#     ...\n",
        "\n",
        "x_iter = iter(x)\n",
        "while True:\n",
        "    try:\n",
        "        item = next(x_iter)\n",
        "        ...\n",
        "    except StopIteration:\n",
        "        break"
      ],
      "execution_count": null,
      "outputs": []
    },
    {
      "cell_type": "code",
      "metadata": {
        "colab": {
          "base_uri": "https://localhost:8080/"
        },
        "id": "HomJ3JXSaVng",
        "outputId": "b04df394-75a8-4d38-f84f-c3f99b4a828e"
      },
      "source": [
        "from collections import UserList\n",
        "\n",
        "class InfiniteListIterator:\n",
        "    def __init__(self, some_list):\n",
        "        self.index = 0\n",
        "        self.list_ = some_list\n",
        "\n",
        "    def __iter__(self):\n",
        "        return self\n",
        "\n",
        "    def __next__(self):\n",
        "        return_value = self.list_[self.index]\n",
        "        self.index += 1\n",
        "        if self.index == len(self.list_):\n",
        "            self.index = 0\n",
        "        return return_value\n",
        "\n",
        "class InfiniteList(UserList):\n",
        "    \"\"\"\n",
        "    Ведёт себя как list, однако итерация по списку происходит бесконечно.\n",
        "    \"\"\"\n",
        "    def __init__(self, some_list):\n",
        "        self.data = some_list\n",
        "\n",
        "    def __iter__(self):\n",
        "        return InfiniteListIterator(self.data)\n",
        "\n",
        "x = InfiniteList([1, 2, 3, 4])\n",
        "x.append(5)\n",
        "print(6 in x)\n",
        "print(5 in x)\n",
        "result = []\n",
        "i = 0\n",
        "for item in x:\n",
        "    # print(i)\n",
        "    i += 1\n",
        "    result.append(item)\n",
        "    if i == 12:\n",
        "        break\n",
        "\n",
        "print(result)\n",
        "# assert result == [1, 2, 3, 4, 1, 2, 3, 4, 1, 2]"
      ],
      "execution_count": null,
      "outputs": [
        {
          "output_type": "stream",
          "text": [
            "False\n",
            "True\n",
            "[1, 2, 3, 4, 5, 1, 2, 3, 4, 5, 1, 2]\n"
          ],
          "name": "stdout"
        }
      ]
    },
    {
      "cell_type": "code",
      "metadata": {
        "colab": {
          "base_uri": "https://localhost:8080/"
        },
        "id": "SjHphY9R64Yp",
        "outputId": "a4927cfb-34bf-4d25-f47b-75effec1188f"
      },
      "source": [
        "# ещё один пример итерабельного объекта,\n",
        "# чтобы разобраться со StopIteration и завершением итерации\n",
        "# (потому что InfiniteList этого не предполагает)\n",
        "\n",
        "class FibonacciIterator:\n",
        "    def __init__(self, size_):\n",
        "        self.current_fibonacci_number: int = 0\n",
        "        self.next_fibonacci_number: int = 1\n",
        " \n",
        "        self.index: int = 0\n",
        "        self.size: int = size_\n",
        "\n",
        "    def __iter__(self):\n",
        "        return self\n",
        "\n",
        "    def __next__(self):\n",
        "        if self.index == self.size:\n",
        "            raise StopIteration\n",
        "        self.index += 1\n",
        "        return_value: int = self.current_fibonacci_number\n",
        "        self.current_fibonacci_number, self.next_fibonacci_number = (\n",
        "            self.next_fibonacci_number, self.current_fibonacci_number + self.next_fibonacci_number)\n",
        "        return return_value\n",
        "\n",
        "\n",
        "class FibonacciSequence:\n",
        "    \"\"\"\n",
        "    Объект при итерации по нему последовательно выдаёт числа Фибоначчи\n",
        "    от F0 = 0 до F(size - 1).\n",
        "    \"\"\"\n",
        "    def __init__(self, size: int):\n",
        "        if size < 0:\n",
        "            raise ValueError(\"size must not be negative\")\n",
        "        self.size: int = size\n",
        "    \n",
        "    def __iter__(self):\n",
        "        return FibonacciIterator(self.size)\n",
        "\n",
        "# # Как примерно устроен for внутри\n",
        "# my_iter = iter(NotAtAllGoodFibonacciSequence(16))\n",
        "# while True:\n",
        "#     try:\n",
        "#         new_value = next(my_iter)\n",
        "#         # Our code\n",
        "#     except StopIteration:\n",
        "#         break\n",
        "\n",
        "sequence = FibonacciSequence(16)\n",
        "print(list(sequence))\n",
        "print(list(sequence))\n",
        "# sequence = range(15)\n",
        "print(8 in sequence)\n",
        "print(5 in sequence)\n",
        "print(4 in sequence)\n",
        "print(4 in sequence)\n",
        "print(4 in sequence)\n",
        "print(610 in sequence)\n",
        "# print(\"END\")\n",
        "# fib_list = list(sequence)\n",
        "# print(fib_list)\n",
        "# for item in sequence:\n",
        "#     print(item)\n",
        "\n",
        "# print(3 in sequence)\n",
        "# print(4 in sequence)\n",
        "# print(5 in sequence)\n",
        "\n"
      ],
      "execution_count": null,
      "outputs": [
        {
          "output_type": "stream",
          "text": [
            "[0, 1, 1, 2, 3, 5, 8, 13, 21, 34, 55, 89, 144, 233, 377, 610]\n",
            "[0, 1, 1, 2, 3, 5, 8, 13, 21, 34, 55, 89, 144, 233, 377, 610]\n",
            "True\n",
            "True\n",
            "False\n",
            "False\n",
            "False\n",
            "True\n"
          ],
          "name": "stdout"
        }
      ]
    },
    {
      "cell_type": "code",
      "metadata": {
        "id": "GZiGB2w8fVYt"
      },
      "source": [
        "# # Как примерно устроен for внутри\n",
        "# my_iter = iter(NotAtAllGoodFibonacciSequence(16))\n",
        "# while True:\n",
        "#     try:\n",
        "#         new_value = next(my_iter)\n",
        "#         # Our code\n",
        "#     except StopIteration:\n",
        "#         break\n",
        "for i, item in enumerate(NotAtAllGoodFibonacciSequence(5)):\n",
        "    print(f\"F{i} == {item}\")"
      ],
      "execution_count": null,
      "outputs": []
    },
    {
      "cell_type": "code",
      "metadata": {
        "colab": {
          "base_uri": "https://localhost:8080/",
          "height": 165
        },
        "id": "2qJtC8wRc0LA",
        "outputId": "ad9b2c5e-d45d-4aac-e963-169c7bf7f79c"
      },
      "source": [
        "range(1, 5, 0)"
      ],
      "execution_count": null,
      "outputs": [
        {
          "output_type": "error",
          "ename": "ValueError",
          "evalue": "ignored",
          "traceback": [
            "\u001b[0;31m---------------------------------------------------------------------------\u001b[0m",
            "\u001b[0;31mValueError\u001b[0m                                Traceback (most recent call last)",
            "\u001b[0;32m<ipython-input-1-804d859fc41f>\u001b[0m in \u001b[0;36m<module>\u001b[0;34m()\u001b[0m\n\u001b[0;32m----> 1\u001b[0;31m \u001b[0mrange\u001b[0m\u001b[0;34m(\u001b[0m\u001b[0;36m1\u001b[0m\u001b[0;34m,\u001b[0m \u001b[0;36m5\u001b[0m\u001b[0;34m,\u001b[0m \u001b[0;36m0\u001b[0m\u001b[0;34m)\u001b[0m\u001b[0;34m\u001b[0m\u001b[0;34m\u001b[0m\u001b[0m\n\u001b[0m",
            "\u001b[0;31mValueError\u001b[0m: range() arg 3 must not be zero"
          ]
        }
      ]
    },
    {
      "cell_type": "code",
      "metadata": {
        "colab": {
          "base_uri": "https://localhost:8080/"
        },
        "id": "QfRth7UwlpK7",
        "outputId": "dd971a65-5c4f-44d3-ef6e-402f44dccf9d"
      },
      "source": [
        "set(dir(UserList))"
      ],
      "execution_count": null,
      "outputs": [
        {
          "output_type": "execute_result",
          "data": {
            "text/plain": [
              "{'_UserList__cast',\n",
              " '__abstractmethods__',\n",
              " '__add__',\n",
              " '__class__',\n",
              " '__contains__',\n",
              " '__copy__',\n",
              " '__delattr__',\n",
              " '__delitem__',\n",
              " '__dict__',\n",
              " '__dir__',\n",
              " '__doc__',\n",
              " '__eq__',\n",
              " '__format__',\n",
              " '__ge__',\n",
              " '__getattribute__',\n",
              " '__getitem__',\n",
              " '__gt__',\n",
              " '__hash__',\n",
              " '__iadd__',\n",
              " '__imul__',\n",
              " '__init__',\n",
              " '__init_subclass__',\n",
              " '__iter__',\n",
              " '__le__',\n",
              " '__len__',\n",
              " '__lt__',\n",
              " '__module__',\n",
              " '__mul__',\n",
              " '__ne__',\n",
              " '__new__',\n",
              " '__radd__',\n",
              " '__reduce__',\n",
              " '__reduce_ex__',\n",
              " '__repr__',\n",
              " '__reversed__',\n",
              " '__rmul__',\n",
              " '__setattr__',\n",
              " '__setitem__',\n",
              " '__sizeof__',\n",
              " '__slots__',\n",
              " '__str__',\n",
              " '__subclasshook__',\n",
              " '__weakref__',\n",
              " '_abc_impl',\n",
              " 'append',\n",
              " 'clear',\n",
              " 'copy',\n",
              " 'count',\n",
              " 'extend',\n",
              " 'index',\n",
              " 'insert',\n",
              " 'pop',\n",
              " 'remove',\n",
              " 'reverse',\n",
              " 'sort'}"
            ]
          },
          "metadata": {
            "tags": []
          },
          "execution_count": 64
        }
      ]
    },
    {
      "cell_type": "code",
      "metadata": {
        "colab": {
          "base_uri": "https://localhost:8080/"
        },
        "id": "H4s7VFBbb48w",
        "outputId": "ef59a59e-3b5d-40d9-ce3c-9169447c6144"
      },
      "source": [
        "set(dir(iter([]))) - set(dir(object()))"
      ],
      "execution_count": null,
      "outputs": [
        {
          "output_type": "execute_result",
          "data": {
            "text/plain": [
              "{'__iter__', '__length_hint__', '__next__', '__setstate__'}"
            ]
          },
          "metadata": {
            "tags": []
          },
          "execution_count": 41
        }
      ]
    },
    {
      "cell_type": "code",
      "metadata": {
        "colab": {
          "base_uri": "https://localhost:8080/"
        },
        "id": "raQKD5Uui343",
        "outputId": "3ebb2c74-fc37-4c5b-aff9-bdefed680312"
      },
      "source": [
        "print(dir([]))"
      ],
      "execution_count": null,
      "outputs": [
        {
          "output_type": "stream",
          "text": [
            "['__add__', '__class__', '__contains__', '__delattr__', '__delitem__', '__dir__', '__doc__', '__eq__', '__format__', '__ge__', '__getattribute__', '__getitem__', '__gt__', '__hash__', '__iadd__', '__imul__', '__init__', '__init_subclass__', '__iter__', '__le__', '__len__', '__lt__', '__mul__', '__ne__', '__new__', '__reduce__', '__reduce_ex__', '__repr__', '__reversed__', '__rmul__', '__setattr__', '__setitem__', '__sizeof__', '__str__', '__subclasshook__', 'append', 'clear', 'copy', 'count', 'extend', 'index', 'insert', 'pop', 'remove', 'reverse', 'sort']\n"
          ],
          "name": "stdout"
        }
      ]
    }
  ]
}