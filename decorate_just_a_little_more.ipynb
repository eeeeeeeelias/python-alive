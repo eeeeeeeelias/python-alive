{
  "nbformat": 4,
  "nbformat_minor": 0,
  "metadata": {
    "colab": {
      "name": "decorate just a little more.ipynb",
      "provenance": [],
      "collapsed_sections": [
        "Ja2GIgLH2W2I"
      ],
      "authorship_tag": "ABX9TyNo4g0XvaD/6X6JLE5HZN/f"
    },
    "kernelspec": {
      "name": "python3",
      "display_name": "Python 3"
    },
    "language_info": {
      "name": "python"
    }
  },
  "cells": [
    {
      "cell_type": "markdown",
      "source": [
        "`decorator` `functools` `class decorator` `try..except`"
      ],
      "metadata": {
        "id": "TfJmJix7dn3Z"
      }
    },
    {
      "cell_type": "markdown",
      "source": [
        "- оставляйте фамилию в названии колаба\n",
        "- не оставляйте слова типа \"копия\" в названии колаба\n",
        "- если присылаете ссылку на колаб – пишите в сообщении со ссылкой, что это за задание\n",
        "- если присылаете файл – пишите в сообщении, что это за задание"
      ],
      "metadata": {
        "id": "TGMYEGEL9TB_"
      }
    },
    {
      "cell_type": "markdown",
      "source": [
        "Ссылка на этот колаб:\n",
        "\n",
        "https://colab.research.google.com/drive/1LmK1umdkCK37LcEjtTith3j2Hgmq_2sI?usp=sharing"
      ],
      "metadata": {
        "id": "Hl0Kezov9L-B"
      }
    },
    {
      "cell_type": "markdown",
      "source": [
        "### `@count_calls`"
      ],
      "metadata": {
        "id": "6WFL3ll41OZI"
      }
    },
    {
      "cell_type": "markdown",
      "source": [
        "Реализуйте декоратор `@count_calls`, который подсчитывает количество вызовов функции. Количество вызовов хранится в поле `.num_calls`."
      ],
      "metadata": {
        "id": "5dnTSYAJyilM"
      }
    },
    {
      "cell_type": "code",
      "source": [
        "# ПРИМЕР\n",
        "@count_calls\n",
        "def f(x):\n",
        "    print(x)\n",
        "    return x + 1\n",
        "\n",
        "\n",
        "print(f.num_calls)  # 0\n",
        "f(1)\n",
        "f(2)\n",
        "f(3)\n",
        "f(2)\n",
        "print(f.num_calls)  # 4"
      ],
      "metadata": {
        "id": "W3CJ9_R4ypsf"
      },
      "execution_count": null,
      "outputs": []
    },
    {
      "cell_type": "markdown",
      "source": [
        "### `@suppress`"
      ],
      "metadata": {
        "id": "vbh1XJ5a1Rtz"
      }
    },
    {
      "cell_type": "markdown",
      "source": [
        "_англ. suppress – подавлять_\n",
        "\n",
        "Реализуйте декоратор @suppress, который воздействует на функцию следующим образом. Если отдекорированная функция кидает исключение, оно подавляется, а возвращается None. В противном случае её вызов ведёт себя как обычно."
      ],
      "metadata": {
        "id": "_dq8r0Jk21Pe"
      }
    },
    {
      "cell_type": "code",
      "source": [
        "# ПРИМЕР\n",
        "@suppress\n",
        "def count_60_by(x):\n",
        "    return 60 // x\n",
        "\n",
        "\n",
        "print(count_60_by(1))  # 60\n",
        "print(count_60_by(2))  # 30\n",
        "print(count_60_by(0))  # None\n",
        "print(count_60_by(12))  # 5"
      ],
      "metadata": {
        "id": "obZssH988pBC"
      },
      "execution_count": null,
      "outputs": []
    },
    {
      "cell_type": "markdown",
      "source": [
        "### `CountCalls`"
      ],
      "metadata": {
        "id": "8bJO9b-z1UWR"
      }
    },
    {
      "cell_type": "markdown",
      "source": [
        "Реализуйте класс `CountCalls`, с помощью которого можно декорировать функцию. Поведение должно быть абсолютно аналогично `@count_calls`."
      ],
      "metadata": {
        "id": "BFRdG88p2O_J"
      }
    },
    {
      "cell_type": "code",
      "source": [
        "# ПРИМЕР\n",
        "@CountCalls\n",
        "def f(x):\n",
        "    print(x)\n",
        "    return x + 1\n",
        "\n",
        "\n",
        "print(f.num_calls)  # 0\n",
        "f(1)\n",
        "f(2)\n",
        "f(3)\n",
        "f(2)\n",
        "print(f.num_calls)  # 4"
      ],
      "metadata": {
        "id": "ufA9eQGK2G5n"
      },
      "execution_count": null,
      "outputs": []
    },
    {
      "cell_type": "markdown",
      "source": [
        "### Место для вашего кода (для всех декораторов)"
      ],
      "metadata": {
        "id": "Ja2GIgLH2W2I"
      }
    },
    {
      "cell_type": "code",
      "source": [
        "%%file decorators.py\n",
        "import functools\n",
        "\n",
        "def count_calls(func):\n",
        "    raise NotImplementedError\n",
        "\n",
        "\n",
        "def suppress(func):\n",
        "    raise NotImplementedError\n",
        "\n",
        "\n",
        "class CountCalls:\n",
        "    raise NotImplementedError\n"
      ],
      "metadata": {
        "id": "Vt3J8HAB2UtD",
        "colab": {
          "base_uri": "https://localhost:8080/"
        },
        "outputId": "cdff9a0d-31fe-4eea-8fc1-5daee2223b91"
      },
      "execution_count": null,
      "outputs": [
        {
          "output_type": "stream",
          "name": "stdout",
          "text": [
            "Writing decorators.py\n"
          ]
        }
      ]
    },
    {
      "cell_type": "markdown",
      "source": [
        "### Файл с тестами"
      ],
      "metadata": {
        "id": "3B1_i9Bkq3iM"
      }
    },
    {
      "cell_type": "code",
      "source": [
        "%%file test_decorators.py\n",
        "import pytest\n",
        "\n",
        "from decorators import count_calls, suppress, CountCalls\n",
        "\n",
        "\n",
        "def get_args_and_kwargs_str(*args, **kwargs):\n",
        "    args_str = ''.join(str(arg) for arg in args)\n",
        "    kwargs_str = ''.join(str(kwarg) for kwarg in kwargs.values())\n",
        "    return args_str + kwargs_str\n",
        "\n",
        "\n",
        "def get_5th_element(sequence):\n",
        "    return sequence[4]\n",
        "\n",
        "\n",
        "def divide_60_by_x(x: int) -> int:\n",
        "    return 60 // x\n",
        "\n",
        "\n",
        "def test_count_calls_many_functions():\n",
        "    decorated_divide_60_by_x = count_calls(divide_60_by_x)\n",
        "    decorated_get_args_and_kwargs_str = count_calls(get_args_and_kwargs_str)\n",
        "    for i in range(11):\n",
        "        decorated_get_args_and_kwargs_str(5, b=6)\n",
        "    for i in range(6):\n",
        "        decorated_divide_60_by_x(5)\n",
        "    assert decorated_get_args_and_kwargs_str.num_calls == 11\n",
        "    assert decorated_divide_60_by_x.num_calls == 6\n",
        "\n",
        "\n",
        "def test_count_calls():\n",
        "    decorated_f = count_calls(get_args_and_kwargs_str)\n",
        "    assert decorated_f.num_calls == 0\n",
        "    for i in range(10):\n",
        "        assert decorated_f(2, 4, 'ab', b=3, c=7) == '24ab37'\n",
        "        assert decorated_f.num_calls == 2 * i + 1\n",
        "        assert decorated_f() == ''\n",
        "        assert decorated_f.num_calls == 2 * i + 2\n",
        "\n",
        "\n",
        "def test_CountCalls():\n",
        "    decorated_f = CountCalls(get_args_and_kwargs_str)\n",
        "    assert decorated_f.num_calls == 0\n",
        "    for i in range(10):\n",
        "        assert decorated_f(2, 4, 'ab', b=3, c=7) == '24ab37'\n",
        "        assert decorated_f.num_calls == 2 * i + 1\n",
        "        assert decorated_f() == ''\n",
        "        assert decorated_f.num_calls == 2 * i + 2\n",
        "\n",
        "\n",
        "def test_CountCalls_many_functions():\n",
        "    decorated_divide_60_by_x = CountCalls(divide_60_by_x)\n",
        "    decorated_get_args_and_kwargs_str = CountCalls(get_args_and_kwargs_str)\n",
        "    for i in range(11):\n",
        "        decorated_get_args_and_kwargs_str(5, b=6)\n",
        "    for i in range(6):\n",
        "        decorated_divide_60_by_x(5)\n",
        "    assert decorated_get_args_and_kwargs_str.num_calls == 11\n",
        "    assert decorated_divide_60_by_x.num_calls == 6\n",
        "\n",
        "\n",
        "def test_suppress():\n",
        "    decorated_f = suppress(divide_60_by_x)\n",
        "    assert decorated_f(60) == 1\n",
        "    assert decorated_f(30) == 2\n",
        "    assert decorated_f(5) == 12\n",
        "    assert decorated_f(0) is None\n",
        "\n",
        "    decorated_f = suppress(get_5th_element)\n",
        "    assert decorated_f([]) is None\n",
        "    assert decorated_f([4, 1, 6, 2, 7]) == 7\n",
        "\n",
        "\n",
        "@pytest.mark.parametrize(\n",
        "    'decorator',\n",
        "    [count_calls, suppress, CountCalls]\n",
        ")\n",
        "def test_func_saves_its_properties(decorator):\n",
        "    decorated_func = decorator(divide_60_by_x)\n",
        "    assert decorated_func.__name__ == divide_60_by_x.__name__\n",
        "    assert decorated_func.__annotations__ == divide_60_by_x.__annotations__\n",
        "    assert decorated_func.__qualname__ == divide_60_by_x.__qualname__\n",
        "    assert decorated_func.__doc__ == divide_60_by_x.__doc__\n",
        "    assert decorated_func.__module__ == divide_60_by_x.__module__\n",
        "\n"
      ],
      "metadata": {
        "colab": {
          "base_uri": "https://localhost:8080/"
        },
        "id": "zTp8OpHMppls",
        "outputId": "fb462416-f2d0-4b8d-e3a4-2d260f61dacd"
      },
      "execution_count": null,
      "outputs": [
        {
          "output_type": "stream",
          "name": "stdout",
          "text": [
            "Writing test_decorators.py\n"
          ]
        }
      ]
    },
    {
      "cell_type": "markdown",
      "source": [
        "### Проверки"
      ],
      "metadata": {
        "id": "Q47f0VoPq6AH"
      }
    },
    {
      "cell_type": "code",
      "source": [
        "!python -m pip install pytest pylint flake8"
      ],
      "metadata": {
        "id": "iCnsXQajq9MF"
      },
      "execution_count": null,
      "outputs": []
    },
    {
      "cell_type": "code",
      "source": [
        "!python -m pytest test_decorators.py -vv"
      ],
      "metadata": {
        "id": "HxrZPYbcrASr"
      },
      "execution_count": null,
      "outputs": []
    },
    {
      "cell_type": "code",
      "source": [
        "!python -m pylint decorators.py --disable=W0703,R0903"
      ],
      "metadata": {
        "id": "W8VJmJbKrBO0"
      },
      "execution_count": null,
      "outputs": []
    },
    {
      "cell_type": "code",
      "source": [
        "!python -m flake8 decorators.py --max-line-length=100"
      ],
      "metadata": {
        "id": "K_M3yHRSrCoT"
      },
      "execution_count": null,
      "outputs": []
    }
  ]
}